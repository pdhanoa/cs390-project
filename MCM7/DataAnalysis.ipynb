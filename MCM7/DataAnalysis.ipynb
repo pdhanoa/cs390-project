{
 "cells": [
  {
   "cell_type": "code",
   "execution_count": 3,
   "metadata": {},
   "outputs": [],
   "source": [
    "import matplotlib.pyplot as plt\n",
    "import pandas as pd\n",
    "# import shapefile as shp  # Requires the pyshp package\n",
    "import matplotlib.pyplot as plt\n",
    "import seaborn as sns"
   ]
  },
  {
   "cell_type": "code",
   "execution_count": 4,
   "metadata": {},
   "outputs": [
    {
     "name": "stderr",
     "output_type": "stream",
     "text": [
      "C:\\Users\\dhano\\AppData\\Local\\Temp\\ipykernel_28896\\2397170634.py:1: DtypeWarning: Columns (14,28,37,38) have mixed types. Specify dtype option on import or set low_memory=False.\n",
      "  df = pd.read_csv('data/convert_MCMF_ALL_TIME_DATA.csv', sep = '\\t')\n"
     ]
    },
    {
     "data": {
      "text/html": [
       "<div>\n",
       "<style scoped>\n",
       "    .dataframe tbody tr th:only-of-type {\n",
       "        vertical-align: middle;\n",
       "    }\n",
       "\n",
       "    .dataframe tbody tr th {\n",
       "        vertical-align: top;\n",
       "    }\n",
       "\n",
       "    .dataframe thead th {\n",
       "        text-align: right;\n",
       "    }\n",
       "</style>\n",
       "<table border=\"1\" class=\"dataframe\">\n",
       "  <thead>\n",
       "    <tr style=\"text-align: right;\">\n",
       "      <th></th>\n",
       "      <th>IndexRow</th>\n",
       "      <th>Id</th>\n",
       "      <th>Logo Url</th>\n",
       "      <th>Program Name</th>\n",
       "      <th>Description</th>\n",
       "      <th>Org Name</th>\n",
       "      <th>Category Name</th>\n",
       "      <th>Capacity</th>\n",
       "      <th>Min Age</th>\n",
       "      <th>Max Age</th>\n",
       "      <th>...</th>\n",
       "      <th>Contact Email</th>\n",
       "      <th>Contact Phone</th>\n",
       "      <th>Program Price</th>\n",
       "      <th>Geographic Cluster Name</th>\n",
       "      <th>Program Pays Participants</th>\n",
       "      <th>Program Has Scholarships</th>\n",
       "      <th>Program Provides Transportation</th>\n",
       "      <th>Latitude</th>\n",
       "      <th>Longitude</th>\n",
       "      <th>Program Provides Free Food</th>\n",
       "    </tr>\n",
       "  </thead>\n",
       "  <tbody>\n",
       "    <tr>\n",
       "      <th>0</th>\n",
       "      <td>4,568</td>\n",
       "      <td>78752</td>\n",
       "      <td>NaN</td>\n",
       "      <td>BBBS Community Based Mentoring (Year Round)</td>\n",
       "      <td>Community Based Mentoring is the traditional B...</td>\n",
       "      <td>Big Brothers Big Sisters</td>\n",
       "      <td>Academic Support</td>\n",
       "      <td>2000.0</td>\n",
       "      <td>7</td>\n",
       "      <td>15</td>\n",
       "      <td>...</td>\n",
       "      <td>recruitment@bbbschgo.org</td>\n",
       "      <td>NaN</td>\n",
       "      <td>Free</td>\n",
       "      <td>NEAR WEST SIDE</td>\n",
       "      <td>Not Paid</td>\n",
       "      <td>YES</td>\n",
       "      <td>YES</td>\n",
       "      <td>41.886002</td>\n",
       "      <td>-87.642403</td>\n",
       "      <td>False</td>\n",
       "    </tr>\n",
       "    <tr>\n",
       "      <th>1</th>\n",
       "      <td>4,569</td>\n",
       "      <td>78752</td>\n",
       "      <td>NaN</td>\n",
       "      <td>BBBS Community Based Mentoring (Year Round)</td>\n",
       "      <td>Community Based Mentoring is the traditional B...</td>\n",
       "      <td>Big Brothers Big Sisters</td>\n",
       "      <td>Work + Career</td>\n",
       "      <td>2000.0</td>\n",
       "      <td>7</td>\n",
       "      <td>15</td>\n",
       "      <td>...</td>\n",
       "      <td>recruitment@bbbschgo.org</td>\n",
       "      <td>NaN</td>\n",
       "      <td>Free</td>\n",
       "      <td>NEAR WEST SIDE</td>\n",
       "      <td>Not Paid</td>\n",
       "      <td>YES</td>\n",
       "      <td>YES</td>\n",
       "      <td>41.886002</td>\n",
       "      <td>-87.642403</td>\n",
       "      <td>False</td>\n",
       "    </tr>\n",
       "    <tr>\n",
       "      <th>2</th>\n",
       "      <td>4,562</td>\n",
       "      <td>78749</td>\n",
       "      <td>https://cityoflearning-uploads.s3.amazonaws.co...</td>\n",
       "      <td>Youth Mentoring and Academic Supports</td>\n",
       "      <td>Young Men's Educational Network provides mento...</td>\n",
       "      <td>Youth Mentoring and Academic Supports</td>\n",
       "      <td>Academic Support</td>\n",
       "      <td>100.0</td>\n",
       "      <td>12</td>\n",
       "      <td>18</td>\n",
       "      <td>...</td>\n",
       "      <td>wchatman@ymenchicago.com</td>\n",
       "      <td>NaN</td>\n",
       "      <td>Free</td>\n",
       "      <td>NORTH LAWNDALE</td>\n",
       "      <td>Not Paid</td>\n",
       "      <td>NO</td>\n",
       "      <td>NO</td>\n",
       "      <td>41.864799</td>\n",
       "      <td>-87.724800</td>\n",
       "      <td>True</td>\n",
       "    </tr>\n",
       "    <tr>\n",
       "      <th>3</th>\n",
       "      <td>4,563</td>\n",
       "      <td>78749</td>\n",
       "      <td>https://cityoflearning-uploads.s3.amazonaws.co...</td>\n",
       "      <td>Youth Mentoring and Academic Supports</td>\n",
       "      <td>Young Men's Educational Network provides mento...</td>\n",
       "      <td>Youth Mentoring and Academic Supports</td>\n",
       "      <td>Music &amp; Art.</td>\n",
       "      <td>100.0</td>\n",
       "      <td>12</td>\n",
       "      <td>18</td>\n",
       "      <td>...</td>\n",
       "      <td>wchatman@ymenchicago.com</td>\n",
       "      <td>NaN</td>\n",
       "      <td>Free</td>\n",
       "      <td>NORTH LAWNDALE</td>\n",
       "      <td>Not Paid</td>\n",
       "      <td>NO</td>\n",
       "      <td>NO</td>\n",
       "      <td>41.864799</td>\n",
       "      <td>-87.724800</td>\n",
       "      <td>True</td>\n",
       "    </tr>\n",
       "    <tr>\n",
       "      <th>4</th>\n",
       "      <td>4,557</td>\n",
       "      <td>78746</td>\n",
       "      <td>https://cityoflearning-uploads.s3.amazonaws.co...</td>\n",
       "      <td>Refugee Youth Career Pathways</td>\n",
       "      <td>Refugee Youth Career Pathways (RYCP) provides ...</td>\n",
       "      <td>RefugeeOne</td>\n",
       "      <td>Managing Money.</td>\n",
       "      <td>15.0</td>\n",
       "      <td>16</td>\n",
       "      <td>24</td>\n",
       "      <td>...</td>\n",
       "      <td>NaN</td>\n",
       "      <td>NaN</td>\n",
       "      <td>Free</td>\n",
       "      <td>NaN</td>\n",
       "      <td>Not Paid</td>\n",
       "      <td>YES</td>\n",
       "      <td>YES</td>\n",
       "      <td>NaN</td>\n",
       "      <td>NaN</td>\n",
       "      <td>False</td>\n",
       "    </tr>\n",
       "  </tbody>\n",
       "</table>\n",
       "<p>5 rows × 56 columns</p>\n",
       "</div>"
      ],
      "text/plain": [
       "  IndexRow     Id                                           Logo Url   \n",
       "0    4,568  78752                                                NaN  \\\n",
       "1    4,569  78752                                                NaN   \n",
       "2    4,562  78749  https://cityoflearning-uploads.s3.amazonaws.co...   \n",
       "3    4,563  78749  https://cityoflearning-uploads.s3.amazonaws.co...   \n",
       "4    4,557  78746  https://cityoflearning-uploads.s3.amazonaws.co...   \n",
       "\n",
       "                                  Program Name   \n",
       "0  BBBS Community Based Mentoring (Year Round)  \\\n",
       "1  BBBS Community Based Mentoring (Year Round)   \n",
       "2        Youth Mentoring and Academic Supports   \n",
       "3        Youth Mentoring and Academic Supports   \n",
       "4                Refugee Youth Career Pathways   \n",
       "\n",
       "                                         Description   \n",
       "0  Community Based Mentoring is the traditional B...  \\\n",
       "1  Community Based Mentoring is the traditional B...   \n",
       "2  Young Men's Educational Network provides mento...   \n",
       "3  Young Men's Educational Network provides mento...   \n",
       "4  Refugee Youth Career Pathways (RYCP) provides ...   \n",
       "\n",
       "                                Org Name     Category Name  Capacity  Min Age   \n",
       "0               Big Brothers Big Sisters  Academic Support    2000.0        7  \\\n",
       "1               Big Brothers Big Sisters    Work + Career     2000.0        7   \n",
       "2  Youth Mentoring and Academic Supports  Academic Support     100.0       12   \n",
       "3  Youth Mentoring and Academic Supports      Music & Art.     100.0       12   \n",
       "4                             RefugeeOne   Managing Money.      15.0       16   \n",
       "\n",
       "   Max Age  ...             Contact Email Contact Phone Program Price   \n",
       "0       15  ...  recruitment@bbbschgo.org           NaN          Free  \\\n",
       "1       15  ...  recruitment@bbbschgo.org           NaN          Free   \n",
       "2       18  ...  wchatman@ymenchicago.com           NaN          Free   \n",
       "3       18  ...  wchatman@ymenchicago.com           NaN          Free   \n",
       "4       24  ...                       NaN           NaN          Free   \n",
       "\n",
       "  Geographic Cluster Name Program Pays Participants Program Has Scholarships   \n",
       "0          NEAR WEST SIDE                  Not Paid                      YES  \\\n",
       "1          NEAR WEST SIDE                  Not Paid                      YES   \n",
       "2          NORTH LAWNDALE                  Not Paid                       NO   \n",
       "3          NORTH LAWNDALE                  Not Paid                       NO   \n",
       "4                     NaN                  Not Paid                      YES   \n",
       "\n",
       "  Program Provides Transportation   Latitude  Longitude   \n",
       "0                             YES  41.886002 -87.642403  \\\n",
       "1                             YES  41.886002 -87.642403   \n",
       "2                              NO  41.864799 -87.724800   \n",
       "3                              NO  41.864799 -87.724800   \n",
       "4                             YES        NaN        NaN   \n",
       "\n",
       "  Program Provides Free Food  \n",
       "0                      False  \n",
       "1                      False  \n",
       "2                       True  \n",
       "3                       True  \n",
       "4                      False  \n",
       "\n",
       "[5 rows x 56 columns]"
      ]
     },
     "execution_count": 4,
     "metadata": {},
     "output_type": "execute_result"
    }
   ],
   "source": [
    "df = pd.read_csv('data/convert_MCMF_ALL_TIME_DATA.csv', sep = '\\t')\n",
    "df = df[df['Min Age'] <= 25]\n",
    "df.head()"
   ]
  },
  {
   "cell_type": "code",
   "execution_count": 73,
   "metadata": {},
   "outputs": [
    {
     "data": {
      "text/plain": [
       "Index(['IndexRow', 'Id', 'Logo Url', 'Program Name', 'Description', 'Org Name',\n",
       "       'Category Name', 'Capacity', 'Min Age', 'Max Age', 'Meeting Type',\n",
       "       'Address', 'City', 'State', 'Zipcode', 'Online Address', 'Program Url',\n",
       "       'Registration Url', 'Registration Open', 'Registration Deadline',\n",
       "       'Start Date', 'End Date', 'Start Time', 'End Time', 'Scheduled Mon',\n",
       "       'Scheduled Tues', 'Scheduled Fri', 'Scheduled Sat', 'Scheduled Sun',\n",
       "       'Scheduled Thurs', 'Scheduled Wed', 'Fri End Time', 'Fri Start Time',\n",
       "       'Mon End Time', 'Mon Start Time', 'Sat End Time', 'Sat Start Time',\n",
       "       'Sun End Time', 'Sun Start Time', 'Thurs End Time', 'Thurs Start Time',\n",
       "       'Tues End Time', 'Tues Start Time', 'Wed End Time', 'Wed Start Time',\n",
       "       'Contact Name', 'Contact Email', 'Contact Phone', 'Program Price',\n",
       "       'Geographic Cluster Name', 'Program Pays Participants',\n",
       "       'Program Has Scholarships', 'Program Provides Transportation',\n",
       "       'Latitude', 'Longitude', 'Program Provides Free Food'],\n",
       "      dtype='object')"
      ]
     },
     "execution_count": 73,
     "metadata": {},
     "output_type": "execute_result"
    }
   ],
   "source": [
    "df.columns"
   ]
  },
  {
   "cell_type": "code",
   "execution_count": 26,
   "metadata": {},
   "outputs": [
    {
     "data": {
      "image/png": "[encoded data removed]",
      "text/plain": [
       "<Figure size 640x480 with 1 Axes>"
      ]
     },
     "metadata": {},
     "output_type": "display_data"
    }
   ],
   "source": [
    "from datetime import datetime\n",
    "# plt.hist(x=df['Mon Start Time'])\n",
    "\n",
    "def chart(occurance_list):\n",
    "    datetime_list = [datetime.strptime(datetime_str, '%H:%M:%S') for datetime_str in occurance_list]\n",
    "    hour_list = [t.hour for t in datetime_list]\n",
    "#     print hour_list\n",
    "    numbers=[x for x in range(0,24)]\n",
    "    labels=map(lambda x: str(x), numbers)\n",
    "    plt.xticks(numbers, labels)\n",
    "    plt.xlim(0,24)\n",
    "    plt.hist(hour_list)\n",
    "    plt.show()\n",
    "    \n",
    "chart(df['Thurs Start Time'].dropna())"
   ]
  },
  {
   "cell_type": "code",
   "execution_count": 4,
   "metadata": {},
   "outputs": [
    {
     "data": {
      "text/plain": [
       "array(['Free', '$50 or Less', 'More Than $50', 'Unknown'], dtype=object)"
      ]
     },
     "execution_count": 4,
     "metadata": {},
     "output_type": "execute_result"
    }
   ],
   "source": [
    "df['Program Price'].unique()"
   ]
  },
  {
   "cell_type": "code",
   "execution_count": 12,
   "metadata": {},
   "outputs": [
    {
     "ename": "AttributeError",
     "evalue": "'str' object has no attribute 'hour'",
     "output_type": "error",
     "traceback": [
      "\u001b[1;31m---------------------------------------------------------------------------\u001b[0m",
      "\u001b[1;31mAttributeError\u001b[0m                            Traceback (most recent call last)",
      "Cell \u001b[1;32mIn[12], line 2\u001b[0m\n\u001b[0;32m      1\u001b[0m mon_hours \u001b[38;5;241m=\u001b[39m df[\u001b[38;5;124m'\u001b[39m\u001b[38;5;124mMon Start Time\u001b[39m\u001b[38;5;124m'\u001b[39m]\u001b[38;5;241m.\u001b[39mdropna()\u001b[38;5;241m.\u001b[39munique()\n\u001b[1;32m----> 2\u001b[0m \u001b[43mchart\u001b[49m\u001b[43m(\u001b[49m\u001b[43mmon_hours\u001b[49m\u001b[43m)\u001b[49m\n",
      "Cell \u001b[1;32mIn[8], line 4\u001b[0m, in \u001b[0;36mchart\u001b[1;34m(occurance_list)\u001b[0m\n\u001b[0;32m      3\u001b[0m \u001b[38;5;28;01mdef\u001b[39;00m \u001b[38;5;21mchart\u001b[39m(occurance_list):\n\u001b[1;32m----> 4\u001b[0m     hour_list \u001b[38;5;241m=\u001b[39m [t\u001b[38;5;241m.\u001b[39mhour \u001b[38;5;28;01mfor\u001b[39;00m t \u001b[38;5;129;01min\u001b[39;00m occurance_list]\n\u001b[0;32m      5\u001b[0m \u001b[38;5;66;03m#     print hour_list\u001b[39;00m\n\u001b[0;32m      6\u001b[0m     numbers\u001b[38;5;241m=\u001b[39m[x \u001b[38;5;28;01mfor\u001b[39;00m x \u001b[38;5;129;01min\u001b[39;00m xrange(\u001b[38;5;241m0\u001b[39m,\u001b[38;5;241m24\u001b[39m)]\n",
      "Cell \u001b[1;32mIn[8], line 4\u001b[0m, in \u001b[0;36m<listcomp>\u001b[1;34m(.0)\u001b[0m\n\u001b[0;32m      3\u001b[0m \u001b[38;5;28;01mdef\u001b[39;00m \u001b[38;5;21mchart\u001b[39m(occurance_list):\n\u001b[1;32m----> 4\u001b[0m     hour_list \u001b[38;5;241m=\u001b[39m [\u001b[43mt\u001b[49m\u001b[38;5;241;43m.\u001b[39;49m\u001b[43mhour\u001b[49m \u001b[38;5;28;01mfor\u001b[39;00m t \u001b[38;5;129;01min\u001b[39;00m occurance_list]\n\u001b[0;32m      5\u001b[0m \u001b[38;5;66;03m#     print hour_list\u001b[39;00m\n\u001b[0;32m      6\u001b[0m     numbers\u001b[38;5;241m=\u001b[39m[x \u001b[38;5;28;01mfor\u001b[39;00m x \u001b[38;5;129;01min\u001b[39;00m xrange(\u001b[38;5;241m0\u001b[39m,\u001b[38;5;241m24\u001b[39m)]\n",
      "\u001b[1;31mAttributeError\u001b[0m: 'str' object has no attribute 'hour'"
     ]
    }
   ],
   "source": [
    "mon_hours = df['Mon Start Time'].dropna().unique()\n",
    "chart(mon_hours)"
   ]
  },
  {
   "cell_type": "code",
   "execution_count": 5,
   "metadata": {},
   "outputs": [
    {
     "data": {
      "text/plain": [
       "array(['Academic Support', 'Work + Career ', 'Music & Art.',\n",
       "       'Managing Money.', 'Helping Your Community.', 'Reading & Writing',\n",
       "       'Sports + Wellness.', 'Computers.', 'Science ',\n",
       "       'Building And Fixing Things', 'Computers', 'Performance.',\n",
       "       'Helping Your Community', 'Science & Math', 'Food', 'Food.',\n",
       "       'Building & Fixing Things', 'Reading & Writing.', 'Math',\n",
       "       'Digital Media.', 'Nature.', 'Healthcare', 'Transportation',\n",
       "       'Social Studies ', 'Teaching', 'Law', 'Customer/Human Service',\n",
       "       nan], dtype=object)"
      ]
     },
     "execution_count": 5,
     "metadata": {},
     "output_type": "execute_result"
    }
   ],
   "source": [
    "df['Category Name'].unique() "
   ]
  },
  {
   "cell_type": "code",
   "execution_count": 6,
   "metadata": {},
   "outputs": [
    {
     "data": {
      "text/plain": [
       "84606"
      ]
     },
     "execution_count": 6,
     "metadata": {},
     "output_type": "execute_result"
    }
   ],
   "source": [
    "price_df = df['Program Price'].count() \n",
    "price_df"
   ]
  },
  {
   "cell_type": "code",
   "execution_count": 7,
   "metadata": {},
   "outputs": [
    {
     "data": {
      "text/plain": [
       "Program Price\n",
       "$50 or Less      38.212420\n",
       "Free             43.636385\n",
       "More Than $50    13.928090\n",
       "Unknown           4.223105\n",
       "dtype: float64"
      ]
     },
     "execution_count": 7,
     "metadata": {},
     "output_type": "execute_result"
    }
   ],
   "source": [
    "program_dist = 100*df.groupby(['Program Price']).size()/(len(df))\n",
    "program_dist"
   ]
  },
  {
   "cell_type": "code",
   "execution_count": 8,
   "metadata": {},
   "outputs": [
    {
     "data": {
      "image/png": "[encoded data removed]",
      "text/plain": [
       "<Figure size 432x288 with 1 Axes>"
      ]
     },
     "metadata": {},
     "output_type": "display_data"
    }
   ],
   "source": [
    "plt.pie(program_dist, labels = program_dist.keys())\n",
    "plt.show()"
   ]
  },
  {
   "cell_type": "code",
   "execution_count": 9,
   "metadata": {},
   "outputs": [
    {
     "data": {
      "text/plain": [
       "Category Name\n",
       "Academic Support               3.174716\n",
       "Building & Fixing Things       1.427795\n",
       "Building And Fixing Things     0.002364\n",
       "Computers                      0.007092\n",
       "Computers.                     1.316691\n",
       "Customer/Human Service         0.046096\n",
       "Digital Media.                 0.282486\n",
       "Food                           0.001182\n",
       "Food.                          0.644162\n",
       "Healthcare                     0.685531\n",
       "Helping Your Community         0.001182\n",
       "Helping Your Community.        0.793088\n",
       "Law                            0.008274\n",
       "Managing Money.                0.419592\n",
       "Math                           0.047278\n",
       "Music & Art.                  23.529064\n",
       "Nature.                        2.113325\n",
       "Performance.                   0.704442\n",
       "Reading & Writing              0.001182\n",
       "Reading & Writing.            10.398790\n",
       "Science                        1.811928\n",
       "Science & Math                 0.005910\n",
       "Social Studies                 0.203295\n",
       "Sports + Wellness.            51.806018\n",
       "Teaching                       0.024821\n",
       "Transportation                 0.015365\n",
       "Work + Career                  0.525967\n",
       "dtype: float64"
      ]
     },
     "execution_count": 9,
     "metadata": {},
     "output_type": "execute_result"
    }
   ],
   "source": [
    "category_dist = 100*df.groupby(['Category Name']).size()/(len(df))\n",
    "category_dist"
   ]
  },
  {
   "cell_type": "code",
   "execution_count": 71,
   "metadata": {},
   "outputs": [
    {
     "data": {
      "text/plain": [
       "Category Name\n",
       "Academic Support             3.174716\n",
       "Building & Fixing Things     1.430159\n",
       "Computers                    1.323783\n",
       "Customer/Human Service       0.046096\n",
       "Digital Media                0.282486\n",
       "Food                         0.645344\n",
       "Healthcare                   0.685531\n",
       "Helping Your Community       0.794270\n",
       "Law                          0.008274\n",
       "Managing Money               0.419592\n",
       "Music & Art                 23.529064\n",
       "Nature                       2.113325\n",
       "Performance.                 0.704442\n",
       "Reading & Writing           10.399972\n",
       "Science & Math               1.865116\n",
       "Social Studies               0.203295\n",
       "Sports & Wellness           51.806018\n",
       "Teaching                     0.024821\n",
       "Transportation               0.015365\n",
       "Work + Career                0.525967\n",
       "dtype: float64"
      ]
     },
     "execution_count": 71,
     "metadata": {},
     "output_type": "execute_result"
    }
   ],
   "source": [
    "category_dist"
   ]
  },
  {
   "cell_type": "code",
   "execution_count": 74,
   "metadata": {},
   "outputs": [
    {
     "data": {
      "text/html": [
       "<div>\n",
       "<style scoped>\n",
       "    .dataframe tbody tr th:only-of-type {\n",
       "        vertical-align: middle;\n",
       "    }\n",
       "\n",
       "    .dataframe tbody tr th {\n",
       "        vertical-align: top;\n",
       "    }\n",
       "\n",
       "    .dataframe thead th {\n",
       "        text-align: right;\n",
       "    }\n",
       "</style>\n",
       "<table border=\"1\" class=\"dataframe\">\n",
       "  <thead>\n",
       "    <tr style=\"text-align: right;\">\n",
       "      <th></th>\n",
       "      <th>IndexRow</th>\n",
       "      <th>Id</th>\n",
       "      <th>Logo Url</th>\n",
       "      <th>Program Name</th>\n",
       "      <th>Description</th>\n",
       "      <th>Org Name</th>\n",
       "      <th>Category Name</th>\n",
       "      <th>Capacity</th>\n",
       "      <th>Min Age</th>\n",
       "      <th>Max Age</th>\n",
       "      <th>...</th>\n",
       "      <th>Contact Email</th>\n",
       "      <th>Contact Phone</th>\n",
       "      <th>Program Price</th>\n",
       "      <th>Geographic Cluster Name</th>\n",
       "      <th>Program Pays Participants</th>\n",
       "      <th>Program Has Scholarships</th>\n",
       "      <th>Program Provides Transportation</th>\n",
       "      <th>Latitude</th>\n",
       "      <th>Longitude</th>\n",
       "      <th>Program Provides Free Food</th>\n",
       "    </tr>\n",
       "  </thead>\n",
       "  <tbody>\n",
       "    <tr>\n",
       "      <th>0</th>\n",
       "      <td>4,568</td>\n",
       "      <td>78752</td>\n",
       "      <td>NaN</td>\n",
       "      <td>BBBS Community Based Mentoring (Year Round)</td>\n",
       "      <td>Community Based Mentoring is the traditional B...</td>\n",
       "      <td>Big Brothers Big Sisters</td>\n",
       "      <td>Academic Support</td>\n",
       "      <td>2000.0</td>\n",
       "      <td>7</td>\n",
       "      <td>15</td>\n",
       "      <td>...</td>\n",
       "      <td>recruitment@bbbschgo.org</td>\n",
       "      <td>NaN</td>\n",
       "      <td>Free</td>\n",
       "      <td>NEAR WEST SIDE</td>\n",
       "      <td>Not Paid</td>\n",
       "      <td>YES</td>\n",
       "      <td>YES</td>\n",
       "      <td>41.886002</td>\n",
       "      <td>-87.642403</td>\n",
       "      <td>False</td>\n",
       "    </tr>\n",
       "    <tr>\n",
       "      <th>1</th>\n",
       "      <td>4,569</td>\n",
       "      <td>78752</td>\n",
       "      <td>NaN</td>\n",
       "      <td>BBBS Community Based Mentoring (Year Round)</td>\n",
       "      <td>Community Based Mentoring is the traditional B...</td>\n",
       "      <td>Big Brothers Big Sisters</td>\n",
       "      <td>Work + Career</td>\n",
       "      <td>2000.0</td>\n",
       "      <td>7</td>\n",
       "      <td>15</td>\n",
       "      <td>...</td>\n",
       "      <td>recruitment@bbbschgo.org</td>\n",
       "      <td>NaN</td>\n",
       "      <td>Free</td>\n",
       "      <td>NEAR WEST SIDE</td>\n",
       "      <td>Not Paid</td>\n",
       "      <td>YES</td>\n",
       "      <td>YES</td>\n",
       "      <td>41.886002</td>\n",
       "      <td>-87.642403</td>\n",
       "      <td>False</td>\n",
       "    </tr>\n",
       "    <tr>\n",
       "      <th>2</th>\n",
       "      <td>4,562</td>\n",
       "      <td>78749</td>\n",
       "      <td>https://cityoflearning-uploads.s3.amazonaws.co...</td>\n",
       "      <td>Youth Mentoring and Academic Supports</td>\n",
       "      <td>Young Men's Educational Network provides mento...</td>\n",
       "      <td>Youth Mentoring and Academic Supports</td>\n",
       "      <td>Academic Support</td>\n",
       "      <td>100.0</td>\n",
       "      <td>12</td>\n",
       "      <td>18</td>\n",
       "      <td>...</td>\n",
       "      <td>wchatman@ymenchicago.com</td>\n",
       "      <td>NaN</td>\n",
       "      <td>Free</td>\n",
       "      <td>NORTH LAWNDALE</td>\n",
       "      <td>Not Paid</td>\n",
       "      <td>NO</td>\n",
       "      <td>NO</td>\n",
       "      <td>41.864799</td>\n",
       "      <td>-87.724800</td>\n",
       "      <td>True</td>\n",
       "    </tr>\n",
       "    <tr>\n",
       "      <th>3</th>\n",
       "      <td>4,563</td>\n",
       "      <td>78749</td>\n",
       "      <td>https://cityoflearning-uploads.s3.amazonaws.co...</td>\n",
       "      <td>Youth Mentoring and Academic Supports</td>\n",
       "      <td>Young Men's Educational Network provides mento...</td>\n",
       "      <td>Youth Mentoring and Academic Supports</td>\n",
       "      <td>Music &amp; Art</td>\n",
       "      <td>100.0</td>\n",
       "      <td>12</td>\n",
       "      <td>18</td>\n",
       "      <td>...</td>\n",
       "      <td>wchatman@ymenchicago.com</td>\n",
       "      <td>NaN</td>\n",
       "      <td>Free</td>\n",
       "      <td>NORTH LAWNDALE</td>\n",
       "      <td>Not Paid</td>\n",
       "      <td>NO</td>\n",
       "      <td>NO</td>\n",
       "      <td>41.864799</td>\n",
       "      <td>-87.724800</td>\n",
       "      <td>True</td>\n",
       "    </tr>\n",
       "    <tr>\n",
       "      <th>4</th>\n",
       "      <td>4,557</td>\n",
       "      <td>78746</td>\n",
       "      <td>https://cityoflearning-uploads.s3.amazonaws.co...</td>\n",
       "      <td>Refugee Youth Career Pathways</td>\n",
       "      <td>Refugee Youth Career Pathways (RYCP) provides ...</td>\n",
       "      <td>RefugeeOne</td>\n",
       "      <td>Managing Money</td>\n",
       "      <td>15.0</td>\n",
       "      <td>16</td>\n",
       "      <td>24</td>\n",
       "      <td>...</td>\n",
       "      <td>NaN</td>\n",
       "      <td>NaN</td>\n",
       "      <td>Free</td>\n",
       "      <td>NaN</td>\n",
       "      <td>Not Paid</td>\n",
       "      <td>YES</td>\n",
       "      <td>YES</td>\n",
       "      <td>NaN</td>\n",
       "      <td>NaN</td>\n",
       "      <td>False</td>\n",
       "    </tr>\n",
       "  </tbody>\n",
       "</table>\n",
       "<p>5 rows × 56 columns</p>\n",
       "</div>"
      ],
      "text/plain": [
       "  IndexRow     Id                                           Logo Url  \\\n",
       "0    4,568  78752                                                NaN   \n",
       "1    4,569  78752                                                NaN   \n",
       "2    4,562  78749  https://cityoflearning-uploads.s3.amazonaws.co...   \n",
       "3    4,563  78749  https://cityoflearning-uploads.s3.amazonaws.co...   \n",
       "4    4,557  78746  https://cityoflearning-uploads.s3.amazonaws.co...   \n",
       "\n",
       "                                  Program Name  \\\n",
       "0  BBBS Community Based Mentoring (Year Round)   \n",
       "1  BBBS Community Based Mentoring (Year Round)   \n",
       "2        Youth Mentoring and Academic Supports   \n",
       "3        Youth Mentoring and Academic Supports   \n",
       "4                Refugee Youth Career Pathways   \n",
       "\n",
       "                                         Description  \\\n",
       "0  Community Based Mentoring is the traditional B...   \n",
       "1  Community Based Mentoring is the traditional B...   \n",
       "2  Young Men's Educational Network provides mento...   \n",
       "3  Young Men's Educational Network provides mento...   \n",
       "4  Refugee Youth Career Pathways (RYCP) provides ...   \n",
       "\n",
       "                                Org Name     Category Name  Capacity  Min Age  \\\n",
       "0               Big Brothers Big Sisters  Academic Support    2000.0        7   \n",
       "1               Big Brothers Big Sisters    Work + Career     2000.0        7   \n",
       "2  Youth Mentoring and Academic Supports  Academic Support     100.0       12   \n",
       "3  Youth Mentoring and Academic Supports       Music & Art     100.0       12   \n",
       "4                             RefugeeOne    Managing Money      15.0       16   \n",
       "\n",
       "   Max Age  ...             Contact Email Contact Phone Program Price  \\\n",
       "0       15  ...  recruitment@bbbschgo.org           NaN          Free   \n",
       "1       15  ...  recruitment@bbbschgo.org           NaN          Free   \n",
       "2       18  ...  wchatman@ymenchicago.com           NaN          Free   \n",
       "3       18  ...  wchatman@ymenchicago.com           NaN          Free   \n",
       "4       24  ...                       NaN           NaN          Free   \n",
       "\n",
       "  Geographic Cluster Name Program Pays Participants Program Has Scholarships  \\\n",
       "0          NEAR WEST SIDE                  Not Paid                      YES   \n",
       "1          NEAR WEST SIDE                  Not Paid                      YES   \n",
       "2          NORTH LAWNDALE                  Not Paid                       NO   \n",
       "3          NORTH LAWNDALE                  Not Paid                       NO   \n",
       "4                     NaN                  Not Paid                      YES   \n",
       "\n",
       "  Program Provides Transportation   Latitude  Longitude  \\\n",
       "0                             YES  41.886002 -87.642403   \n",
       "1                             YES  41.886002 -87.642403   \n",
       "2                              NO  41.864799 -87.724800   \n",
       "3                              NO  41.864799 -87.724800   \n",
       "4                             YES        NaN        NaN   \n",
       "\n",
       "  Program Provides Free Food  \n",
       "0                      False  \n",
       "1                      False  \n",
       "2                       True  \n",
       "3                       True  \n",
       "4                      False  \n",
       "\n",
       "[5 rows x 56 columns]"
      ]
     },
     "execution_count": 74,
     "metadata": {},
     "output_type": "execute_result"
    }
   ],
   "source": [
    "df['Category Name'].replace({'Building And Fixing Things': \"Building & Fixing Things\",\n",
    "                            'Computers.': 'Computers',\n",
    "                            'Digital Media.': 'Digital Media',\n",
    "                            'Food.': 'Food',\n",
    "                            'Helping Your Community.': 'Helping Your Community',\n",
    "                            'Music & Art.': 'Music & Art',\n",
    "                            'Reading & Writing.': 'Reading & Writing',\n",
    "                            'Sports + Wellness.': 'Sports & Wellness',\n",
    "                            'Helping Your Community.': 'Helping Your Community',\n",
    "                            'Music & Art.': 'Music & Art',\n",
    "                            'Nature.': 'Nature',\n",
    "                            'Managing Money.': 'Managing Money',\n",
    "                            'Perfomance.': 'Performance',\n",
    "                            'Science': 'Science & Math',\n",
    "                            'Math': 'Science & Math',\n",
    "                            'Science ': 'Science & Math'}, inplace=True)\n",
    "df.head()"
   ]
  },
  {
   "cell_type": "code",
   "execution_count": 11,
   "metadata": {},
   "outputs": [
    {
     "data": {
      "text/plain": [
       "Category Name\n",
       "Academic Support      3.174716\n",
       "Music & Art          23.529064\n",
       "Nature                2.113325\n",
       "Reading & Writing    10.399972\n",
       "Sports & Wellness    51.806018\n",
       "dtype: float64"
      ]
     },
     "execution_count": 11,
     "metadata": {},
     "output_type": "execute_result"
    }
   ],
   "source": [
    "category_dist = 100*df.groupby(['Category Name']).size()/(len(df))\n",
    "\n",
    "category_dist_filt = category_dist.loc[lambda x : x > 2]\n",
    "category_dist_filt"
   ]
  },
  {
   "cell_type": "code",
   "execution_count": 12,
   "metadata": {},
   "outputs": [
    {
     "data": {
      "text/plain": [
       "array(['Academic Support', 'Work + Career ', 'Music & Art',\n",
       "       'Managing Money', 'Helping Your Community', 'Reading & Writing',\n",
       "       'Sports & Wellness', 'Computers', 'Science & Math',\n",
       "       'Building & Fixing Things', 'Performance.', 'Food',\n",
       "       'Digital Media', 'Nature', 'Healthcare', 'Transportation',\n",
       "       'Social Studies ', 'Teaching', 'Law', 'Customer/Human Service',\n",
       "       nan], dtype=object)"
      ]
     },
     "execution_count": 12,
     "metadata": {},
     "output_type": "execute_result"
    }
   ],
   "source": [
    "df['Category Name'].unique()"
   ]
  },
  {
   "cell_type": "code",
   "execution_count": 13,
   "metadata": {},
   "outputs": [
    {
     "data": {
      "image/png": "[encoded data removed]",
      "text/plain": [
       "<Figure size 432x288 with 1 Axes>"
      ]
     },
     "metadata": {},
     "output_type": "display_data"
    }
   ],
   "source": [
    "plt.pie(category_dist_filt, labels = category_dist_filt.keys())\n",
    "plt.show()"
   ]
  },
  {
   "cell_type": "code",
   "execution_count": 14,
   "metadata": {},
   "outputs": [
    {
     "data": {
      "text/plain": [
       "array(['face_to_face', 'online'], dtype=object)"
      ]
     },
     "execution_count": 14,
     "metadata": {},
     "output_type": "execute_result"
    }
   ],
   "source": [
    "df['Meeting Type'].unique()"
   ]
  },
  {
   "cell_type": "code",
   "execution_count": 15,
   "metadata": {},
   "outputs": [
    {
     "data": {
      "text/plain": [
       "(array([16735., 46416.,  5061.,  5902.]),\n",
       " array([  0,  10,  30,  50, 100]),\n",
       " <a list of 4 Patch objects>)"
      ]
     },
     "execution_count": 15,
     "metadata": {},
     "output_type": "execute_result"
    },
    {
     "data": {
      "image/png": "[encoded data removed]",
      "text/plain": [
       "<Figure size 432x288 with 1 Axes>"
      ]
     },
     "metadata": {
      "needs_background": "light"
     },
     "output_type": "display_data"
    }
   ],
   "source": [
    "plt.hist(df['Capacity'], bins = [0, 10, 30, 50, 100, ])"
   ]
  },
  {
   "cell_type": "code",
   "execution_count": 16,
   "metadata": {},
   "outputs": [
    {
     "data": {
      "text/html": [
       "<div>\n",
       "<style scoped>\n",
       "    .dataframe tbody tr th:only-of-type {\n",
       "        vertical-align: middle;\n",
       "    }\n",
       "\n",
       "    .dataframe tbody tr th {\n",
       "        vertical-align: top;\n",
       "    }\n",
       "\n",
       "    .dataframe thead th {\n",
       "        text-align: right;\n",
       "    }\n",
       "</style>\n",
       "<table border=\"1\" class=\"dataframe\">\n",
       "  <thead>\n",
       "    <tr style=\"text-align: right;\">\n",
       "      <th></th>\n",
       "      <th>the_geom</th>\n",
       "      <th>PERIMETER</th>\n",
       "      <th>AREA</th>\n",
       "      <th>COMAREA_</th>\n",
       "      <th>COMAREA_ID</th>\n",
       "      <th>AREA_NUMBE</th>\n",
       "      <th>COMMUNITY</th>\n",
       "      <th>AREA_NUM_1</th>\n",
       "      <th>SHAPE_AREA</th>\n",
       "      <th>SHAPE_LEN</th>\n",
       "    </tr>\n",
       "  </thead>\n",
       "  <tbody>\n",
       "    <tr>\n",
       "      <th>0</th>\n",
       "      <td>MULTIPOLYGON (((-87.60914087617894 41.84469250...</td>\n",
       "      <td>0</td>\n",
       "      <td>0</td>\n",
       "      <td>0</td>\n",
       "      <td>0</td>\n",
       "      <td>35</td>\n",
       "      <td>DOUGLAS</td>\n",
       "      <td>35</td>\n",
       "      <td>4.600462e+07</td>\n",
       "      <td>31027.054510</td>\n",
       "    </tr>\n",
       "    <tr>\n",
       "      <th>1</th>\n",
       "      <td>MULTIPOLYGON (((-87.59215283879394 41.81692934...</td>\n",
       "      <td>0</td>\n",
       "      <td>0</td>\n",
       "      <td>0</td>\n",
       "      <td>0</td>\n",
       "      <td>36</td>\n",
       "      <td>OAKLAND</td>\n",
       "      <td>36</td>\n",
       "      <td>1.691396e+07</td>\n",
       "      <td>19565.506153</td>\n",
       "    </tr>\n",
       "    <tr>\n",
       "      <th>2</th>\n",
       "      <td>MULTIPOLYGON (((-87.62879823733725 41.80189303...</td>\n",
       "      <td>0</td>\n",
       "      <td>0</td>\n",
       "      <td>0</td>\n",
       "      <td>0</td>\n",
       "      <td>37</td>\n",
       "      <td>FULLER PARK</td>\n",
       "      <td>37</td>\n",
       "      <td>1.991670e+07</td>\n",
       "      <td>25339.089750</td>\n",
       "    </tr>\n",
       "    <tr>\n",
       "      <th>3</th>\n",
       "      <td>MULTIPOLYGON (((-87.6067081256125 41.816813770...</td>\n",
       "      <td>0</td>\n",
       "      <td>0</td>\n",
       "      <td>0</td>\n",
       "      <td>0</td>\n",
       "      <td>38</td>\n",
       "      <td>GRAND BOULEVARD</td>\n",
       "      <td>38</td>\n",
       "      <td>4.849250e+07</td>\n",
       "      <td>28196.837157</td>\n",
       "    </tr>\n",
       "    <tr>\n",
       "      <th>4</th>\n",
       "      <td>MULTIPOLYGON (((-87.59215283879394 41.81692934...</td>\n",
       "      <td>0</td>\n",
       "      <td>0</td>\n",
       "      <td>0</td>\n",
       "      <td>0</td>\n",
       "      <td>39</td>\n",
       "      <td>KENWOOD</td>\n",
       "      <td>39</td>\n",
       "      <td>2.907174e+07</td>\n",
       "      <td>23325.167906</td>\n",
       "    </tr>\n",
       "    <tr>\n",
       "      <th>...</th>\n",
       "      <td>...</td>\n",
       "      <td>...</td>\n",
       "      <td>...</td>\n",
       "      <td>...</td>\n",
       "      <td>...</td>\n",
       "      <td>...</td>\n",
       "      <td>...</td>\n",
       "      <td>...</td>\n",
       "      <td>...</td>\n",
       "      <td>...</td>\n",
       "    </tr>\n",
       "    <tr>\n",
       "      <th>72</th>\n",
       "      <td>MULTIPOLYGON (((-87.69645961375822 41.70714491...</td>\n",
       "      <td>0</td>\n",
       "      <td>0</td>\n",
       "      <td>0</td>\n",
       "      <td>0</td>\n",
       "      <td>74</td>\n",
       "      <td>MOUNT GREENWOOD</td>\n",
       "      <td>74</td>\n",
       "      <td>7.558429e+07</td>\n",
       "      <td>48665.130539</td>\n",
       "    </tr>\n",
       "    <tr>\n",
       "      <th>73</th>\n",
       "      <td>MULTIPOLYGON (((-87.64215204651398 41.68508211...</td>\n",
       "      <td>0</td>\n",
       "      <td>0</td>\n",
       "      <td>0</td>\n",
       "      <td>0</td>\n",
       "      <td>75</td>\n",
       "      <td>MORGAN PARK</td>\n",
       "      <td>75</td>\n",
       "      <td>9.187734e+07</td>\n",
       "      <td>46396.419362</td>\n",
       "    </tr>\n",
       "    <tr>\n",
       "      <th>74</th>\n",
       "      <td>MULTIPOLYGON (((-87.83658087874365 41.98639611...</td>\n",
       "      <td>0</td>\n",
       "      <td>0</td>\n",
       "      <td>0</td>\n",
       "      <td>0</td>\n",
       "      <td>76</td>\n",
       "      <td>OHARE</td>\n",
       "      <td>76</td>\n",
       "      <td>3.718356e+08</td>\n",
       "      <td>173625.984660</td>\n",
       "    </tr>\n",
       "    <tr>\n",
       "      <th>75</th>\n",
       "      <td>MULTIPOLYGON (((-87.65455590025104 41.99816614...</td>\n",
       "      <td>0</td>\n",
       "      <td>0</td>\n",
       "      <td>0</td>\n",
       "      <td>0</td>\n",
       "      <td>77</td>\n",
       "      <td>EDGEWATER</td>\n",
       "      <td>77</td>\n",
       "      <td>4.844999e+07</td>\n",
       "      <td>31004.830946</td>\n",
       "    </tr>\n",
       "    <tr>\n",
       "      <th>76</th>\n",
       "      <td>MULTIPOLYGON (((-87.80675853375328 42.00083736...</td>\n",
       "      <td>0</td>\n",
       "      <td>0</td>\n",
       "      <td>0</td>\n",
       "      <td>0</td>\n",
       "      <td>9</td>\n",
       "      <td>EDISON PARK</td>\n",
       "      <td>9</td>\n",
       "      <td>3.163631e+07</td>\n",
       "      <td>25937.226841</td>\n",
       "    </tr>\n",
       "  </tbody>\n",
       "</table>\n",
       "<p>77 rows × 10 columns</p>\n",
       "</div>"
      ],
      "text/plain": [
       "                                             the_geom  PERIMETER  AREA  \\\n",
       "0   MULTIPOLYGON (((-87.60914087617894 41.84469250...          0     0   \n",
       "1   MULTIPOLYGON (((-87.59215283879394 41.81692934...          0     0   \n",
       "2   MULTIPOLYGON (((-87.62879823733725 41.80189303...          0     0   \n",
       "3   MULTIPOLYGON (((-87.6067081256125 41.816813770...          0     0   \n",
       "4   MULTIPOLYGON (((-87.59215283879394 41.81692934...          0     0   \n",
       "..                                                ...        ...   ...   \n",
       "72  MULTIPOLYGON (((-87.69645961375822 41.70714491...          0     0   \n",
       "73  MULTIPOLYGON (((-87.64215204651398 41.68508211...          0     0   \n",
       "74  MULTIPOLYGON (((-87.83658087874365 41.98639611...          0     0   \n",
       "75  MULTIPOLYGON (((-87.65455590025104 41.99816614...          0     0   \n",
       "76  MULTIPOLYGON (((-87.80675853375328 42.00083736...          0     0   \n",
       "\n",
       "    COMAREA_  COMAREA_ID  AREA_NUMBE        COMMUNITY  AREA_NUM_1  \\\n",
       "0          0           0          35          DOUGLAS          35   \n",
       "1          0           0          36          OAKLAND          36   \n",
       "2          0           0          37      FULLER PARK          37   \n",
       "3          0           0          38  GRAND BOULEVARD          38   \n",
       "4          0           0          39          KENWOOD          39   \n",
       "..       ...         ...         ...              ...         ...   \n",
       "72         0           0          74  MOUNT GREENWOOD          74   \n",
       "73         0           0          75      MORGAN PARK          75   \n",
       "74         0           0          76            OHARE          76   \n",
       "75         0           0          77        EDGEWATER          77   \n",
       "76         0           0           9      EDISON PARK           9   \n",
       "\n",
       "      SHAPE_AREA      SHAPE_LEN  \n",
       "0   4.600462e+07   31027.054510  \n",
       "1   1.691396e+07   19565.506153  \n",
       "2   1.991670e+07   25339.089750  \n",
       "3   4.849250e+07   28196.837157  \n",
       "4   2.907174e+07   23325.167906  \n",
       "..           ...            ...  \n",
       "72  7.558429e+07   48665.130539  \n",
       "73  9.187734e+07   46396.419362  \n",
       "74  3.718356e+08  173625.984660  \n",
       "75  4.844999e+07   31004.830946  \n",
       "76  3.163631e+07   25937.226841  \n",
       "\n",
       "[77 rows x 10 columns]"
      ]
     },
     "execution_count": 16,
     "metadata": {},
     "output_type": "execute_result"
    }
   ],
   "source": [
    "pd.read_csv('data/CommAreas.csv')"
   ]
  },
  {
   "cell_type": "code",
   "execution_count": 17,
   "metadata": {},
   "outputs": [
    {
     "data": {
      "image/png": "[encoded data removed]",
      "text/plain": [
       "<Figure size 864x864 with 1 Axes>"
      ]
     },
     "metadata": {
      "needs_background": "light"
     },
     "output_type": "display_data"
    }
   ],
   "source": [
    "\n",
    "\n",
    "sf = shp.Reader(\"data/comm_areas.dbf\")\n",
    "\n",
    "plt.figure(figsize=(12, 12))\n",
    "for shape in sf.shapeRecords():\n",
    "    x = [i[0] for i in shape.shape.points[:]]\n",
    "    y = [i[1] for i in shape.shape.points[:]]\n",
    "    plt.plot(x,y, color=\"black\")\n",
    "plt.show()"
   ]
  },
  {
   "cell_type": "code",
   "execution_count": 18,
   "metadata": {},
   "outputs": [
    {
     "data": {
      "text/plain": [
       "<matplotlib.axes._subplots.AxesSubplot at 0x7fc0c553d7f0>"
      ]
     },
     "execution_count": 18,
     "metadata": {},
     "output_type": "execute_result"
    },
    {
     "data": {
      "image/png": "[encoded data removed]",
      "text/plain": [
       "<Figure size 432x288 with 1 Axes>"
      ]
     },
     "metadata": {
      "needs_background": "light"
     },
     "output_type": "display_data"
    }
   ],
   "source": [
    "area_df = pd.read_csv('data/CommAreas.csv')\n",
    "area_df.plot()"
   ]
  },
  {
   "cell_type": "code",
   "execution_count": 20,
   "metadata": {},
   "outputs": [
    {
     "data": {
      "text/plain": [
       "array([nan, '15:00:00', '16:00:00', '11:00:00', '9:00:00', '10:30:00',\n",
       "       '13:30:00', '8:00:00', '7:30:00', '7:00:00', '6:00:00', '8:30:00',\n",
       "       '8:45:00', '10:00:00', '9:30:00', '15:30:00', '13:00:00',\n",
       "       '12:00:00', '7:45:00', '17:00:00', '14:00:00', '11:30:00',\n",
       "       '12:01:00', '18:20:00', '12:25:00', '18:00:00', '19:00:00',\n",
       "       '16:30:00', '14:30:00', '22:00:00', '8:15:00', '18:30:00',\n",
       "       '15:59:00', '4:00:00', '3:00:00', '5:00:00', '0:00:00', '4:15:00',\n",
       "       '17:30:00', '3:30:00', '4:30:00'], dtype=object)"
      ]
     },
     "execution_count": 20,
     "metadata": {},
     "output_type": "execute_result"
    }
   ],
   "source": []
  },
  {
   "cell_type": "code",
   "execution_count": 76,
   "metadata": {},
   "outputs": [
    {
     "name": "stdout",
     "output_type": "stream",
     "text": [
      "    area area_num_1 area_numbe  comarea  comarea_id        community  \\\n",
      "0    0.0         35         35      0.0         0.0          DOUGLAS   \n",
      "1    0.0         36         36      0.0         0.0          OAKLAND   \n",
      "2    0.0         37         37      0.0         0.0      FULLER PARK   \n",
      "3    0.0         38         38      0.0         0.0  GRAND BOULEVARD   \n",
      "4    0.0         39         39      0.0         0.0          KENWOOD   \n",
      "..   ...        ...        ...      ...         ...              ...   \n",
      "72   0.0         74         74      0.0         0.0  MOUNT GREENWOOD   \n",
      "73   0.0         75         75      0.0         0.0      MORGAN PARK   \n",
      "74   0.0         76         76      0.0         0.0            OHARE   \n",
      "75   0.0         77         77      0.0         0.0        EDGEWATER   \n",
      "76   0.0          9          9      0.0         0.0      EDISON PARK   \n",
      "\n",
      "    perimeter    shape_area      shape_len  \\\n",
      "0         0.0  4.600462e+07   31027.054510   \n",
      "1         0.0  1.691396e+07   19565.506153   \n",
      "2         0.0  1.991670e+07   25339.089750   \n",
      "3         0.0  4.849250e+07   28196.837157   \n",
      "4         0.0  2.907174e+07   23325.167906   \n",
      "..        ...           ...            ...   \n",
      "72        0.0  7.558429e+07   48665.130539   \n",
      "73        0.0  9.187734e+07   46396.419362   \n",
      "74        0.0  3.718356e+08  173625.984660   \n",
      "75        0.0  4.844999e+07   31004.830946   \n",
      "76        0.0  3.163631e+07   25937.226841   \n",
      "\n",
      "                                             geometry  \n",
      "0   POLYGON ((-87.60914 41.84469, -87.60915 41.844...  \n",
      "1   POLYGON ((-87.59215 41.81693, -87.59231 41.816...  \n",
      "2   POLYGON ((-87.62880 41.80189, -87.62879 41.801...  \n",
      "3   POLYGON ((-87.60671 41.81681, -87.60670 41.816...  \n",
      "4   POLYGON ((-87.59215 41.81693, -87.59215 41.816...  \n",
      "..                                                ...  \n",
      "72  POLYGON ((-87.69646 41.70714, -87.69644 41.706...  \n",
      "73  POLYGON ((-87.64215 41.68508, -87.64249 41.685...  \n",
      "74  MULTIPOLYGON (((-87.83658 41.98640, -87.83658 ...  \n",
      "75  POLYGON ((-87.65456 41.99817, -87.65456 41.998...  \n",
      "76  POLYGON ((-87.80676 42.00084, -87.80676 42.000...  \n",
      "\n",
      "[77 rows x 10 columns]\n"
     ]
    }
   ],
   "source": [
    "import geopandas as gpd\n",
    "map_df = gpd.read_file('data/comm_areas.shx')\n",
    "print(map_df)"
   ]
  },
  {
   "cell_type": "code",
   "execution_count": 83,
   "metadata": {},
   "outputs": [
    {
     "data": {
      "text/plain": [
       "<matplotlib.axes._subplots.AxesSubplot at 0x7fd33f692070>"
      ]
     },
     "execution_count": 83,
     "metadata": {},
     "output_type": "execute_result"
    },
    {
     "data": {
      "image/png": "[encoded data removed]",
      "text/plain": [
       "<Figure size 432x288 with 1 Axes>"
      ]
     },
     "metadata": {
      "needs_background": "light"
     },
     "output_type": "display_data"
    }
   ],
   "source": [
    "map_df.plot()"
   ]
  },
  {
   "cell_type": "code",
   "execution_count": 77,
   "metadata": {},
   "outputs": [
    {
     "data": {
      "text/html": [
       "<div>\n",
       "<style scoped>\n",
       "    .dataframe tbody tr th:only-of-type {\n",
       "        vertical-align: middle;\n",
       "    }\n",
       "\n",
       "    .dataframe tbody tr th {\n",
       "        vertical-align: top;\n",
       "    }\n",
       "\n",
       "    .dataframe thead th {\n",
       "        text-align: right;\n",
       "    }\n",
       "</style>\n",
       "<table border=\"1\" class=\"dataframe\">\n",
       "  <thead>\n",
       "    <tr style=\"text-align: right;\">\n",
       "      <th></th>\n",
       "      <th>area</th>\n",
       "      <th>area_num_1</th>\n",
       "      <th>area_numbe</th>\n",
       "      <th>comarea</th>\n",
       "      <th>comarea_id</th>\n",
       "      <th>community</th>\n",
       "      <th>perimeter</th>\n",
       "      <th>shape_area</th>\n",
       "      <th>shape_len</th>\n",
       "      <th>geometry</th>\n",
       "      <th>...</th>\n",
       "      <th>Contact Email</th>\n",
       "      <th>Contact Phone</th>\n",
       "      <th>Program Price</th>\n",
       "      <th>Geographic Cluster Name</th>\n",
       "      <th>Program Pays Participants</th>\n",
       "      <th>Program Has Scholarships</th>\n",
       "      <th>Program Provides Transportation</th>\n",
       "      <th>Latitude</th>\n",
       "      <th>Longitude</th>\n",
       "      <th>Program Provides Free Food</th>\n",
       "    </tr>\n",
       "  </thead>\n",
       "  <tbody>\n",
       "    <tr>\n",
       "      <th>0</th>\n",
       "      <td>0.0</td>\n",
       "      <td>35</td>\n",
       "      <td>35</td>\n",
       "      <td>0.0</td>\n",
       "      <td>0.0</td>\n",
       "      <td>DOUGLAS</td>\n",
       "      <td>0.0</td>\n",
       "      <td>4.600462e+07</td>\n",
       "      <td>31027.05451</td>\n",
       "      <td>POLYGON ((-87.60914 41.84469, -87.60915 41.844...</td>\n",
       "      <td>...</td>\n",
       "      <td>NaN</td>\n",
       "      <td>NaN</td>\n",
       "      <td>More Than $50</td>\n",
       "      <td>DOUGLAS</td>\n",
       "      <td>Not Paid</td>\n",
       "      <td>NO</td>\n",
       "      <td>NO</td>\n",
       "      <td>41.826698</td>\n",
       "      <td>-87.620499</td>\n",
       "      <td>False</td>\n",
       "    </tr>\n",
       "    <tr>\n",
       "      <th>1</th>\n",
       "      <td>0.0</td>\n",
       "      <td>35</td>\n",
       "      <td>35</td>\n",
       "      <td>0.0</td>\n",
       "      <td>0.0</td>\n",
       "      <td>DOUGLAS</td>\n",
       "      <td>0.0</td>\n",
       "      <td>4.600462e+07</td>\n",
       "      <td>31027.05451</td>\n",
       "      <td>POLYGON ((-87.60914 41.84469, -87.60915 41.844...</td>\n",
       "      <td>...</td>\n",
       "      <td>NaN</td>\n",
       "      <td>NaN</td>\n",
       "      <td>More Than $50</td>\n",
       "      <td>DOUGLAS</td>\n",
       "      <td>Not Paid</td>\n",
       "      <td>NO</td>\n",
       "      <td>NO</td>\n",
       "      <td>41.826698</td>\n",
       "      <td>-87.620499</td>\n",
       "      <td>False</td>\n",
       "    </tr>\n",
       "    <tr>\n",
       "      <th>2</th>\n",
       "      <td>0.0</td>\n",
       "      <td>35</td>\n",
       "      <td>35</td>\n",
       "      <td>0.0</td>\n",
       "      <td>0.0</td>\n",
       "      <td>DOUGLAS</td>\n",
       "      <td>0.0</td>\n",
       "      <td>4.600462e+07</td>\n",
       "      <td>31027.05451</td>\n",
       "      <td>POLYGON ((-87.60914 41.84469, -87.60915 41.844...</td>\n",
       "      <td>...</td>\n",
       "      <td>NaN</td>\n",
       "      <td>NaN</td>\n",
       "      <td>More Than $50</td>\n",
       "      <td>DOUGLAS</td>\n",
       "      <td>Not Paid</td>\n",
       "      <td>NO</td>\n",
       "      <td>NO</td>\n",
       "      <td>41.826698</td>\n",
       "      <td>-87.620499</td>\n",
       "      <td>False</td>\n",
       "    </tr>\n",
       "    <tr>\n",
       "      <th>3</th>\n",
       "      <td>0.0</td>\n",
       "      <td>35</td>\n",
       "      <td>35</td>\n",
       "      <td>0.0</td>\n",
       "      <td>0.0</td>\n",
       "      <td>DOUGLAS</td>\n",
       "      <td>0.0</td>\n",
       "      <td>4.600462e+07</td>\n",
       "      <td>31027.05451</td>\n",
       "      <td>POLYGON ((-87.60914 41.84469, -87.60915 41.844...</td>\n",
       "      <td>...</td>\n",
       "      <td>NaN</td>\n",
       "      <td>NaN</td>\n",
       "      <td>More Than $50</td>\n",
       "      <td>DOUGLAS</td>\n",
       "      <td>Not Paid</td>\n",
       "      <td>NO</td>\n",
       "      <td>NO</td>\n",
       "      <td>41.826698</td>\n",
       "      <td>-87.620499</td>\n",
       "      <td>False</td>\n",
       "    </tr>\n",
       "    <tr>\n",
       "      <th>4</th>\n",
       "      <td>0.0</td>\n",
       "      <td>35</td>\n",
       "      <td>35</td>\n",
       "      <td>0.0</td>\n",
       "      <td>0.0</td>\n",
       "      <td>DOUGLAS</td>\n",
       "      <td>0.0</td>\n",
       "      <td>4.600462e+07</td>\n",
       "      <td>31027.05451</td>\n",
       "      <td>POLYGON ((-87.60914 41.84469, -87.60915 41.844...</td>\n",
       "      <td>...</td>\n",
       "      <td>NaN</td>\n",
       "      <td>NaN</td>\n",
       "      <td>More Than $50</td>\n",
       "      <td>DOUGLAS</td>\n",
       "      <td>Not Paid</td>\n",
       "      <td>NO</td>\n",
       "      <td>NO</td>\n",
       "      <td>41.830399</td>\n",
       "      <td>-87.610298</td>\n",
       "      <td>False</td>\n",
       "    </tr>\n",
       "  </tbody>\n",
       "</table>\n",
       "<p>5 rows × 66 columns</p>\n",
       "</div>"
      ],
      "text/plain": [
       "   area area_num_1 area_numbe  comarea  comarea_id community  perimeter  \\\n",
       "0   0.0         35         35      0.0         0.0   DOUGLAS        0.0   \n",
       "1   0.0         35         35      0.0         0.0   DOUGLAS        0.0   \n",
       "2   0.0         35         35      0.0         0.0   DOUGLAS        0.0   \n",
       "3   0.0         35         35      0.0         0.0   DOUGLAS        0.0   \n",
       "4   0.0         35         35      0.0         0.0   DOUGLAS        0.0   \n",
       "\n",
       "     shape_area    shape_len  \\\n",
       "0  4.600462e+07  31027.05451   \n",
       "1  4.600462e+07  31027.05451   \n",
       "2  4.600462e+07  31027.05451   \n",
       "3  4.600462e+07  31027.05451   \n",
       "4  4.600462e+07  31027.05451   \n",
       "\n",
       "                                            geometry  ... Contact Email  \\\n",
       "0  POLYGON ((-87.60914 41.84469, -87.60915 41.844...  ...           NaN   \n",
       "1  POLYGON ((-87.60914 41.84469, -87.60915 41.844...  ...           NaN   \n",
       "2  POLYGON ((-87.60914 41.84469, -87.60915 41.844...  ...           NaN   \n",
       "3  POLYGON ((-87.60914 41.84469, -87.60915 41.844...  ...           NaN   \n",
       "4  POLYGON ((-87.60914 41.84469, -87.60915 41.844...  ...           NaN   \n",
       "\n",
       "   Contact Phone  Program Price Geographic Cluster Name  \\\n",
       "0            NaN  More Than $50                 DOUGLAS   \n",
       "1            NaN  More Than $50                 DOUGLAS   \n",
       "2            NaN  More Than $50                 DOUGLAS   \n",
       "3            NaN  More Than $50                 DOUGLAS   \n",
       "4            NaN  More Than $50                 DOUGLAS   \n",
       "\n",
       "  Program Pays Participants Program Has Scholarships  \\\n",
       "0                  Not Paid                       NO   \n",
       "1                  Not Paid                       NO   \n",
       "2                  Not Paid                       NO   \n",
       "3                  Not Paid                       NO   \n",
       "4                  Not Paid                       NO   \n",
       "\n",
       "  Program Provides Transportation   Latitude  Longitude  \\\n",
       "0                              NO  41.826698 -87.620499   \n",
       "1                              NO  41.826698 -87.620499   \n",
       "2                              NO  41.826698 -87.620499   \n",
       "3                              NO  41.826698 -87.620499   \n",
       "4                              NO  41.830399 -87.610298   \n",
       "\n",
       "   Program Provides Free Food  \n",
       "0                       False  \n",
       "1                       False  \n",
       "2                       False  \n",
       "3                       False  \n",
       "4                       False  \n",
       "\n",
       "[5 rows x 66 columns]"
      ]
     },
     "execution_count": 77,
     "metadata": {},
     "output_type": "execute_result"
    }
   ],
   "source": [
    "map_df.merge(df, left_on = 'community', right_on = 'Geographic Cluster Name').head()"
   ]
  },
  {
   "cell_type": "code",
   "execution_count": 84,
   "metadata": {},
   "outputs": [
    {
     "data": {
      "text/html": [
       "<div>\n",
       "<style scoped>\n",
       "    .dataframe tbody tr th:only-of-type {\n",
       "        vertical-align: middle;\n",
       "    }\n",
       "\n",
       "    .dataframe tbody tr th {\n",
       "        vertical-align: top;\n",
       "    }\n",
       "\n",
       "    .dataframe thead th {\n",
       "        text-align: right;\n",
       "    }\n",
       "</style>\n",
       "<table border=\"1\" class=\"dataframe\">\n",
       "  <thead>\n",
       "    <tr style=\"text-align: right;\">\n",
       "      <th></th>\n",
       "      <th>IndexRow</th>\n",
       "      <th>Id</th>\n",
       "      <th>Logo Url</th>\n",
       "      <th>Program Name</th>\n",
       "      <th>Description</th>\n",
       "      <th>Org Name</th>\n",
       "      <th>Category Name</th>\n",
       "      <th>Capacity</th>\n",
       "      <th>Min Age</th>\n",
       "      <th>Max Age</th>\n",
       "      <th>...</th>\n",
       "      <th>Contact Email</th>\n",
       "      <th>Contact Phone</th>\n",
       "      <th>Program Price</th>\n",
       "      <th>Geographic Cluster Name</th>\n",
       "      <th>Program Pays Participants</th>\n",
       "      <th>Program Has Scholarships</th>\n",
       "      <th>Program Provides Transportation</th>\n",
       "      <th>Latitude</th>\n",
       "      <th>Longitude</th>\n",
       "      <th>Program Provides Free Food</th>\n",
       "    </tr>\n",
       "  </thead>\n",
       "  <tbody>\n",
       "    <tr>\n",
       "      <th>0</th>\n",
       "      <td>4,568</td>\n",
       "      <td>78752</td>\n",
       "      <td>NaN</td>\n",
       "      <td>BBBS Community Based Mentoring (Year Round)</td>\n",
       "      <td>Community Based Mentoring is the traditional B...</td>\n",
       "      <td>Big Brothers Big Sisters</td>\n",
       "      <td>Academic Support</td>\n",
       "      <td>2000.0</td>\n",
       "      <td>7</td>\n",
       "      <td>15</td>\n",
       "      <td>...</td>\n",
       "      <td>recruitment@bbbschgo.org</td>\n",
       "      <td>NaN</td>\n",
       "      <td>Free</td>\n",
       "      <td>NEAR WEST SIDE</td>\n",
       "      <td>Not Paid</td>\n",
       "      <td>YES</td>\n",
       "      <td>YES</td>\n",
       "      <td>41.886002</td>\n",
       "      <td>-87.642403</td>\n",
       "      <td>False</td>\n",
       "    </tr>\n",
       "    <tr>\n",
       "      <th>1</th>\n",
       "      <td>4,569</td>\n",
       "      <td>78752</td>\n",
       "      <td>NaN</td>\n",
       "      <td>BBBS Community Based Mentoring (Year Round)</td>\n",
       "      <td>Community Based Mentoring is the traditional B...</td>\n",
       "      <td>Big Brothers Big Sisters</td>\n",
       "      <td>Work + Career</td>\n",
       "      <td>2000.0</td>\n",
       "      <td>7</td>\n",
       "      <td>15</td>\n",
       "      <td>...</td>\n",
       "      <td>recruitment@bbbschgo.org</td>\n",
       "      <td>NaN</td>\n",
       "      <td>Free</td>\n",
       "      <td>NEAR WEST SIDE</td>\n",
       "      <td>Not Paid</td>\n",
       "      <td>YES</td>\n",
       "      <td>YES</td>\n",
       "      <td>41.886002</td>\n",
       "      <td>-87.642403</td>\n",
       "      <td>False</td>\n",
       "    </tr>\n",
       "    <tr>\n",
       "      <th>2</th>\n",
       "      <td>4,562</td>\n",
       "      <td>78749</td>\n",
       "      <td>https://cityoflearning-uploads.s3.amazonaws.co...</td>\n",
       "      <td>Youth Mentoring and Academic Supports</td>\n",
       "      <td>Young Men's Educational Network provides mento...</td>\n",
       "      <td>Youth Mentoring and Academic Supports</td>\n",
       "      <td>Academic Support</td>\n",
       "      <td>100.0</td>\n",
       "      <td>12</td>\n",
       "      <td>18</td>\n",
       "      <td>...</td>\n",
       "      <td>wchatman@ymenchicago.com</td>\n",
       "      <td>NaN</td>\n",
       "      <td>Free</td>\n",
       "      <td>NORTH LAWNDALE</td>\n",
       "      <td>Not Paid</td>\n",
       "      <td>NO</td>\n",
       "      <td>NO</td>\n",
       "      <td>41.864799</td>\n",
       "      <td>-87.724800</td>\n",
       "      <td>True</td>\n",
       "    </tr>\n",
       "    <tr>\n",
       "      <th>3</th>\n",
       "      <td>4,563</td>\n",
       "      <td>78749</td>\n",
       "      <td>https://cityoflearning-uploads.s3.amazonaws.co...</td>\n",
       "      <td>Youth Mentoring and Academic Supports</td>\n",
       "      <td>Young Men's Educational Network provides mento...</td>\n",
       "      <td>Youth Mentoring and Academic Supports</td>\n",
       "      <td>Music &amp; Art</td>\n",
       "      <td>100.0</td>\n",
       "      <td>12</td>\n",
       "      <td>18</td>\n",
       "      <td>...</td>\n",
       "      <td>wchatman@ymenchicago.com</td>\n",
       "      <td>NaN</td>\n",
       "      <td>Free</td>\n",
       "      <td>NORTH LAWNDALE</td>\n",
       "      <td>Not Paid</td>\n",
       "      <td>NO</td>\n",
       "      <td>NO</td>\n",
       "      <td>41.864799</td>\n",
       "      <td>-87.724800</td>\n",
       "      <td>True</td>\n",
       "    </tr>\n",
       "    <tr>\n",
       "      <th>4</th>\n",
       "      <td>4,557</td>\n",
       "      <td>78746</td>\n",
       "      <td>https://cityoflearning-uploads.s3.amazonaws.co...</td>\n",
       "      <td>Refugee Youth Career Pathways</td>\n",
       "      <td>Refugee Youth Career Pathways (RYCP) provides ...</td>\n",
       "      <td>RefugeeOne</td>\n",
       "      <td>Managing Money</td>\n",
       "      <td>15.0</td>\n",
       "      <td>16</td>\n",
       "      <td>24</td>\n",
       "      <td>...</td>\n",
       "      <td>NaN</td>\n",
       "      <td>NaN</td>\n",
       "      <td>Free</td>\n",
       "      <td>NaN</td>\n",
       "      <td>Not Paid</td>\n",
       "      <td>YES</td>\n",
       "      <td>YES</td>\n",
       "      <td>NaN</td>\n",
       "      <td>NaN</td>\n",
       "      <td>False</td>\n",
       "    </tr>\n",
       "  </tbody>\n",
       "</table>\n",
       "<p>5 rows × 56 columns</p>\n",
       "</div>"
      ],
      "text/plain": [
       "  IndexRow     Id                                           Logo Url  \\\n",
       "0    4,568  78752                                                NaN   \n",
       "1    4,569  78752                                                NaN   \n",
       "2    4,562  78749  https://cityoflearning-uploads.s3.amazonaws.co...   \n",
       "3    4,563  78749  https://cityoflearning-uploads.s3.amazonaws.co...   \n",
       "4    4,557  78746  https://cityoflearning-uploads.s3.amazonaws.co...   \n",
       "\n",
       "                                  Program Name  \\\n",
       "0  BBBS Community Based Mentoring (Year Round)   \n",
       "1  BBBS Community Based Mentoring (Year Round)   \n",
       "2        Youth Mentoring and Academic Supports   \n",
       "3        Youth Mentoring and Academic Supports   \n",
       "4                Refugee Youth Career Pathways   \n",
       "\n",
       "                                         Description  \\\n",
       "0  Community Based Mentoring is the traditional B...   \n",
       "1  Community Based Mentoring is the traditional B...   \n",
       "2  Young Men's Educational Network provides mento...   \n",
       "3  Young Men's Educational Network provides mento...   \n",
       "4  Refugee Youth Career Pathways (RYCP) provides ...   \n",
       "\n",
       "                                Org Name     Category Name  Capacity  Min Age  \\\n",
       "0               Big Brothers Big Sisters  Academic Support    2000.0        7   \n",
       "1               Big Brothers Big Sisters    Work + Career     2000.0        7   \n",
       "2  Youth Mentoring and Academic Supports  Academic Support     100.0       12   \n",
       "3  Youth Mentoring and Academic Supports       Music & Art     100.0       12   \n",
       "4                             RefugeeOne    Managing Money      15.0       16   \n",
       "\n",
       "   Max Age  ...             Contact Email Contact Phone Program Price  \\\n",
       "0       15  ...  recruitment@bbbschgo.org           NaN          Free   \n",
       "1       15  ...  recruitment@bbbschgo.org           NaN          Free   \n",
       "2       18  ...  wchatman@ymenchicago.com           NaN          Free   \n",
       "3       18  ...  wchatman@ymenchicago.com           NaN          Free   \n",
       "4       24  ...                       NaN           NaN          Free   \n",
       "\n",
       "  Geographic Cluster Name Program Pays Participants Program Has Scholarships  \\\n",
       "0          NEAR WEST SIDE                  Not Paid                      YES   \n",
       "1          NEAR WEST SIDE                  Not Paid                      YES   \n",
       "2          NORTH LAWNDALE                  Not Paid                       NO   \n",
       "3          NORTH LAWNDALE                  Not Paid                       NO   \n",
       "4                     NaN                  Not Paid                      YES   \n",
       "\n",
       "  Program Provides Transportation   Latitude  Longitude  \\\n",
       "0                             YES  41.886002 -87.642403   \n",
       "1                             YES  41.886002 -87.642403   \n",
       "2                              NO  41.864799 -87.724800   \n",
       "3                              NO  41.864799 -87.724800   \n",
       "4                             YES        NaN        NaN   \n",
       "\n",
       "  Program Provides Free Food  \n",
       "0                      False  \n",
       "1                      False  \n",
       "2                       True  \n",
       "3                       True  \n",
       "4                      False  \n",
       "\n",
       "[5 rows x 56 columns]"
      ]
     },
     "execution_count": 84,
     "metadata": {},
     "output_type": "execute_result"
    }
   ],
   "source": [
    "df.head(n)"
   ]
  },
  {
   "cell_type": "code",
   "execution_count": 86,
   "metadata": {},
   "outputs": [
    {
     "data": {
      "text/plain": [
       "84878"
      ]
     },
     "execution_count": 86,
     "metadata": {},
     "output_type": "execute_result"
    }
   ],
   "source": [
    "len(df)"
   ]
  },
  {
   "cell_type": "code",
   "execution_count": 103,
   "metadata": {},
   "outputs": [
    {
     "data": {
      "text/plain": [
       "pandas.core.series.Series"
      ]
     },
     "execution_count": 103,
     "metadata": {},
     "output_type": "execute_result"
    }
   ],
   "source": [
    "perc_free = (df.groupby(['Geographic Cluster Name', 'Program Price']).size()/df.groupby(['Geographic Cluster Name']).size()).loc[:, 'Free']\n",
    "type(perc_free)"
   ]
  },
  {
   "cell_type": "code",
   "execution_count": 35,
   "metadata": {},
   "outputs": [
    {
     "data": {
      "text/plain": [
       "Geographic Cluster Name\n",
       "ALBANY PARK       0.416856\n",
       "ARCHER HEIGHTS    0.375451\n",
       "ARMOUR SQUARE     0.334812\n",
       "ASHBURN           0.333333\n",
       "AUBURN GRESHAM    0.612591\n",
       "                    ...   \n",
       "WEST LAWN         0.434122\n",
       "WEST PULLMAN      0.613879\n",
       "WEST RIDGE        0.382530\n",
       "WEST TOWN         0.283540\n",
       "WOODLAWN          0.430255\n",
       "Length: 79, dtype: float64"
      ]
     },
     "execution_count": 35,
     "metadata": {},
     "output_type": "execute_result"
    }
   ],
   "source": [
    "perc_free"
   ]
  },
  {
   "cell_type": "code",
   "execution_count": 38,
   "metadata": {},
   "outputs": [
    {
     "data": {
      "text/plain": [
       "pandas.core.series.Series"
      ]
     },
     "execution_count": 38,
     "metadata": {},
     "output_type": "execute_result"
    }
   ],
   "source": []
  },
  {
   "cell_type": "code",
   "execution_count": 107,
   "metadata": {},
   "outputs": [
    {
     "data": {
      "text/plain": [
       "183"
      ]
     },
     "execution_count": 107,
     "metadata": {},
     "output_type": "execute_result"
    }
   ],
   "source": [
    "df.groupby(['Geographic Cluster Name', 'Program Price']).size()[('ALBANY PARK', 'Free')]"
   ]
  },
  {
   "cell_type": "code",
   "execution_count": 110,
   "metadata": {},
   "outputs": [
    {
     "data": {
      "text/plain": [
       "<matplotlib.axes._subplots.AxesSubplot at 0x7fc0a9121dc0>"
      ]
     },
     "execution_count": 110,
     "metadata": {},
     "output_type": "execute_result"
    },
    {
     "data": {
      "image/png": "[encoded data removed]",
      "text/plain": [
       "<Figure size 432x288 with 1 Axes>"
      ]
     },
     "metadata": {
      "needs_background": "light"
     },
     "output_type": "display_data"
    }
   ],
   "source": [
    "map_df.merge(perc_free.to_frame().reset_index(), left_on='community', right_on='Geographic Cluster Name').plot()"
   ]
  },
  {
   "cell_type": "code",
   "execution_count": 148,
   "metadata": {},
   "outputs": [],
   "source": [
    "perc_df = perc_free.to_frame().reset_index()"
   ]
  },
  {
   "cell_type": "code",
   "execution_count": 123,
   "metadata": {},
   "outputs": [
    {
     "data": {
      "text/html": [
       "<div>\n",
       "<style scoped>\n",
       "    .dataframe tbody tr th:only-of-type {\n",
       "        vertical-align: middle;\n",
       "    }\n",
       "\n",
       "    .dataframe tbody tr th {\n",
       "        vertical-align: top;\n",
       "    }\n",
       "\n",
       "    .dataframe thead th {\n",
       "        text-align: right;\n",
       "    }\n",
       "</style>\n",
       "<table border=\"1\" class=\"dataframe\">\n",
       "  <thead>\n",
       "    <tr style=\"text-align: right;\">\n",
       "      <th></th>\n",
       "      <th>area</th>\n",
       "      <th>area_num_1</th>\n",
       "      <th>area_numbe</th>\n",
       "      <th>comarea</th>\n",
       "      <th>comarea_id</th>\n",
       "      <th>community</th>\n",
       "      <th>perimeter</th>\n",
       "      <th>shape_area</th>\n",
       "      <th>shape_len</th>\n",
       "      <th>geometry</th>\n",
       "    </tr>\n",
       "  </thead>\n",
       "  <tbody>\n",
       "    <tr>\n",
       "      <th>58</th>\n",
       "      <td>0.0</td>\n",
       "      <td>61</td>\n",
       "      <td>61</td>\n",
       "      <td>0.0</td>\n",
       "      <td>0.0</td>\n",
       "      <td>NEW CITY</td>\n",
       "      <td>0.0</td>\n",
       "      <td>1.346370e+08</td>\n",
       "      <td>48133.595961</td>\n",
       "      <td>POLYGON ((-87.63546 41.79448, -87.63599 41.794...</td>\n",
       "    </tr>\n",
       "  </tbody>\n",
       "</table>\n",
       "</div>"
      ],
      "text/plain": [
       "    area area_num_1 area_numbe  comarea  comarea_id community  perimeter  \\\n",
       "58   0.0         61         61      0.0         0.0  NEW CITY        0.0   \n",
       "\n",
       "      shape_area     shape_len  \\\n",
       "58  1.346370e+08  48133.595961   \n",
       "\n",
       "                                             geometry  \n",
       "58  POLYGON ((-87.63546 41.79448, -87.63599 41.794...  "
      ]
     },
     "execution_count": 123,
     "metadata": {},
     "output_type": "execute_result"
    }
   ],
   "source": [
    "map_df[map_df['community'] == 'NEW CITY']"
   ]
  },
  {
   "cell_type": "code",
   "execution_count": 150,
   "metadata": {},
   "outputs": [
    {
     "name": "stdout",
     "output_type": "stream",
     "text": [
      "ALBANY PARK\n",
      "ARCHER HEIGHTS\n",
      "ARMOUR SQUARE\n",
      "ASHBURN\n",
      "AUBURN GRESHAM\n",
      "AUSTIN\n",
      "AVALON PARK\n",
      "AVONDALE\n",
      "BELMONT CRAGIN\n",
      "BEVERLY\n",
      "BRIDGEPORT\n",
      "BRIGHTON PARK\n",
      "BURNSIDE\n",
      "Bronzeville/South Lakefront\n",
      "CALUMET HEIGHTS\n",
      "CHATHAM\n",
      "CHICAGO LAWN\n",
      "CLEARING\n",
      "DOUGLAS\n",
      "DUNNING\n",
      "EAST GARFIELD PARK\n",
      "EAST SIDE\n",
      "EDGEWATER\n",
      "EDISON PARK\n",
      "ENGLEWOOD\n",
      "FOREST GLEN\n",
      "FULLER PARK\n",
      "GAGE PARK\n",
      "GARFIELD PARK\n",
      "GARFIELD RIDGE\n",
      "GRAND BOULEVARD\n",
      "GREATER GRAND CROSSING\n",
      "HEGEWISCH\n",
      "HERMOSA\n",
      "HUMBOLDT PARK\n",
      "HYDE PARK\n",
      "IRVING PARK\n",
      "JEFFERSON PARK\n",
      "KENWOOD\n",
      "LAKE VIEW\n",
      "LINCOLN PARK\n",
      "LINCOLN SQUARE\n",
      "LOGAN SQUARE\n",
      "LOOP\n",
      "LOWER WEST SIDE\n",
      "Little Village\n",
      "MCKINLEY PARK\n",
      "MONTCLARE\n",
      "MORGAN PARK\n",
      "MOUNT GREENWOOD\n",
      "NEAR NORTH SIDE\n",
      "NEAR SOUTH SIDE\n",
      "NEAR WEST SIDE\n",
      "NEW CITY\n",
      "NORTH CENTER\n",
      "NORTH LAWNDALE\n",
      "NORTH PARK\n",
      "NORWOOD PARK\n",
      "OAKLAND\n",
      "OHARE\n",
      "PORTAGE PARK\n",
      "PULLMAN\n",
      "RIVERDALE\n",
      "ROGERS PARK\n",
      "ROSELAND\n",
      "SOUTH CHICAGO\n",
      "SOUTH DEERING\n",
      "SOUTH SHORE\n",
      "UPTOWN\n",
      "WASHINGTON HEIGHTS\n",
      "WASHINGTON PARK\n",
      "WEST ELSDON\n",
      "WEST ENGLEWOOD\n",
      "WEST GARFIELD PARK\n",
      "WEST LAWN\n",
      "WEST PULLMAN\n",
      "WEST RIDGE\n",
      "WEST TOWN\n",
      "WOODLAWN\n"
     ]
    }
   ],
   "source": [
    "filter_df = df.groupby(['Geographic Cluster Name']).size()\n",
    "\n",
    "for entry in filter_df.index:\n",
    "    print(entry)"
   ]
  },
  {
   "cell_type": "code",
   "execution_count": 99,
   "metadata": {},
   "outputs": [
    {
     "data": {
      "text/html": [
       "<div>\n",
       "<style scoped>\n",
       "    .dataframe tbody tr th:only-of-type {\n",
       "        vertical-align: middle;\n",
       "    }\n",
       "\n",
       "    .dataframe tbody tr th {\n",
       "        vertical-align: top;\n",
       "    }\n",
       "\n",
       "    .dataframe thead th {\n",
       "        text-align: right;\n",
       "    }\n",
       "</style>\n",
       "<table border=\"1\" class=\"dataframe\">\n",
       "  <thead>\n",
       "    <tr style=\"text-align: right;\">\n",
       "      <th></th>\n",
       "      <th>IndexRow</th>\n",
       "      <th>Id</th>\n",
       "      <th>Logo Url</th>\n",
       "      <th>Program Name</th>\n",
       "      <th>Description</th>\n",
       "      <th>Org Name</th>\n",
       "      <th>Category Name</th>\n",
       "      <th>Capacity</th>\n",
       "      <th>Min Age</th>\n",
       "      <th>Max Age</th>\n",
       "      <th>...</th>\n",
       "      <th>Contact Email</th>\n",
       "      <th>Contact Phone</th>\n",
       "      <th>Program Price</th>\n",
       "      <th>Geographic Cluster Name</th>\n",
       "      <th>Program Pays Participants</th>\n",
       "      <th>Program Has Scholarships</th>\n",
       "      <th>Program Provides Transportation</th>\n",
       "      <th>Latitude</th>\n",
       "      <th>Longitude</th>\n",
       "      <th>Program Provides Free Food</th>\n",
       "    </tr>\n",
       "  </thead>\n",
       "  <tbody>\n",
       "    <tr>\n",
       "      <th>0</th>\n",
       "      <td>4,568</td>\n",
       "      <td>78752</td>\n",
       "      <td>NaN</td>\n",
       "      <td>BBBS Community Based Mentoring (Year Round)</td>\n",
       "      <td>Community Based Mentoring is the traditional B...</td>\n",
       "      <td>Big Brothers Big Sisters</td>\n",
       "      <td>Academic Support</td>\n",
       "      <td>2000.0</td>\n",
       "      <td>7</td>\n",
       "      <td>15</td>\n",
       "      <td>...</td>\n",
       "      <td>recruitment@bbbschgo.org</td>\n",
       "      <td>NaN</td>\n",
       "      <td>Free</td>\n",
       "      <td>NEAR WEST SIDE</td>\n",
       "      <td>Not Paid</td>\n",
       "      <td>YES</td>\n",
       "      <td>YES</td>\n",
       "      <td>41.886002</td>\n",
       "      <td>-87.642403</td>\n",
       "      <td>False</td>\n",
       "    </tr>\n",
       "    <tr>\n",
       "      <th>1</th>\n",
       "      <td>4,569</td>\n",
       "      <td>78752</td>\n",
       "      <td>NaN</td>\n",
       "      <td>BBBS Community Based Mentoring (Year Round)</td>\n",
       "      <td>Community Based Mentoring is the traditional B...</td>\n",
       "      <td>Big Brothers Big Sisters</td>\n",
       "      <td>Work + Career</td>\n",
       "      <td>2000.0</td>\n",
       "      <td>7</td>\n",
       "      <td>15</td>\n",
       "      <td>...</td>\n",
       "      <td>recruitment@bbbschgo.org</td>\n",
       "      <td>NaN</td>\n",
       "      <td>Free</td>\n",
       "      <td>NEAR WEST SIDE</td>\n",
       "      <td>Not Paid</td>\n",
       "      <td>YES</td>\n",
       "      <td>YES</td>\n",
       "      <td>41.886002</td>\n",
       "      <td>-87.642403</td>\n",
       "      <td>False</td>\n",
       "    </tr>\n",
       "    <tr>\n",
       "      <th>2</th>\n",
       "      <td>4,562</td>\n",
       "      <td>78749</td>\n",
       "      <td>https://cityoflearning-uploads.s3.amazonaws.co...</td>\n",
       "      <td>Youth Mentoring and Academic Supports</td>\n",
       "      <td>Young Men's Educational Network provides mento...</td>\n",
       "      <td>Youth Mentoring and Academic Supports</td>\n",
       "      <td>Academic Support</td>\n",
       "      <td>100.0</td>\n",
       "      <td>12</td>\n",
       "      <td>18</td>\n",
       "      <td>...</td>\n",
       "      <td>wchatman@ymenchicago.com</td>\n",
       "      <td>NaN</td>\n",
       "      <td>Free</td>\n",
       "      <td>NORTH LAWNDALE</td>\n",
       "      <td>Not Paid</td>\n",
       "      <td>NO</td>\n",
       "      <td>NO</td>\n",
       "      <td>41.864799</td>\n",
       "      <td>-87.724800</td>\n",
       "      <td>True</td>\n",
       "    </tr>\n",
       "    <tr>\n",
       "      <th>3</th>\n",
       "      <td>4,563</td>\n",
       "      <td>78749</td>\n",
       "      <td>https://cityoflearning-uploads.s3.amazonaws.co...</td>\n",
       "      <td>Youth Mentoring and Academic Supports</td>\n",
       "      <td>Young Men's Educational Network provides mento...</td>\n",
       "      <td>Youth Mentoring and Academic Supports</td>\n",
       "      <td>Music &amp; Art</td>\n",
       "      <td>100.0</td>\n",
       "      <td>12</td>\n",
       "      <td>18</td>\n",
       "      <td>...</td>\n",
       "      <td>wchatman@ymenchicago.com</td>\n",
       "      <td>NaN</td>\n",
       "      <td>Free</td>\n",
       "      <td>NORTH LAWNDALE</td>\n",
       "      <td>Not Paid</td>\n",
       "      <td>NO</td>\n",
       "      <td>NO</td>\n",
       "      <td>41.864799</td>\n",
       "      <td>-87.724800</td>\n",
       "      <td>True</td>\n",
       "    </tr>\n",
       "    <tr>\n",
       "      <th>4</th>\n",
       "      <td>4,557</td>\n",
       "      <td>78746</td>\n",
       "      <td>https://cityoflearning-uploads.s3.amazonaws.co...</td>\n",
       "      <td>Refugee Youth Career Pathways</td>\n",
       "      <td>Refugee Youth Career Pathways (RYCP) provides ...</td>\n",
       "      <td>RefugeeOne</td>\n",
       "      <td>Managing Money</td>\n",
       "      <td>15.0</td>\n",
       "      <td>16</td>\n",
       "      <td>24</td>\n",
       "      <td>...</td>\n",
       "      <td>NaN</td>\n",
       "      <td>NaN</td>\n",
       "      <td>Free</td>\n",
       "      <td>NaN</td>\n",
       "      <td>Not Paid</td>\n",
       "      <td>YES</td>\n",
       "      <td>YES</td>\n",
       "      <td>NaN</td>\n",
       "      <td>NaN</td>\n",
       "      <td>False</td>\n",
       "    </tr>\n",
       "  </tbody>\n",
       "</table>\n",
       "<p>5 rows × 56 columns</p>\n",
       "</div>"
      ],
      "text/plain": [
       "  IndexRow     Id                                           Logo Url  \\\n",
       "0    4,568  78752                                                NaN   \n",
       "1    4,569  78752                                                NaN   \n",
       "2    4,562  78749  https://cityoflearning-uploads.s3.amazonaws.co...   \n",
       "3    4,563  78749  https://cityoflearning-uploads.s3.amazonaws.co...   \n",
       "4    4,557  78746  https://cityoflearning-uploads.s3.amazonaws.co...   \n",
       "\n",
       "                                  Program Name  \\\n",
       "0  BBBS Community Based Mentoring (Year Round)   \n",
       "1  BBBS Community Based Mentoring (Year Round)   \n",
       "2        Youth Mentoring and Academic Supports   \n",
       "3        Youth Mentoring and Academic Supports   \n",
       "4                Refugee Youth Career Pathways   \n",
       "\n",
       "                                         Description  \\\n",
       "0  Community Based Mentoring is the traditional B...   \n",
       "1  Community Based Mentoring is the traditional B...   \n",
       "2  Young Men's Educational Network provides mento...   \n",
       "3  Young Men's Educational Network provides mento...   \n",
       "4  Refugee Youth Career Pathways (RYCP) provides ...   \n",
       "\n",
       "                                Org Name     Category Name  Capacity  Min Age  \\\n",
       "0               Big Brothers Big Sisters  Academic Support    2000.0        7   \n",
       "1               Big Brothers Big Sisters    Work + Career     2000.0        7   \n",
       "2  Youth Mentoring and Academic Supports  Academic Support     100.0       12   \n",
       "3  Youth Mentoring and Academic Supports       Music & Art     100.0       12   \n",
       "4                             RefugeeOne    Managing Money      15.0       16   \n",
       "\n",
       "   Max Age  ...             Contact Email Contact Phone Program Price  \\\n",
       "0       15  ...  recruitment@bbbschgo.org           NaN          Free   \n",
       "1       15  ...  recruitment@bbbschgo.org           NaN          Free   \n",
       "2       18  ...  wchatman@ymenchicago.com           NaN          Free   \n",
       "3       18  ...  wchatman@ymenchicago.com           NaN          Free   \n",
       "4       24  ...                       NaN           NaN          Free   \n",
       "\n",
       "  Geographic Cluster Name Program Pays Participants Program Has Scholarships  \\\n",
       "0          NEAR WEST SIDE                  Not Paid                      YES   \n",
       "1          NEAR WEST SIDE                  Not Paid                      YES   \n",
       "2          NORTH LAWNDALE                  Not Paid                       NO   \n",
       "3          NORTH LAWNDALE                  Not Paid                       NO   \n",
       "4                     NaN                  Not Paid                      YES   \n",
       "\n",
       "  Program Provides Transportation   Latitude  Longitude  \\\n",
       "0                             YES  41.886002 -87.642403   \n",
       "1                             YES  41.886002 -87.642403   \n",
       "2                              NO  41.864799 -87.724800   \n",
       "3                              NO  41.864799 -87.724800   \n",
       "4                             YES        NaN        NaN   \n",
       "\n",
       "  Program Provides Free Food  \n",
       "0                      False  \n",
       "1                      False  \n",
       "2                       True  \n",
       "3                       True  \n",
       "4                      False  \n",
       "\n",
       "[5 rows x 56 columns]"
      ]
     },
     "execution_count": 99,
     "metadata": {},
     "output_type": "execute_result"
    }
   ],
   "source": [
    "df['Geographic Cluster Name'].replace({'Back of the Yards': 'NEW CITY',\n",
    "                                      'Little Village': 'SOUTH LAWNDALE'}, inplace=True)\n",
    "df.head()"
   ]
  },
  {
   "cell_type": "code",
   "execution_count": 102,
   "metadata": {},
   "outputs": [
    {
     "data": {
      "text/plain": [
       "<matplotlib.axes._subplots.AxesSubplot at 0x7fc0a949f070>"
      ]
     },
     "execution_count": 102,
     "metadata": {},
     "output_type": "execute_result"
    },
    {
     "data": {
      "image/png": "[encoded data removed]",
      "text/plain": [
       "<Figure size 432x288 with 1 Axes>"
      ]
     },
     "metadata": {
      "needs_background": "light"
     },
     "output_type": "display_data"
    }
   ],
   "source": [
    "map_df.merge(perc_free.to_frame().reset_index(), left_on='community', right_on='Geographic Cluster Name').plot()"
   ]
  },
  {
   "cell_type": "code",
   "execution_count": 105,
   "metadata": {},
   "outputs": [
    {
     "data": {
      "text/html": [
       "<div>\n",
       "<style scoped>\n",
       "    .dataframe tbody tr th:only-of-type {\n",
       "        vertical-align: middle;\n",
       "    }\n",
       "\n",
       "    .dataframe tbody tr th {\n",
       "        vertical-align: top;\n",
       "    }\n",
       "\n",
       "    .dataframe thead th {\n",
       "        text-align: right;\n",
       "    }\n",
       "</style>\n",
       "<table border=\"1\" class=\"dataframe\">\n",
       "  <thead>\n",
       "    <tr style=\"text-align: right;\">\n",
       "      <th></th>\n",
       "      <th>area</th>\n",
       "      <th>area_num_1</th>\n",
       "      <th>area_numbe</th>\n",
       "      <th>comarea</th>\n",
       "      <th>comarea_id</th>\n",
       "      <th>community</th>\n",
       "      <th>perimeter</th>\n",
       "      <th>shape_area</th>\n",
       "      <th>shape_len</th>\n",
       "      <th>geometry</th>\n",
       "      <th>Geographic Cluster Name</th>\n",
       "      <th>percentage_free_programs</th>\n",
       "    </tr>\n",
       "  </thead>\n",
       "  <tbody>\n",
       "    <tr>\n",
       "      <th>0</th>\n",
       "      <td>0.0</td>\n",
       "      <td>35</td>\n",
       "      <td>35</td>\n",
       "      <td>0.0</td>\n",
       "      <td>0.0</td>\n",
       "      <td>DOUGLAS</td>\n",
       "      <td>0.0</td>\n",
       "      <td>4.600462e+07</td>\n",
       "      <td>31027.054510</td>\n",
       "      <td>POLYGON ((-87.60914 41.84469, -87.60915 41.844...</td>\n",
       "      <td>DOUGLAS</td>\n",
       "      <td>0.586727</td>\n",
       "    </tr>\n",
       "    <tr>\n",
       "      <th>1</th>\n",
       "      <td>0.0</td>\n",
       "      <td>36</td>\n",
       "      <td>36</td>\n",
       "      <td>0.0</td>\n",
       "      <td>0.0</td>\n",
       "      <td>OAKLAND</td>\n",
       "      <td>0.0</td>\n",
       "      <td>1.691396e+07</td>\n",
       "      <td>19565.506153</td>\n",
       "      <td>POLYGON ((-87.59215 41.81693, -87.59231 41.816...</td>\n",
       "      <td>OAKLAND</td>\n",
       "      <td>0.227749</td>\n",
       "    </tr>\n",
       "    <tr>\n",
       "      <th>2</th>\n",
       "      <td>0.0</td>\n",
       "      <td>37</td>\n",
       "      <td>37</td>\n",
       "      <td>0.0</td>\n",
       "      <td>0.0</td>\n",
       "      <td>FULLER PARK</td>\n",
       "      <td>0.0</td>\n",
       "      <td>1.991670e+07</td>\n",
       "      <td>25339.089750</td>\n",
       "      <td>POLYGON ((-87.62880 41.80189, -87.62879 41.801...</td>\n",
       "      <td>FULLER PARK</td>\n",
       "      <td>0.502825</td>\n",
       "    </tr>\n",
       "    <tr>\n",
       "      <th>3</th>\n",
       "      <td>0.0</td>\n",
       "      <td>38</td>\n",
       "      <td>38</td>\n",
       "      <td>0.0</td>\n",
       "      <td>0.0</td>\n",
       "      <td>GRAND BOULEVARD</td>\n",
       "      <td>0.0</td>\n",
       "      <td>4.849250e+07</td>\n",
       "      <td>28196.837157</td>\n",
       "      <td>POLYGON ((-87.60671 41.81681, -87.60670 41.816...</td>\n",
       "      <td>GRAND BOULEVARD</td>\n",
       "      <td>0.608833</td>\n",
       "    </tr>\n",
       "    <tr>\n",
       "      <th>4</th>\n",
       "      <td>0.0</td>\n",
       "      <td>39</td>\n",
       "      <td>39</td>\n",
       "      <td>0.0</td>\n",
       "      <td>0.0</td>\n",
       "      <td>KENWOOD</td>\n",
       "      <td>0.0</td>\n",
       "      <td>2.907174e+07</td>\n",
       "      <td>23325.167906</td>\n",
       "      <td>POLYGON ((-87.59215 41.81693, -87.59215 41.816...</td>\n",
       "      <td>KENWOOD</td>\n",
       "      <td>0.625786</td>\n",
       "    </tr>\n",
       "  </tbody>\n",
       "</table>\n",
       "</div>"
      ],
      "text/plain": [
       "   area area_num_1 area_numbe  comarea  comarea_id        community  \\\n",
       "0   0.0         35         35      0.0         0.0          DOUGLAS   \n",
       "1   0.0         36         36      0.0         0.0          OAKLAND   \n",
       "2   0.0         37         37      0.0         0.0      FULLER PARK   \n",
       "3   0.0         38         38      0.0         0.0  GRAND BOULEVARD   \n",
       "4   0.0         39         39      0.0         0.0          KENWOOD   \n",
       "\n",
       "   perimeter    shape_area     shape_len  \\\n",
       "0        0.0  4.600462e+07  31027.054510   \n",
       "1        0.0  1.691396e+07  19565.506153   \n",
       "2        0.0  1.991670e+07  25339.089750   \n",
       "3        0.0  4.849250e+07  28196.837157   \n",
       "4        0.0  2.907174e+07  23325.167906   \n",
       "\n",
       "                                            geometry Geographic Cluster Name  \\\n",
       "0  POLYGON ((-87.60914 41.84469, -87.60915 41.844...                 DOUGLAS   \n",
       "1  POLYGON ((-87.59215 41.81693, -87.59231 41.816...                 OAKLAND   \n",
       "2  POLYGON ((-87.62880 41.80189, -87.62879 41.801...             FULLER PARK   \n",
       "3  POLYGON ((-87.60671 41.81681, -87.60670 41.816...         GRAND BOULEVARD   \n",
       "4  POLYGON ((-87.59215 41.81693, -87.59215 41.816...                 KENWOOD   \n",
       "\n",
       "   percentage_free_programs  \n",
       "0                  0.586727  \n",
       "1                  0.227749  \n",
       "2                  0.502825  \n",
       "3                  0.608833  \n",
       "4                  0.625786  "
      ]
     },
     "execution_count": 105,
     "metadata": {},
     "output_type": "execute_result"
    }
   ],
   "source": [
    "merge_df = map_df.merge(perc_free.to_frame().reset_index(), left_on='community', how = 'outer', right_on='Geographic Cluster Name')\n",
    "merge_df.rename(columns = {0: \"percentage_free_programs\"}, inplace=True)\n",
    "merge_df.head()"
   ]
  },
  {
   "cell_type": "code",
   "execution_count": 106,
   "metadata": {},
   "outputs": [
    {
     "data": {
      "image/png": "[encoded data removed]",
      "text/plain": [
       "<Figure size 432x288 with 2 Axes>"
      ]
     },
     "metadata": {
      "needs_background": "light"
     },
     "output_type": "display_data"
    }
   ],
   "source": [
    "merge_df.plot(column=\"percentage_free_programs\", legend=True, missing_kwds = dict(color = \"gray\"))\n",
    "plt.title(\"Percentage of Free Programs\")\n",
    "\n",
    "plt.show()"
   ]
  },
  {
   "cell_type": "code",
   "execution_count": 107,
   "metadata": {},
   "outputs": [
    {
     "data": {
      "image/png": "[encoded data removed]",
      "text/plain": [
       "<Figure size 432x288 with 2 Axes>"
      ]
     },
     "metadata": {
      "needs_background": "light"
     },
     "output_type": "display_data"
    }
   ],
   "source": [
    "# Make this into a function because typing repeatedly is tedious, copy paste is a lot of repeated code\n",
    "\n",
    "sch_df = (df.groupby(['Geographic Cluster Name', 'Program Has Scholarships']).size()/df.groupby(['Geographic Cluster Name']).size()).loc[:, 'NO']\n",
    "\n",
    "merge_df = map_df.merge(sch_df.to_frame().reset_index(), left_on='community', right_on='Geographic Cluster Name')\n",
    "merge_df.rename(columns = {0: \"scholarship percentage\"}, inplace=True)\n",
    "merge_df.head()\n",
    "\n",
    "merge_df.plot(column=\"scholarship percentage\", legend=True)\n",
    "plt.title(\"Percentage of Scholarship Programs\")\n",
    "plt.show()"
   ]
  },
  {
   "cell_type": "code",
   "execution_count": 108,
   "metadata": {},
   "outputs": [
    {
     "data": {
      "image/png": "[encoded data removed]",
      "text/plain": [
       "<Figure size 432x288 with 2 Axes>"
      ]
     },
     "metadata": {
      "needs_background": "light"
     },
     "output_type": "display_data"
    }
   ],
   "source": [
    "\n",
    "sch_df = (df.groupby(['Geographic Cluster Name', 'Meeting Type']).size()/df.groupby(['Geographic Cluster Name']).size()).loc[:, 'online']\n",
    "\n",
    "merge_df = map_df.merge(sch_df.to_frame().reset_index(), how = 'outer', left_on='community', right_on='Geographic Cluster Name')\n",
    "merge_df.rename(columns = {0: \"scholarship percentage\"}, inplace=True)\n",
    "merge_df.head()\n",
    "\n",
    "merge_df.plot(column=\"scholarship percentage\", legend=True, missing_kwds = dict(color = \"gray\"))\n",
    "plt.title(\"Percentage of Online Programs\")\n",
    "plt.show()"
   ]
  },
  {
   "cell_type": "code",
   "execution_count": 109,
   "metadata": {},
   "outputs": [
    {
     "data": {
      "image/png": "[encoded data removed]",
      "text/plain": [
       "<Figure size 432x288 with 2 Axes>"
      ]
     },
     "metadata": {
      "needs_background": "light"
     },
     "output_type": "display_data"
    }
   ],
   "source": [
    "transport_df = (df.groupby(['Geographic Cluster Name', 'Program Provides Transportation']).size()/df.groupby(['Geographic Cluster Name']).size()).loc[:, 'NO']\n",
    "transport_df = 1- transport_df \n",
    "transport_df\n",
    "merge_df = map_df.merge(transport_df.to_frame().reset_index(), left_on='community', right_on='Geographic Cluster Name', how='outer')\n",
    "merge_df.rename(columns = {0: \"program provides transportation\"}, inplace=True)\n",
    "merge_df.head()\n",
    "\n",
    "merge_df.plot(column=\"program provides transportation\", missing_kwds = dict(color = \"gray\"), legend=True)\n",
    "plt.title(\"Percentage of Programs that provide Transportation\")\n",
    "plt.show()"
   ]
  },
  {
   "cell_type": "code",
   "execution_count": 22,
   "metadata": {},
   "outputs": [
    {
     "name": "stdout",
     "output_type": "stream",
     "text": [
      "[161. 209. 202. 189. 112. 121.  20.]\n"
     ]
    }
   ],
   "source": [
    "import numpy as np\n",
    "\n",
    "sums = np.zeros(7)\n",
    "\n",
    "for i, scheduled_day in enumerate(['Scheduled Mon', 'Scheduled Tues', 'Scheduled Wed', 'Scheduled Thurs','Scheduled Fri', 'Scheduled Sat', 'Scheduled Sun']):\n",
    "    sums[i] = df[scheduled_day].sum()\n",
    "    \n",
    "print(sums)"
   ]
  },
  {
   "cell_type": "code",
   "execution_count": 23,
   "metadata": {},
   "outputs": [
    {
     "data": {
      "text/plain": [
       "Text(0.5, 1.0, 'Distribution of Events by Day')"
      ]
     },
     "execution_count": 23,
     "metadata": {},
     "output_type": "execute_result"
    },
    {
     "data": {
      "image/png": "[encoded data removed]",
      "text/plain": [
       "<Figure size 432x288 with 1 Axes>"
      ]
     },
     "metadata": {
      "needs_background": "light"
     },
     "output_type": "display_data"
    }
   ],
   "source": [
    "plt.bar(x = ['Mon', 'Tues', 'Wed', 'Thurs','Fri', 'Sat', 'Sun'], height = sums)\n",
    "plt.title(\"Distribution of Events by Day\")"
   ]
  },
  {
   "cell_type": "code",
   "execution_count": 34,
   "metadata": {},
   "outputs": [
    {
     "ename": "TypeError",
     "evalue": "'value' must be an instance of str or bytes, not a float",
     "output_type": "error",
     "traceback": [
      "\u001b[0;31m---------------------------------------------------------------------------\u001b[0m",
      "\u001b[0;31mTypeError\u001b[0m                                 Traceback (most recent call last)",
      "\u001b[0;32m<ipython-input-34-e04912237277>\u001b[0m in \u001b[0;36m<module>\u001b[0;34m\u001b[0m\n\u001b[1;32m      5\u001b[0m \u001b[0mmon_hours\u001b[0m \u001b[0;34m=\u001b[0m \u001b[0mdf\u001b[0m\u001b[0;34m[\u001b[0m\u001b[0;34m~\u001b[0m\u001b[0mdf\u001b[0m\u001b[0;34m[\u001b[0m\u001b[0;34m'Mon Start Time'\u001b[0m\u001b[0;34m]\u001b[0m\u001b[0;34m.\u001b[0m\u001b[0misna\u001b[0m\u001b[0;34m(\u001b[0m\u001b[0;34m)\u001b[0m\u001b[0;34m]\u001b[0m\u001b[0;34m[\u001b[0m\u001b[0;34m'Mon Start Time'\u001b[0m\u001b[0;34m]\u001b[0m\u001b[0;34m\u001b[0m\u001b[0;34m\u001b[0m\u001b[0m\n\u001b[1;32m      6\u001b[0m \u001b[0mmon_end_hours\u001b[0m \u001b[0;34m=\u001b[0m \u001b[0mdf\u001b[0m\u001b[0;34m[\u001b[0m\u001b[0;34m~\u001b[0m\u001b[0mdf\u001b[0m\u001b[0;34m[\u001b[0m\u001b[0;34m'Mon Start Time'\u001b[0m\u001b[0;34m]\u001b[0m\u001b[0;34m.\u001b[0m\u001b[0misna\u001b[0m\u001b[0;34m(\u001b[0m\u001b[0;34m)\u001b[0m\u001b[0;34m]\u001b[0m\u001b[0;34m[\u001b[0m\u001b[0;34m'Mon End Time'\u001b[0m\u001b[0;34m]\u001b[0m\u001b[0;34m\u001b[0m\u001b[0;34m\u001b[0m\u001b[0m\n\u001b[0;32m----> 7\u001b[0;31m \u001b[0mplt\u001b[0m\u001b[0;34m.\u001b[0m\u001b[0mscatter\u001b[0m\u001b[0;34m(\u001b[0m\u001b[0mx\u001b[0m \u001b[0;34m=\u001b[0m \u001b[0mmon_hours\u001b[0m\u001b[0;34m,\u001b[0m \u001b[0my\u001b[0m \u001b[0;34m=\u001b[0m \u001b[0mmon_end_hours\u001b[0m\u001b[0;34m)\u001b[0m\u001b[0;34m\u001b[0m\u001b[0;34m\u001b[0m\u001b[0m\n\u001b[0m\u001b[1;32m      8\u001b[0m \u001b[0mfigure\u001b[0m\u001b[0;34m(\u001b[0m\u001b[0mfigsize\u001b[0m\u001b[0;34m=\u001b[0m\u001b[0;34m(\u001b[0m\u001b[0;36m20\u001b[0m\u001b[0;34m,\u001b[0m \u001b[0;36m6\u001b[0m\u001b[0;34m)\u001b[0m\u001b[0;34m,\u001b[0m \u001b[0mdpi\u001b[0m\u001b[0;34m=\u001b[0m\u001b[0;36m80\u001b[0m\u001b[0;34m)\u001b[0m\u001b[0;34m\u001b[0m\u001b[0;34m\u001b[0m\u001b[0m\n",
      "\u001b[0;32m~/opt/anaconda3/lib/python3.8/site-packages/matplotlib/pyplot.py\u001b[0m in \u001b[0;36mscatter\u001b[0;34m(x, y, s, c, marker, cmap, norm, vmin, vmax, alpha, linewidths, verts, edgecolors, plotnonfinite, data, **kwargs)\u001b[0m\n\u001b[1;32m   2809\u001b[0m         \u001b[0mverts\u001b[0m\u001b[0;34m=\u001b[0m\u001b[0mcbook\u001b[0m\u001b[0;34m.\u001b[0m\u001b[0mdeprecation\u001b[0m\u001b[0;34m.\u001b[0m\u001b[0m_deprecated_parameter\u001b[0m\u001b[0;34m,\u001b[0m\u001b[0;34m\u001b[0m\u001b[0;34m\u001b[0m\u001b[0m\n\u001b[1;32m   2810\u001b[0m         edgecolors=None, *, plotnonfinite=False, data=None, **kwargs):\n\u001b[0;32m-> 2811\u001b[0;31m     __ret = gca().scatter(\n\u001b[0m\u001b[1;32m   2812\u001b[0m         \u001b[0mx\u001b[0m\u001b[0;34m,\u001b[0m \u001b[0my\u001b[0m\u001b[0;34m,\u001b[0m \u001b[0ms\u001b[0m\u001b[0;34m=\u001b[0m\u001b[0ms\u001b[0m\u001b[0;34m,\u001b[0m \u001b[0mc\u001b[0m\u001b[0;34m=\u001b[0m\u001b[0mc\u001b[0m\u001b[0;34m,\u001b[0m \u001b[0mmarker\u001b[0m\u001b[0;34m=\u001b[0m\u001b[0mmarker\u001b[0m\u001b[0;34m,\u001b[0m \u001b[0mcmap\u001b[0m\u001b[0;34m=\u001b[0m\u001b[0mcmap\u001b[0m\u001b[0;34m,\u001b[0m \u001b[0mnorm\u001b[0m\u001b[0;34m=\u001b[0m\u001b[0mnorm\u001b[0m\u001b[0;34m,\u001b[0m\u001b[0;34m\u001b[0m\u001b[0;34m\u001b[0m\u001b[0m\n\u001b[1;32m   2813\u001b[0m         \u001b[0mvmin\u001b[0m\u001b[0;34m=\u001b[0m\u001b[0mvmin\u001b[0m\u001b[0;34m,\u001b[0m \u001b[0mvmax\u001b[0m\u001b[0;34m=\u001b[0m\u001b[0mvmax\u001b[0m\u001b[0;34m,\u001b[0m \u001b[0malpha\u001b[0m\u001b[0;34m=\u001b[0m\u001b[0malpha\u001b[0m\u001b[0;34m,\u001b[0m \u001b[0mlinewidths\u001b[0m\u001b[0;34m=\u001b[0m\u001b[0mlinewidths\u001b[0m\u001b[0;34m,\u001b[0m\u001b[0;34m\u001b[0m\u001b[0;34m\u001b[0m\u001b[0m\n",
      "\u001b[0;32m~/opt/anaconda3/lib/python3.8/site-packages/matplotlib/__init__.py\u001b[0m in \u001b[0;36minner\u001b[0;34m(ax, data, *args, **kwargs)\u001b[0m\n\u001b[1;32m   1563\u001b[0m     \u001b[0;32mdef\u001b[0m \u001b[0minner\u001b[0m\u001b[0;34m(\u001b[0m\u001b[0max\u001b[0m\u001b[0;34m,\u001b[0m \u001b[0;34m*\u001b[0m\u001b[0margs\u001b[0m\u001b[0;34m,\u001b[0m \u001b[0mdata\u001b[0m\u001b[0;34m=\u001b[0m\u001b[0;32mNone\u001b[0m\u001b[0;34m,\u001b[0m \u001b[0;34m**\u001b[0m\u001b[0mkwargs\u001b[0m\u001b[0;34m)\u001b[0m\u001b[0;34m:\u001b[0m\u001b[0;34m\u001b[0m\u001b[0;34m\u001b[0m\u001b[0m\n\u001b[1;32m   1564\u001b[0m         \u001b[0;32mif\u001b[0m \u001b[0mdata\u001b[0m \u001b[0;32mis\u001b[0m \u001b[0;32mNone\u001b[0m\u001b[0;34m:\u001b[0m\u001b[0;34m\u001b[0m\u001b[0;34m\u001b[0m\u001b[0m\n\u001b[0;32m-> 1565\u001b[0;31m             \u001b[0;32mreturn\u001b[0m \u001b[0mfunc\u001b[0m\u001b[0;34m(\u001b[0m\u001b[0max\u001b[0m\u001b[0;34m,\u001b[0m \u001b[0;34m*\u001b[0m\u001b[0mmap\u001b[0m\u001b[0;34m(\u001b[0m\u001b[0msanitize_sequence\u001b[0m\u001b[0;34m,\u001b[0m \u001b[0margs\u001b[0m\u001b[0;34m)\u001b[0m\u001b[0;34m,\u001b[0m \u001b[0;34m**\u001b[0m\u001b[0mkwargs\u001b[0m\u001b[0;34m)\u001b[0m\u001b[0;34m\u001b[0m\u001b[0;34m\u001b[0m\u001b[0m\n\u001b[0m\u001b[1;32m   1566\u001b[0m \u001b[0;34m\u001b[0m\u001b[0m\n\u001b[1;32m   1567\u001b[0m         \u001b[0mbound\u001b[0m \u001b[0;34m=\u001b[0m \u001b[0mnew_sig\u001b[0m\u001b[0;34m.\u001b[0m\u001b[0mbind\u001b[0m\u001b[0;34m(\u001b[0m\u001b[0max\u001b[0m\u001b[0;34m,\u001b[0m \u001b[0;34m*\u001b[0m\u001b[0margs\u001b[0m\u001b[0;34m,\u001b[0m \u001b[0;34m**\u001b[0m\u001b[0mkwargs\u001b[0m\u001b[0;34m)\u001b[0m\u001b[0;34m\u001b[0m\u001b[0;34m\u001b[0m\u001b[0m\n",
      "\u001b[0;32m~/opt/anaconda3/lib/python3.8/site-packages/matplotlib/cbook/deprecation.py\u001b[0m in \u001b[0;36mwrapper\u001b[0;34m(*args, **kwargs)\u001b[0m\n\u001b[1;32m    356\u001b[0m                 \u001b[0;34mf\"%(removal)s.  If any parameter follows {name!r}, they \"\u001b[0m\u001b[0;34m\u001b[0m\u001b[0;34m\u001b[0m\u001b[0m\n\u001b[1;32m    357\u001b[0m                 f\"should be pass as keyword, not positionally.\")\n\u001b[0;32m--> 358\u001b[0;31m         \u001b[0;32mreturn\u001b[0m \u001b[0mfunc\u001b[0m\u001b[0;34m(\u001b[0m\u001b[0;34m*\u001b[0m\u001b[0margs\u001b[0m\u001b[0;34m,\u001b[0m \u001b[0;34m**\u001b[0m\u001b[0mkwargs\u001b[0m\u001b[0;34m)\u001b[0m\u001b[0;34m\u001b[0m\u001b[0;34m\u001b[0m\u001b[0m\n\u001b[0m\u001b[1;32m    359\u001b[0m \u001b[0;34m\u001b[0m\u001b[0m\n\u001b[1;32m    360\u001b[0m     \u001b[0;32mreturn\u001b[0m \u001b[0mwrapper\u001b[0m\u001b[0;34m\u001b[0m\u001b[0;34m\u001b[0m\u001b[0m\n",
      "\u001b[0;32m~/opt/anaconda3/lib/python3.8/site-packages/matplotlib/axes/_axes.py\u001b[0m in \u001b[0;36mscatter\u001b[0;34m(self, x, y, s, c, marker, cmap, norm, vmin, vmax, alpha, linewidths, verts, edgecolors, plotnonfinite, **kwargs)\u001b[0m\n\u001b[1;32m   4380\u001b[0m         \u001b[0;31m# Process **kwargs to handle aliases, conflicts with explicit kwargs:\u001b[0m\u001b[0;34m\u001b[0m\u001b[0;34m\u001b[0m\u001b[0;34m\u001b[0m\u001b[0m\n\u001b[1;32m   4381\u001b[0m \u001b[0;34m\u001b[0m\u001b[0m\n\u001b[0;32m-> 4382\u001b[0;31m         \u001b[0mself\u001b[0m\u001b[0;34m.\u001b[0m\u001b[0m_process_unit_info\u001b[0m\u001b[0;34m(\u001b[0m\u001b[0mxdata\u001b[0m\u001b[0;34m=\u001b[0m\u001b[0mx\u001b[0m\u001b[0;34m,\u001b[0m \u001b[0mydata\u001b[0m\u001b[0;34m=\u001b[0m\u001b[0my\u001b[0m\u001b[0;34m,\u001b[0m \u001b[0mkwargs\u001b[0m\u001b[0;34m=\u001b[0m\u001b[0mkwargs\u001b[0m\u001b[0;34m)\u001b[0m\u001b[0;34m\u001b[0m\u001b[0;34m\u001b[0m\u001b[0m\n\u001b[0m\u001b[1;32m   4383\u001b[0m         \u001b[0mx\u001b[0m \u001b[0;34m=\u001b[0m \u001b[0mself\u001b[0m\u001b[0;34m.\u001b[0m\u001b[0mconvert_xunits\u001b[0m\u001b[0;34m(\u001b[0m\u001b[0mx\u001b[0m\u001b[0;34m)\u001b[0m\u001b[0;34m\u001b[0m\u001b[0;34m\u001b[0m\u001b[0m\n\u001b[1;32m   4384\u001b[0m         \u001b[0my\u001b[0m \u001b[0;34m=\u001b[0m \u001b[0mself\u001b[0m\u001b[0;34m.\u001b[0m\u001b[0mconvert_yunits\u001b[0m\u001b[0;34m(\u001b[0m\u001b[0my\u001b[0m\u001b[0;34m)\u001b[0m\u001b[0;34m\u001b[0m\u001b[0;34m\u001b[0m\u001b[0m\n",
      "\u001b[0;32m~/opt/anaconda3/lib/python3.8/site-packages/matplotlib/axes/_base.py\u001b[0m in \u001b[0;36m_process_unit_info\u001b[0;34m(self, xdata, ydata, kwargs)\u001b[0m\n\u001b[1;32m   2072\u001b[0m \u001b[0;34m\u001b[0m\u001b[0m\n\u001b[1;32m   2073\u001b[0m         \u001b[0mkwargs\u001b[0m \u001b[0;34m=\u001b[0m \u001b[0m_process_single_axis\u001b[0m\u001b[0;34m(\u001b[0m\u001b[0mxdata\u001b[0m\u001b[0;34m,\u001b[0m \u001b[0mself\u001b[0m\u001b[0;34m.\u001b[0m\u001b[0mxaxis\u001b[0m\u001b[0;34m,\u001b[0m \u001b[0;34m'xunits'\u001b[0m\u001b[0;34m,\u001b[0m \u001b[0mkwargs\u001b[0m\u001b[0;34m)\u001b[0m\u001b[0;34m\u001b[0m\u001b[0;34m\u001b[0m\u001b[0m\n\u001b[0;32m-> 2074\u001b[0;31m         \u001b[0mkwargs\u001b[0m \u001b[0;34m=\u001b[0m \u001b[0m_process_single_axis\u001b[0m\u001b[0;34m(\u001b[0m\u001b[0mydata\u001b[0m\u001b[0;34m,\u001b[0m \u001b[0mself\u001b[0m\u001b[0;34m.\u001b[0m\u001b[0myaxis\u001b[0m\u001b[0;34m,\u001b[0m \u001b[0;34m'yunits'\u001b[0m\u001b[0;34m,\u001b[0m \u001b[0mkwargs\u001b[0m\u001b[0;34m)\u001b[0m\u001b[0;34m\u001b[0m\u001b[0;34m\u001b[0m\u001b[0m\n\u001b[0m\u001b[1;32m   2075\u001b[0m         \u001b[0;32mreturn\u001b[0m \u001b[0mkwargs\u001b[0m\u001b[0;34m\u001b[0m\u001b[0;34m\u001b[0m\u001b[0m\n\u001b[1;32m   2076\u001b[0m \u001b[0;34m\u001b[0m\u001b[0m\n",
      "\u001b[0;32m~/opt/anaconda3/lib/python3.8/site-packages/matplotlib/axes/_base.py\u001b[0m in \u001b[0;36m_process_single_axis\u001b[0;34m(data, axis, unit_name, kwargs)\u001b[0m\n\u001b[1;32m   2054\u001b[0m                 \u001b[0;31m# We only need to update if there is nothing set yet.\u001b[0m\u001b[0;34m\u001b[0m\u001b[0;34m\u001b[0m\u001b[0;34m\u001b[0m\u001b[0m\n\u001b[1;32m   2055\u001b[0m                 \u001b[0;32mif\u001b[0m \u001b[0;32mnot\u001b[0m \u001b[0maxis\u001b[0m\u001b[0;34m.\u001b[0m\u001b[0mhave_units\u001b[0m\u001b[0;34m(\u001b[0m\u001b[0;34m)\u001b[0m\u001b[0;34m:\u001b[0m\u001b[0;34m\u001b[0m\u001b[0;34m\u001b[0m\u001b[0m\n\u001b[0;32m-> 2056\u001b[0;31m                     \u001b[0maxis\u001b[0m\u001b[0;34m.\u001b[0m\u001b[0mupdate_units\u001b[0m\u001b[0;34m(\u001b[0m\u001b[0mdata\u001b[0m\u001b[0;34m)\u001b[0m\u001b[0;34m\u001b[0m\u001b[0;34m\u001b[0m\u001b[0m\n\u001b[0m\u001b[1;32m   2057\u001b[0m \u001b[0;34m\u001b[0m\u001b[0m\n\u001b[1;32m   2058\u001b[0m             \u001b[0;31m# Check for units in the kwargs, and if present update axis\u001b[0m\u001b[0;34m\u001b[0m\u001b[0;34m\u001b[0m\u001b[0;34m\u001b[0m\u001b[0m\n",
      "\u001b[0;32m~/opt/anaconda3/lib/python3.8/site-packages/matplotlib/axis.py\u001b[0m in \u001b[0;36mupdate_units\u001b[0;34m(self, data)\u001b[0m\n\u001b[1;32m   1514\u001b[0m         \u001b[0mneednew\u001b[0m \u001b[0;34m=\u001b[0m \u001b[0mself\u001b[0m\u001b[0;34m.\u001b[0m\u001b[0mconverter\u001b[0m \u001b[0;34m!=\u001b[0m \u001b[0mconverter\u001b[0m\u001b[0;34m\u001b[0m\u001b[0;34m\u001b[0m\u001b[0m\n\u001b[1;32m   1515\u001b[0m         \u001b[0mself\u001b[0m\u001b[0;34m.\u001b[0m\u001b[0mconverter\u001b[0m \u001b[0;34m=\u001b[0m \u001b[0mconverter\u001b[0m\u001b[0;34m\u001b[0m\u001b[0;34m\u001b[0m\u001b[0m\n\u001b[0;32m-> 1516\u001b[0;31m         \u001b[0mdefault\u001b[0m \u001b[0;34m=\u001b[0m \u001b[0mself\u001b[0m\u001b[0;34m.\u001b[0m\u001b[0mconverter\u001b[0m\u001b[0;34m.\u001b[0m\u001b[0mdefault_units\u001b[0m\u001b[0;34m(\u001b[0m\u001b[0mdata\u001b[0m\u001b[0;34m,\u001b[0m \u001b[0mself\u001b[0m\u001b[0;34m)\u001b[0m\u001b[0;34m\u001b[0m\u001b[0;34m\u001b[0m\u001b[0m\n\u001b[0m\u001b[1;32m   1517\u001b[0m         \u001b[0;32mif\u001b[0m \u001b[0mdefault\u001b[0m \u001b[0;32mis\u001b[0m \u001b[0;32mnot\u001b[0m \u001b[0;32mNone\u001b[0m \u001b[0;32mand\u001b[0m \u001b[0mself\u001b[0m\u001b[0;34m.\u001b[0m\u001b[0munits\u001b[0m \u001b[0;32mis\u001b[0m \u001b[0;32mNone\u001b[0m\u001b[0;34m:\u001b[0m\u001b[0;34m\u001b[0m\u001b[0;34m\u001b[0m\u001b[0m\n\u001b[1;32m   1518\u001b[0m             \u001b[0mself\u001b[0m\u001b[0;34m.\u001b[0m\u001b[0mset_units\u001b[0m\u001b[0;34m(\u001b[0m\u001b[0mdefault\u001b[0m\u001b[0;34m)\u001b[0m\u001b[0;34m\u001b[0m\u001b[0;34m\u001b[0m\u001b[0m\n",
      "\u001b[0;32m~/opt/anaconda3/lib/python3.8/site-packages/matplotlib/category.py\u001b[0m in \u001b[0;36mdefault_units\u001b[0;34m(data, axis)\u001b[0m\n\u001b[1;32m    105\u001b[0m         \u001b[0;31m# the conversion call stack is default_units -> axis_info -> convert\u001b[0m\u001b[0;34m\u001b[0m\u001b[0;34m\u001b[0m\u001b[0;34m\u001b[0m\u001b[0m\n\u001b[1;32m    106\u001b[0m         \u001b[0;32mif\u001b[0m \u001b[0maxis\u001b[0m\u001b[0;34m.\u001b[0m\u001b[0munits\u001b[0m \u001b[0;32mis\u001b[0m \u001b[0;32mNone\u001b[0m\u001b[0;34m:\u001b[0m\u001b[0;34m\u001b[0m\u001b[0;34m\u001b[0m\u001b[0m\n\u001b[0;32m--> 107\u001b[0;31m             \u001b[0maxis\u001b[0m\u001b[0;34m.\u001b[0m\u001b[0mset_units\u001b[0m\u001b[0;34m(\u001b[0m\u001b[0mUnitData\u001b[0m\u001b[0;34m(\u001b[0m\u001b[0mdata\u001b[0m\u001b[0;34m)\u001b[0m\u001b[0;34m)\u001b[0m\u001b[0;34m\u001b[0m\u001b[0;34m\u001b[0m\u001b[0m\n\u001b[0m\u001b[1;32m    108\u001b[0m         \u001b[0;32melse\u001b[0m\u001b[0;34m:\u001b[0m\u001b[0;34m\u001b[0m\u001b[0;34m\u001b[0m\u001b[0m\n\u001b[1;32m    109\u001b[0m             \u001b[0maxis\u001b[0m\u001b[0;34m.\u001b[0m\u001b[0munits\u001b[0m\u001b[0;34m.\u001b[0m\u001b[0mupdate\u001b[0m\u001b[0;34m(\u001b[0m\u001b[0mdata\u001b[0m\u001b[0;34m)\u001b[0m\u001b[0;34m\u001b[0m\u001b[0;34m\u001b[0m\u001b[0m\n",
      "\u001b[0;32m~/opt/anaconda3/lib/python3.8/site-packages/matplotlib/category.py\u001b[0m in \u001b[0;36m__init__\u001b[0;34m(self, data)\u001b[0m\n\u001b[1;32m    173\u001b[0m         \u001b[0mself\u001b[0m\u001b[0;34m.\u001b[0m\u001b[0m_counter\u001b[0m \u001b[0;34m=\u001b[0m \u001b[0mitertools\u001b[0m\u001b[0;34m.\u001b[0m\u001b[0mcount\u001b[0m\u001b[0;34m(\u001b[0m\u001b[0;34m)\u001b[0m\u001b[0;34m\u001b[0m\u001b[0;34m\u001b[0m\u001b[0m\n\u001b[1;32m    174\u001b[0m         \u001b[0;32mif\u001b[0m \u001b[0mdata\u001b[0m \u001b[0;32mis\u001b[0m \u001b[0;32mnot\u001b[0m \u001b[0;32mNone\u001b[0m\u001b[0;34m:\u001b[0m\u001b[0;34m\u001b[0m\u001b[0;34m\u001b[0m\u001b[0m\n\u001b[0;32m--> 175\u001b[0;31m             \u001b[0mself\u001b[0m\u001b[0;34m.\u001b[0m\u001b[0mupdate\u001b[0m\u001b[0;34m(\u001b[0m\u001b[0mdata\u001b[0m\u001b[0;34m)\u001b[0m\u001b[0;34m\u001b[0m\u001b[0;34m\u001b[0m\u001b[0m\n\u001b[0m\u001b[1;32m    176\u001b[0m \u001b[0;34m\u001b[0m\u001b[0m\n\u001b[1;32m    177\u001b[0m     \u001b[0;34m@\u001b[0m\u001b[0mstaticmethod\u001b[0m\u001b[0;34m\u001b[0m\u001b[0;34m\u001b[0m\u001b[0m\n",
      "\u001b[0;32m~/opt/anaconda3/lib/python3.8/site-packages/matplotlib/category.py\u001b[0m in \u001b[0;36mupdate\u001b[0;34m(self, data)\u001b[0m\n\u001b[1;32m    210\u001b[0m         \u001b[0;32mfor\u001b[0m \u001b[0mval\u001b[0m \u001b[0;32min\u001b[0m \u001b[0mOrderedDict\u001b[0m\u001b[0;34m.\u001b[0m\u001b[0mfromkeys\u001b[0m\u001b[0;34m(\u001b[0m\u001b[0mdata\u001b[0m\u001b[0;34m)\u001b[0m\u001b[0;34m:\u001b[0m\u001b[0;34m\u001b[0m\u001b[0;34m\u001b[0m\u001b[0m\n\u001b[1;32m    211\u001b[0m             \u001b[0;31m# OrderedDict just iterates over unique values in data.\u001b[0m\u001b[0;34m\u001b[0m\u001b[0;34m\u001b[0m\u001b[0;34m\u001b[0m\u001b[0m\n\u001b[0;32m--> 212\u001b[0;31m             \u001b[0mcbook\u001b[0m\u001b[0;34m.\u001b[0m\u001b[0m_check_isinstance\u001b[0m\u001b[0;34m(\u001b[0m\u001b[0;34m(\u001b[0m\u001b[0mstr\u001b[0m\u001b[0;34m,\u001b[0m \u001b[0mbytes\u001b[0m\u001b[0;34m)\u001b[0m\u001b[0;34m,\u001b[0m \u001b[0mvalue\u001b[0m\u001b[0;34m=\u001b[0m\u001b[0mval\u001b[0m\u001b[0;34m)\u001b[0m\u001b[0;34m\u001b[0m\u001b[0;34m\u001b[0m\u001b[0m\n\u001b[0m\u001b[1;32m    213\u001b[0m             \u001b[0;32mif\u001b[0m \u001b[0mconvertible\u001b[0m\u001b[0;34m:\u001b[0m\u001b[0;34m\u001b[0m\u001b[0;34m\u001b[0m\u001b[0m\n\u001b[1;32m    214\u001b[0m                 \u001b[0;31m# this will only be called so long as convertible is True.\u001b[0m\u001b[0;34m\u001b[0m\u001b[0;34m\u001b[0m\u001b[0;34m\u001b[0m\u001b[0m\n",
      "\u001b[0;32m~/opt/anaconda3/lib/python3.8/site-packages/matplotlib/cbook/__init__.py\u001b[0m in \u001b[0;36m_check_isinstance\u001b[0;34m(_types, **kwargs)\u001b[0m\n\u001b[1;32m   2121\u001b[0m     \u001b[0;32mfor\u001b[0m \u001b[0mk\u001b[0m\u001b[0;34m,\u001b[0m \u001b[0mv\u001b[0m \u001b[0;32min\u001b[0m \u001b[0mkwargs\u001b[0m\u001b[0;34m.\u001b[0m\u001b[0mitems\u001b[0m\u001b[0;34m(\u001b[0m\u001b[0;34m)\u001b[0m\u001b[0;34m:\u001b[0m\u001b[0;34m\u001b[0m\u001b[0;34m\u001b[0m\u001b[0m\n\u001b[1;32m   2122\u001b[0m         \u001b[0;32mif\u001b[0m \u001b[0;32mnot\u001b[0m \u001b[0misinstance\u001b[0m\u001b[0;34m(\u001b[0m\u001b[0mv\u001b[0m\u001b[0;34m,\u001b[0m \u001b[0mtypes\u001b[0m\u001b[0;34m)\u001b[0m\u001b[0;34m:\u001b[0m\u001b[0;34m\u001b[0m\u001b[0;34m\u001b[0m\u001b[0m\n\u001b[0;32m-> 2123\u001b[0;31m             raise TypeError(\n\u001b[0m\u001b[1;32m   2124\u001b[0m                 \"{!r} must be an instance of {}, not a {}\".format(\n\u001b[1;32m   2125\u001b[0m                     \u001b[0mk\u001b[0m\u001b[0;34m,\u001b[0m\u001b[0;34m\u001b[0m\u001b[0;34m\u001b[0m\u001b[0m\n",
      "\u001b[0;31mTypeError\u001b[0m: 'value' must be an instance of str or bytes, not a float"
     ]
    },
    {
     "data": {
      "image/png": "[encoded data removed]",
      "text/plain": [
       "<Figure size 432x288 with 1 Axes>"
      ]
     },
     "metadata": {
      "needs_background": "light"
     },
     "output_type": "display_data"
    }
   ],
   "source": []
  },
  {
   "cell_type": "code",
   "execution_count": 35,
   "metadata": {},
   "outputs": [
    {
     "data": {
      "text/plain": [
       "Index(['IndexRow', 'Id', 'Logo Url', 'Program Name', 'Description', 'Org Name',\n",
       "       'Category Name', 'Capacity', 'Min Age', 'Max Age', 'Meeting Type',\n",
       "       'Address', 'City', 'State', 'Zipcode', 'Online Address', 'Program Url',\n",
       "       'Registration Url', 'Registration Open', 'Registration Deadline',\n",
       "       'Start Date', 'End Date', 'Start Time', 'End Time', 'Scheduled Mon',\n",
       "       'Scheduled Tues', 'Scheduled Fri', 'Scheduled Sat', 'Scheduled Sun',\n",
       "       'Scheduled Thurs', 'Scheduled Wed', 'Fri End Time', 'Fri Start Time',\n",
       "       'Mon End Time', 'Mon Start Time', 'Sat End Time', 'Sat Start Time',\n",
       "       'Sun End Time', 'Sun Start Time', 'Thurs End Time', 'Thurs Start Time',\n",
       "       'Tues End Time', 'Tues Start Time', 'Wed End Time', 'Wed Start Time',\n",
       "       'Contact Name', 'Contact Email', 'Contact Phone', 'Program Price',\n",
       "       'Geographic Cluster Name', 'Program Pays Participants',\n",
       "       'Program Has Scholarships', 'Program Provides Transportation',\n",
       "       'Latitude', 'Longitude', 'Program Provides Free Food'],\n",
       "      dtype='object')"
      ]
     },
     "execution_count": 35,
     "metadata": {},
     "output_type": "execute_result"
    }
   ],
   "source": [
    "df.columns"
   ]
  },
  {
   "cell_type": "code",
   "execution_count": 36,
   "metadata": {},
   "outputs": [
    {
     "data": {
      "text/plain": [
       "0        Free\n",
       "1        Free\n",
       "2        Free\n",
       "3        Free\n",
       "4        Free\n",
       "         ... \n",
       "84873    Free\n",
       "84874    Free\n",
       "84875    Free\n",
       "84876    Free\n",
       "84877    Free\n",
       "Name: Program Price, Length: 84606, dtype: object"
      ]
     },
     "execution_count": 36,
     "metadata": {},
     "output_type": "execute_result"
    }
   ],
   "source": [
    "df['Program Price']"
   ]
  },
  {
   "cell_type": "code",
   "execution_count": 69,
   "metadata": {},
   "outputs": [
    {
     "data": {
      "text/plain": [
       "<matplotlib.legend.Legend at 0x7fc0b615e910>"
      ]
     },
     "execution_count": 69,
     "metadata": {},
     "output_type": "execute_result"
    },
    {
     "data": {
      "image/png": "[encoded data removed]",
      "text/plain": [
       "<Figure size 432x288 with 1 Axes>"
      ]
     },
     "metadata": {
      "needs_background": "light"
     },
     "output_type": "display_data"
    }
   ],
   "source": [
    "sports_df = df[df['Category Name'] == 'Sports & Wellness']['Min Age']\n",
    "music_df = df[df['Category Name'] == 'Music & Art']['Min Age']\n",
    "reading_df = df[df['Category Name'] == 'Reading & Writing']['Min Age']\n",
    "\n",
    "colors = ['#7777FF', '#77AA99', '#FF7777']\n",
    "labels = ['Sports & Wellness', 'Music & Art', 'Reading & Writing']\n",
    "\n",
    "plt.hist([sports_df, music_df, reading_df], stacked=True, color=colors, label = labels, density = True)\n",
    "plt.title(\"Distribution of Programs Based on Minimum Age\")\n",
    "plt.legend()"
   ]
  },
  {
   "cell_type": "code",
   "execution_count": 59,
   "metadata": {},
   "outputs": [
    {
     "data": {
      "text/plain": [
       "array(['Academic Support', 'Work + Career ', 'Music & Art.',\n",
       "       'Managing Money.', 'Helping Your Community.', 'Reading & Writing',\n",
       "       'Sports + Wellness.', 'Computers.', 'Science ',\n",
       "       'Building And Fixing Things', 'Computers', 'Performance.',\n",
       "       'Helping Your Community', 'Science & Math', 'Food', 'Food.',\n",
       "       'Building & Fixing Things', 'Reading & Writing.', 'Math',\n",
       "       'Digital Media.', 'Nature.', 'Healthcare', 'Transportation',\n",
       "       'Social Studies ', 'Teaching', 'Law', 'Customer/Human Service',\n",
       "       nan], dtype=object)"
      ]
     },
     "execution_count": 59,
     "metadata": {},
     "output_type": "execute_result"
    }
   ],
   "source": [
    "df['Category Name'].unique()"
   ]
  },
  {
   "cell_type": "code",
   "execution_count": null,
   "metadata": {},
   "outputs": [],
   "source": []
  }
 ],
 "metadata": {
  "kernelspec": {
   "display_name": "Python 3 (ipykernel)",
   "language": "python",
   "name": "python3"
  },
  "language_info": {
   "codemirror_mode": {
    "name": "ipython",
    "version": 3
   },
   "file_extension": ".py",
   "mimetype": "text/x-python",
   "name": "python",
   "nbconvert_exporter": "python",
   "pygments_lexer": "ipython3",
   "version": "3.10.11"
  }
 },
 "nbformat": 4,
 "nbformat_minor": 4
}
