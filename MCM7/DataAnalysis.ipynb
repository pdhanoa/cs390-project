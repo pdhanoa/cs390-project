{
 "cells": [
  {
   "cell_type": "code",
   "execution_count": 41,
   "metadata": {},
   "outputs": [],
   "source": [
    "import matplotlib.pyplot as plt\n",
    "import pandas as pd\n",
    "import shapefile as shp  # Requires the pyshp package\n",
    "import matplotlib.pyplot as plt\n",
    "import seaborn as sns"
   ]
  },
  {
   "cell_type": "code",
   "execution_count": 77,
   "metadata": {},
   "outputs": [
    {
     "name": "stderr",
     "output_type": "stream",
     "text": [
      "/Users/pdhanoa/opt/anaconda3/lib/python3.8/site-packages/IPython/core/interactiveshell.py:3343: DtypeWarning: Columns (14,28,37,38) have mixed types.Specify dtype option on import or set low_memory=False.\n",
      "  exec(code_obj, self.user_global_ns, self.user_ns)\n"
     ]
    },
    {
     "data": {
      "text/html": [
       "<div>\n",
       "<style scoped>\n",
       "    .dataframe tbody tr th:only-of-type {\n",
       "        vertical-align: middle;\n",
       "    }\n",
       "\n",
       "    .dataframe tbody tr th {\n",
       "        vertical-align: top;\n",
       "    }\n",
       "\n",
       "    .dataframe thead th {\n",
       "        text-align: right;\n",
       "    }\n",
       "</style>\n",
       "<table border=\"1\" class=\"dataframe\">\n",
       "  <thead>\n",
       "    <tr style=\"text-align: right;\">\n",
       "      <th></th>\n",
       "      <th>IndexRow</th>\n",
       "      <th>Id</th>\n",
       "      <th>Logo Url</th>\n",
       "      <th>Program Name</th>\n",
       "      <th>Description</th>\n",
       "      <th>Org Name</th>\n",
       "      <th>Category Name</th>\n",
       "      <th>Capacity</th>\n",
       "      <th>Min Age</th>\n",
       "      <th>Max Age</th>\n",
       "      <th>...</th>\n",
       "      <th>Contact Email</th>\n",
       "      <th>Contact Phone</th>\n",
       "      <th>Program Price</th>\n",
       "      <th>Geographic Cluster Name</th>\n",
       "      <th>Program Pays Participants</th>\n",
       "      <th>Program Has Scholarships</th>\n",
       "      <th>Program Provides Transportation</th>\n",
       "      <th>Latitude</th>\n",
       "      <th>Longitude</th>\n",
       "      <th>Program Provides Free Food</th>\n",
       "    </tr>\n",
       "  </thead>\n",
       "  <tbody>\n",
       "    <tr>\n",
       "      <th>0</th>\n",
       "      <td>4,568</td>\n",
       "      <td>78752</td>\n",
       "      <td>NaN</td>\n",
       "      <td>BBBS Community Based Mentoring (Year Round)</td>\n",
       "      <td>Community Based Mentoring is the traditional B...</td>\n",
       "      <td>Big Brothers Big Sisters</td>\n",
       "      <td>Academic Support</td>\n",
       "      <td>2000.0</td>\n",
       "      <td>7</td>\n",
       "      <td>15</td>\n",
       "      <td>...</td>\n",
       "      <td>recruitment@bbbschgo.org</td>\n",
       "      <td>NaN</td>\n",
       "      <td>Free</td>\n",
       "      <td>NEAR WEST SIDE</td>\n",
       "      <td>Not Paid</td>\n",
       "      <td>YES</td>\n",
       "      <td>YES</td>\n",
       "      <td>41.886002</td>\n",
       "      <td>-87.642403</td>\n",
       "      <td>False</td>\n",
       "    </tr>\n",
       "    <tr>\n",
       "      <th>1</th>\n",
       "      <td>4,569</td>\n",
       "      <td>78752</td>\n",
       "      <td>NaN</td>\n",
       "      <td>BBBS Community Based Mentoring (Year Round)</td>\n",
       "      <td>Community Based Mentoring is the traditional B...</td>\n",
       "      <td>Big Brothers Big Sisters</td>\n",
       "      <td>Work + Career</td>\n",
       "      <td>2000.0</td>\n",
       "      <td>7</td>\n",
       "      <td>15</td>\n",
       "      <td>...</td>\n",
       "      <td>recruitment@bbbschgo.org</td>\n",
       "      <td>NaN</td>\n",
       "      <td>Free</td>\n",
       "      <td>NEAR WEST SIDE</td>\n",
       "      <td>Not Paid</td>\n",
       "      <td>YES</td>\n",
       "      <td>YES</td>\n",
       "      <td>41.886002</td>\n",
       "      <td>-87.642403</td>\n",
       "      <td>False</td>\n",
       "    </tr>\n",
       "    <tr>\n",
       "      <th>2</th>\n",
       "      <td>4,562</td>\n",
       "      <td>78749</td>\n",
       "      <td>https://cityoflearning-uploads.s3.amazonaws.co...</td>\n",
       "      <td>Youth Mentoring and Academic Supports</td>\n",
       "      <td>Young Men's Educational Network provides mento...</td>\n",
       "      <td>Youth Mentoring and Academic Supports</td>\n",
       "      <td>Academic Support</td>\n",
       "      <td>100.0</td>\n",
       "      <td>12</td>\n",
       "      <td>18</td>\n",
       "      <td>...</td>\n",
       "      <td>wchatman@ymenchicago.com</td>\n",
       "      <td>NaN</td>\n",
       "      <td>Free</td>\n",
       "      <td>NORTH LAWNDALE</td>\n",
       "      <td>Not Paid</td>\n",
       "      <td>NO</td>\n",
       "      <td>NO</td>\n",
       "      <td>41.864799</td>\n",
       "      <td>-87.724800</td>\n",
       "      <td>True</td>\n",
       "    </tr>\n",
       "    <tr>\n",
       "      <th>3</th>\n",
       "      <td>4,563</td>\n",
       "      <td>78749</td>\n",
       "      <td>https://cityoflearning-uploads.s3.amazonaws.co...</td>\n",
       "      <td>Youth Mentoring and Academic Supports</td>\n",
       "      <td>Young Men's Educational Network provides mento...</td>\n",
       "      <td>Youth Mentoring and Academic Supports</td>\n",
       "      <td>Music &amp; Art.</td>\n",
       "      <td>100.0</td>\n",
       "      <td>12</td>\n",
       "      <td>18</td>\n",
       "      <td>...</td>\n",
       "      <td>wchatman@ymenchicago.com</td>\n",
       "      <td>NaN</td>\n",
       "      <td>Free</td>\n",
       "      <td>NORTH LAWNDALE</td>\n",
       "      <td>Not Paid</td>\n",
       "      <td>NO</td>\n",
       "      <td>NO</td>\n",
       "      <td>41.864799</td>\n",
       "      <td>-87.724800</td>\n",
       "      <td>True</td>\n",
       "    </tr>\n",
       "    <tr>\n",
       "      <th>4</th>\n",
       "      <td>4,557</td>\n",
       "      <td>78746</td>\n",
       "      <td>https://cityoflearning-uploads.s3.amazonaws.co...</td>\n",
       "      <td>Refugee Youth Career Pathways</td>\n",
       "      <td>Refugee Youth Career Pathways (RYCP) provides ...</td>\n",
       "      <td>RefugeeOne</td>\n",
       "      <td>Managing Money.</td>\n",
       "      <td>15.0</td>\n",
       "      <td>16</td>\n",
       "      <td>24</td>\n",
       "      <td>...</td>\n",
       "      <td>NaN</td>\n",
       "      <td>NaN</td>\n",
       "      <td>Free</td>\n",
       "      <td>NaN</td>\n",
       "      <td>Not Paid</td>\n",
       "      <td>YES</td>\n",
       "      <td>YES</td>\n",
       "      <td>NaN</td>\n",
       "      <td>NaN</td>\n",
       "      <td>False</td>\n",
       "    </tr>\n",
       "  </tbody>\n",
       "</table>\n",
       "<p>5 rows × 56 columns</p>\n",
       "</div>"
      ],
      "text/plain": [
       "  IndexRow     Id                                           Logo Url  \\\n",
       "0    4,568  78752                                                NaN   \n",
       "1    4,569  78752                                                NaN   \n",
       "2    4,562  78749  https://cityoflearning-uploads.s3.amazonaws.co...   \n",
       "3    4,563  78749  https://cityoflearning-uploads.s3.amazonaws.co...   \n",
       "4    4,557  78746  https://cityoflearning-uploads.s3.amazonaws.co...   \n",
       "\n",
       "                                  Program Name  \\\n",
       "0  BBBS Community Based Mentoring (Year Round)   \n",
       "1  BBBS Community Based Mentoring (Year Round)   \n",
       "2        Youth Mentoring and Academic Supports   \n",
       "3        Youth Mentoring and Academic Supports   \n",
       "4                Refugee Youth Career Pathways   \n",
       "\n",
       "                                         Description  \\\n",
       "0  Community Based Mentoring is the traditional B...   \n",
       "1  Community Based Mentoring is the traditional B...   \n",
       "2  Young Men's Educational Network provides mento...   \n",
       "3  Young Men's Educational Network provides mento...   \n",
       "4  Refugee Youth Career Pathways (RYCP) provides ...   \n",
       "\n",
       "                                Org Name     Category Name  Capacity  Min Age  \\\n",
       "0               Big Brothers Big Sisters  Academic Support    2000.0        7   \n",
       "1               Big Brothers Big Sisters    Work + Career     2000.0        7   \n",
       "2  Youth Mentoring and Academic Supports  Academic Support     100.0       12   \n",
       "3  Youth Mentoring and Academic Supports      Music & Art.     100.0       12   \n",
       "4                             RefugeeOne   Managing Money.      15.0       16   \n",
       "\n",
       "   Max Age  ...             Contact Email Contact Phone Program Price  \\\n",
       "0       15  ...  recruitment@bbbschgo.org           NaN          Free   \n",
       "1       15  ...  recruitment@bbbschgo.org           NaN          Free   \n",
       "2       18  ...  wchatman@ymenchicago.com           NaN          Free   \n",
       "3       18  ...  wchatman@ymenchicago.com           NaN          Free   \n",
       "4       24  ...                       NaN           NaN          Free   \n",
       "\n",
       "  Geographic Cluster Name Program Pays Participants Program Has Scholarships  \\\n",
       "0          NEAR WEST SIDE                  Not Paid                      YES   \n",
       "1          NEAR WEST SIDE                  Not Paid                      YES   \n",
       "2          NORTH LAWNDALE                  Not Paid                       NO   \n",
       "3          NORTH LAWNDALE                  Not Paid                       NO   \n",
       "4                     NaN                  Not Paid                      YES   \n",
       "\n",
       "  Program Provides Transportation   Latitude  Longitude  \\\n",
       "0                             YES  41.886002 -87.642403   \n",
       "1                             YES  41.886002 -87.642403   \n",
       "2                              NO  41.864799 -87.724800   \n",
       "3                              NO  41.864799 -87.724800   \n",
       "4                             YES        NaN        NaN   \n",
       "\n",
       "  Program Provides Free Food  \n",
       "0                      False  \n",
       "1                      False  \n",
       "2                       True  \n",
       "3                       True  \n",
       "4                      False  \n",
       "\n",
       "[5 rows x 56 columns]"
      ]
     },
     "execution_count": 77,
     "metadata": {},
     "output_type": "execute_result"
    }
   ],
   "source": [
    "df = pd.read_csv('data/convert_MCMF_ALL_TIME_DATA.csv', sep = '\\t')\n",
    "df = df[df['Min Age'] <= 25]\n",
    "df.head()"
   ]
  },
  {
   "cell_type": "code",
   "execution_count": 9,
   "metadata": {},
   "outputs": [
    {
     "data": {
      "text/plain": [
       "Index(['IndexRow', 'Id', 'Logo Url', 'Program Name', 'Description', 'Org Name',\n",
       "       'Category Name', 'Capacity', 'Min Age', 'Max Age', 'Meeting Type',\n",
       "       'Address', 'City', 'State', 'Zipcode', 'Online Address', 'Program Url',\n",
       "       'Registration Url', 'Registration Open', 'Registration Deadline',\n",
       "       'Start Date', 'End Date', 'Start Time', 'End Time', 'Scheduled Mon',\n",
       "       'Scheduled Tues', 'Scheduled Fri', 'Scheduled Sat', 'Scheduled Sun',\n",
       "       'Scheduled Thurs', 'Scheduled Wed', 'Fri End Time', 'Fri Start Time',\n",
       "       'Mon End Time', 'Mon Start Time', 'Sat End Time', 'Sat Start Time',\n",
       "       'Sun End Time', 'Sun Start Time', 'Thurs End Time', 'Thurs Start Time',\n",
       "       'Tues End Time', 'Tues Start Time', 'Wed End Time', 'Wed Start Time',\n",
       "       'Contact Name', 'Contact Email', 'Contact Phone', 'Program Price',\n",
       "       'Geographic Cluster Name', 'Program Pays Participants',\n",
       "       'Program Has Scholarships', 'Program Provides Transportation',\n",
       "       'Latitude', 'Longitude', 'Program Provides Free Food'],\n",
       "      dtype='object')"
      ]
     },
     "execution_count": 9,
     "metadata": {},
     "output_type": "execute_result"
    }
   ],
   "source": [
    "df.columns"
   ]
  },
  {
   "cell_type": "code",
   "execution_count": 10,
   "metadata": {},
   "outputs": [
    {
     "data": {
      "text/plain": [
       "array(['Free', '$50 or Less', 'More Than $50', 'Unknown'], dtype=object)"
      ]
     },
     "execution_count": 10,
     "metadata": {},
     "output_type": "execute_result"
    }
   ],
   "source": [
    "df['Program Price'].unique()"
   ]
  },
  {
   "cell_type": "code",
   "execution_count": 11,
   "metadata": {},
   "outputs": [
    {
     "data": {
      "text/plain": [
       "array(['Academic Support', 'Work + Career ', 'Music & Art.',\n",
       "       'Managing Money.', 'Helping Your Community.', 'Reading & Writing',\n",
       "       'Sports + Wellness.', 'Computers.', 'Science ',\n",
       "       'Building And Fixing Things', 'Computers', 'Performance.',\n",
       "       'Helping Your Community', 'Science & Math', 'Food', 'Food.',\n",
       "       'Building & Fixing Things', 'Reading & Writing.', 'Math',\n",
       "       'Digital Media.', 'Nature.', 'Healthcare', 'Transportation',\n",
       "       'Social Studies ', 'Teaching', 'Law', 'Customer/Human Service',\n",
       "       nan], dtype=object)"
      ]
     },
     "execution_count": 11,
     "metadata": {},
     "output_type": "execute_result"
    }
   ],
   "source": [
    "df['Category Name'].unique() "
   ]
  },
  {
   "cell_type": "code",
   "execution_count": 12,
   "metadata": {},
   "outputs": [
    {
     "data": {
      "text/plain": [
       "84878"
      ]
     },
     "execution_count": 12,
     "metadata": {},
     "output_type": "execute_result"
    }
   ],
   "source": [
    "price_df = df['Program Price'].count() \n",
    "price_df"
   ]
  },
  {
   "cell_type": "code",
   "execution_count": 13,
   "metadata": {},
   "outputs": [
    {
     "data": {
      "text/plain": [
       "Program Price\n",
       "$50 or Less      38.205424\n",
       "Free             43.663847\n",
       "More Than $50    13.890525\n",
       "Unknown           4.240204\n",
       "dtype: float64"
      ]
     },
     "execution_count": 13,
     "metadata": {},
     "output_type": "execute_result"
    }
   ],
   "source": [
    "program_dist = 100*df.groupby(['Program Price']).size()/(len(df))\n",
    "program_dist"
   ]
  },
  {
   "cell_type": "code",
   "execution_count": 14,
   "metadata": {},
   "outputs": [
    {
     "data": {
      "image/png": "[encoded data removed]",
      "text/plain": [
       "<Figure size 432x288 with 1 Axes>"
      ]
     },
     "metadata": {},
     "output_type": "display_data"
    }
   ],
   "source": [
    "plt.pie(program_dist, labels = program_dist.keys())\n",
    "plt.show()"
   ]
  },
  {
   "cell_type": "code",
   "execution_count": 15,
   "metadata": {},
   "outputs": [
    {
     "data": {
      "text/plain": [
       "Category Name\n",
       "Academic Support               3.164542\n",
       "Building & Fixing Things       1.423219\n",
       "Building And Fixing Things     0.002356\n",
       "Computers                      0.007069\n",
       "Computers.                     1.312472\n",
       "Customer/Human Service         0.045948\n",
       "Digital Media.                 0.281581\n",
       "Food                           0.001178\n",
       "Food.                          0.642098\n",
       "Healthcare                     0.684512\n",
       "Helping Your Community         0.001178\n",
       "Helping Your Community.        0.792903\n",
       "Law                            0.008247\n",
       "Managing Money.                0.420604\n",
       "Math                           0.047126\n",
       "Music & Art.                  23.471335\n",
       "Nature.                        2.106553\n",
       "Performance.                   0.703362\n",
       "Reading & Writing              0.001178\n",
       "Reading & Writing.            10.369000\n",
       "Science                        1.806122\n",
       "Science & Math                 0.005891\n",
       "Social Studies                 0.202644\n",
       "Sports + Wellness.            51.932185\n",
       "Teaching                       0.024741\n",
       "Transportation                 0.015316\n",
       "Work + Career                  0.524282\n",
       "dtype: float64"
      ]
     },
     "execution_count": 15,
     "metadata": {},
     "output_type": "execute_result"
    }
   ],
   "source": [
    "category_dist = 100*df.groupby(['Category Name']).size()/(len(df))\n",
    "category_dist"
   ]
  },
  {
   "cell_type": "code",
   "execution_count": 16,
   "metadata": {},
   "outputs": [
    {
     "data": {
      "text/html": [
       "<div>\n",
       "<style scoped>\n",
       "    .dataframe tbody tr th:only-of-type {\n",
       "        vertical-align: middle;\n",
       "    }\n",
       "\n",
       "    .dataframe tbody tr th {\n",
       "        vertical-align: top;\n",
       "    }\n",
       "\n",
       "    .dataframe thead th {\n",
       "        text-align: right;\n",
       "    }\n",
       "</style>\n",
       "<table border=\"1\" class=\"dataframe\">\n",
       "  <thead>\n",
       "    <tr style=\"text-align: right;\">\n",
       "      <th></th>\n",
       "      <th>IndexRow</th>\n",
       "      <th>Id</th>\n",
       "      <th>Logo Url</th>\n",
       "      <th>Program Name</th>\n",
       "      <th>Description</th>\n",
       "      <th>Org Name</th>\n",
       "      <th>Category Name</th>\n",
       "      <th>Capacity</th>\n",
       "      <th>Min Age</th>\n",
       "      <th>Max Age</th>\n",
       "      <th>...</th>\n",
       "      <th>Contact Email</th>\n",
       "      <th>Contact Phone</th>\n",
       "      <th>Program Price</th>\n",
       "      <th>Geographic Cluster Name</th>\n",
       "      <th>Program Pays Participants</th>\n",
       "      <th>Program Has Scholarships</th>\n",
       "      <th>Program Provides Transportation</th>\n",
       "      <th>Latitude</th>\n",
       "      <th>Longitude</th>\n",
       "      <th>Program Provides Free Food</th>\n",
       "    </tr>\n",
       "  </thead>\n",
       "  <tbody>\n",
       "    <tr>\n",
       "      <th>0</th>\n",
       "      <td>4,568</td>\n",
       "      <td>78752</td>\n",
       "      <td>NaN</td>\n",
       "      <td>BBBS Community Based Mentoring (Year Round)</td>\n",
       "      <td>Community Based Mentoring is the traditional B...</td>\n",
       "      <td>Big Brothers Big Sisters</td>\n",
       "      <td>Academic Support</td>\n",
       "      <td>2000.0</td>\n",
       "      <td>7</td>\n",
       "      <td>15</td>\n",
       "      <td>...</td>\n",
       "      <td>recruitment@bbbschgo.org</td>\n",
       "      <td>NaN</td>\n",
       "      <td>Free</td>\n",
       "      <td>NEAR WEST SIDE</td>\n",
       "      <td>Not Paid</td>\n",
       "      <td>YES</td>\n",
       "      <td>YES</td>\n",
       "      <td>41.886002</td>\n",
       "      <td>-87.642403</td>\n",
       "      <td>False</td>\n",
       "    </tr>\n",
       "    <tr>\n",
       "      <th>1</th>\n",
       "      <td>4,569</td>\n",
       "      <td>78752</td>\n",
       "      <td>NaN</td>\n",
       "      <td>BBBS Community Based Mentoring (Year Round)</td>\n",
       "      <td>Community Based Mentoring is the traditional B...</td>\n",
       "      <td>Big Brothers Big Sisters</td>\n",
       "      <td>Work + Career</td>\n",
       "      <td>2000.0</td>\n",
       "      <td>7</td>\n",
       "      <td>15</td>\n",
       "      <td>...</td>\n",
       "      <td>recruitment@bbbschgo.org</td>\n",
       "      <td>NaN</td>\n",
       "      <td>Free</td>\n",
       "      <td>NEAR WEST SIDE</td>\n",
       "      <td>Not Paid</td>\n",
       "      <td>YES</td>\n",
       "      <td>YES</td>\n",
       "      <td>41.886002</td>\n",
       "      <td>-87.642403</td>\n",
       "      <td>False</td>\n",
       "    </tr>\n",
       "    <tr>\n",
       "      <th>2</th>\n",
       "      <td>4,562</td>\n",
       "      <td>78749</td>\n",
       "      <td>https://cityoflearning-uploads.s3.amazonaws.co...</td>\n",
       "      <td>Youth Mentoring and Academic Supports</td>\n",
       "      <td>Young Men's Educational Network provides mento...</td>\n",
       "      <td>Youth Mentoring and Academic Supports</td>\n",
       "      <td>Academic Support</td>\n",
       "      <td>100.0</td>\n",
       "      <td>12</td>\n",
       "      <td>18</td>\n",
       "      <td>...</td>\n",
       "      <td>wchatman@ymenchicago.com</td>\n",
       "      <td>NaN</td>\n",
       "      <td>Free</td>\n",
       "      <td>NORTH LAWNDALE</td>\n",
       "      <td>Not Paid</td>\n",
       "      <td>NO</td>\n",
       "      <td>NO</td>\n",
       "      <td>41.864799</td>\n",
       "      <td>-87.724800</td>\n",
       "      <td>True</td>\n",
       "    </tr>\n",
       "    <tr>\n",
       "      <th>3</th>\n",
       "      <td>4,563</td>\n",
       "      <td>78749</td>\n",
       "      <td>https://cityoflearning-uploads.s3.amazonaws.co...</td>\n",
       "      <td>Youth Mentoring and Academic Supports</td>\n",
       "      <td>Young Men's Educational Network provides mento...</td>\n",
       "      <td>Youth Mentoring and Academic Supports</td>\n",
       "      <td>Music &amp; Art</td>\n",
       "      <td>100.0</td>\n",
       "      <td>12</td>\n",
       "      <td>18</td>\n",
       "      <td>...</td>\n",
       "      <td>wchatman@ymenchicago.com</td>\n",
       "      <td>NaN</td>\n",
       "      <td>Free</td>\n",
       "      <td>NORTH LAWNDALE</td>\n",
       "      <td>Not Paid</td>\n",
       "      <td>NO</td>\n",
       "      <td>NO</td>\n",
       "      <td>41.864799</td>\n",
       "      <td>-87.724800</td>\n",
       "      <td>True</td>\n",
       "    </tr>\n",
       "    <tr>\n",
       "      <th>4</th>\n",
       "      <td>4,557</td>\n",
       "      <td>78746</td>\n",
       "      <td>https://cityoflearning-uploads.s3.amazonaws.co...</td>\n",
       "      <td>Refugee Youth Career Pathways</td>\n",
       "      <td>Refugee Youth Career Pathways (RYCP) provides ...</td>\n",
       "      <td>RefugeeOne</td>\n",
       "      <td>Managing Money</td>\n",
       "      <td>15.0</td>\n",
       "      <td>16</td>\n",
       "      <td>24</td>\n",
       "      <td>...</td>\n",
       "      <td>NaN</td>\n",
       "      <td>NaN</td>\n",
       "      <td>Free</td>\n",
       "      <td>NaN</td>\n",
       "      <td>Not Paid</td>\n",
       "      <td>YES</td>\n",
       "      <td>YES</td>\n",
       "      <td>NaN</td>\n",
       "      <td>NaN</td>\n",
       "      <td>False</td>\n",
       "    </tr>\n",
       "  </tbody>\n",
       "</table>\n",
       "<p>5 rows × 56 columns</p>\n",
       "</div>"
      ],
      "text/plain": [
       "  IndexRow     Id                                           Logo Url  \\\n",
       "0    4,568  78752                                                NaN   \n",
       "1    4,569  78752                                                NaN   \n",
       "2    4,562  78749  https://cityoflearning-uploads.s3.amazonaws.co...   \n",
       "3    4,563  78749  https://cityoflearning-uploads.s3.amazonaws.co...   \n",
       "4    4,557  78746  https://cityoflearning-uploads.s3.amazonaws.co...   \n",
       "\n",
       "                                  Program Name  \\\n",
       "0  BBBS Community Based Mentoring (Year Round)   \n",
       "1  BBBS Community Based Mentoring (Year Round)   \n",
       "2        Youth Mentoring and Academic Supports   \n",
       "3        Youth Mentoring and Academic Supports   \n",
       "4                Refugee Youth Career Pathways   \n",
       "\n",
       "                                         Description  \\\n",
       "0  Community Based Mentoring is the traditional B...   \n",
       "1  Community Based Mentoring is the traditional B...   \n",
       "2  Young Men's Educational Network provides mento...   \n",
       "3  Young Men's Educational Network provides mento...   \n",
       "4  Refugee Youth Career Pathways (RYCP) provides ...   \n",
       "\n",
       "                                Org Name     Category Name  Capacity  Min Age  \\\n",
       "0               Big Brothers Big Sisters  Academic Support    2000.0        7   \n",
       "1               Big Brothers Big Sisters    Work + Career     2000.0        7   \n",
       "2  Youth Mentoring and Academic Supports  Academic Support     100.0       12   \n",
       "3  Youth Mentoring and Academic Supports       Music & Art     100.0       12   \n",
       "4                             RefugeeOne    Managing Money      15.0       16   \n",
       "\n",
       "   Max Age  ...             Contact Email Contact Phone Program Price  \\\n",
       "0       15  ...  recruitment@bbbschgo.org           NaN          Free   \n",
       "1       15  ...  recruitment@bbbschgo.org           NaN          Free   \n",
       "2       18  ...  wchatman@ymenchicago.com           NaN          Free   \n",
       "3       18  ...  wchatman@ymenchicago.com           NaN          Free   \n",
       "4       24  ...                       NaN           NaN          Free   \n",
       "\n",
       "  Geographic Cluster Name Program Pays Participants Program Has Scholarships  \\\n",
       "0          NEAR WEST SIDE                  Not Paid                      YES   \n",
       "1          NEAR WEST SIDE                  Not Paid                      YES   \n",
       "2          NORTH LAWNDALE                  Not Paid                       NO   \n",
       "3          NORTH LAWNDALE                  Not Paid                       NO   \n",
       "4                     NaN                  Not Paid                      YES   \n",
       "\n",
       "  Program Provides Transportation   Latitude  Longitude  \\\n",
       "0                             YES  41.886002 -87.642403   \n",
       "1                             YES  41.886002 -87.642403   \n",
       "2                              NO  41.864799 -87.724800   \n",
       "3                              NO  41.864799 -87.724800   \n",
       "4                             YES        NaN        NaN   \n",
       "\n",
       "  Program Provides Free Food  \n",
       "0                      False  \n",
       "1                      False  \n",
       "2                       True  \n",
       "3                       True  \n",
       "4                      False  \n",
       "\n",
       "[5 rows x 56 columns]"
      ]
     },
     "execution_count": 16,
     "metadata": {},
     "output_type": "execute_result"
    }
   ],
   "source": [
    "df['Category Name'].replace({'Building And Fixing Things': \"Building & Fixing Things\",\n",
    "                            'Computers.': 'Computers',\n",
    "                            'Digital Media.': 'Digital Media',\n",
    "                            'Food.': 'Food',\n",
    "                            'Helping Your Community.': 'Helping Your Community',\n",
    "                            'Music & Art.': 'Music & Art',\n",
    "                            'Reading & Writing.': 'Reading & Writing',\n",
    "                            'Sports + Wellness.': 'Sports & Wellness',\n",
    "                            'Helping Your Community.': 'Helping Your Community',\n",
    "                            'Music & Art.': 'Music & Art',\n",
    "                            'Nature.': 'Nature',\n",
    "                            'Managing Money.': 'Managing Money',\n",
    "                            'Perfomance.': 'Performance',\n",
    "                            'Science': 'Science & Math',\n",
    "                            'Math': 'Science & Math',\n",
    "                            'Science ': 'Science & Math'}, inplace=True)\n",
    "df.head()"
   ]
  },
  {
   "cell_type": "code",
   "execution_count": 17,
   "metadata": {},
   "outputs": [
    {
     "data": {
      "text/plain": [
       "Category Name\n",
       "Academic Support      3.164542\n",
       "Music & Art          23.471335\n",
       "Nature                2.106553\n",
       "Reading & Writing    10.370178\n",
       "Sports & Wellness    51.932185\n",
       "dtype: float64"
      ]
     },
     "execution_count": 17,
     "metadata": {},
     "output_type": "execute_result"
    }
   ],
   "source": [
    "category_dist = 100*df.groupby(['Category Name']).size()/(len(df))\n",
    "\n",
    "category_dist_filt = category_dist.loc[lambda x : x > 2]\n",
    "category_dist_filt"
   ]
  },
  {
   "cell_type": "code",
   "execution_count": 18,
   "metadata": {},
   "outputs": [
    {
     "data": {
      "text/plain": [
       "array(['Academic Support', 'Work + Career ', 'Music & Art',\n",
       "       'Managing Money', 'Helping Your Community', 'Reading & Writing',\n",
       "       'Sports & Wellness', 'Computers', 'Science & Math',\n",
       "       'Building & Fixing Things', 'Performance.', 'Food',\n",
       "       'Digital Media', 'Nature', 'Healthcare', 'Transportation',\n",
       "       'Social Studies ', 'Teaching', 'Law', 'Customer/Human Service',\n",
       "       nan], dtype=object)"
      ]
     },
     "execution_count": 18,
     "metadata": {},
     "output_type": "execute_result"
    }
   ],
   "source": [
    "df['Category Name'].unique()"
   ]
  },
  {
   "cell_type": "code",
   "execution_count": 19,
   "metadata": {},
   "outputs": [
    {
     "data": {
      "image/png": "[encoded data removed]",
      "text/plain": [
       "<Figure size 432x288 with 1 Axes>"
      ]
     },
     "metadata": {},
     "output_type": "display_data"
    }
   ],
   "source": [
    "plt.pie(category_dist_filt, labels = category_dist_filt.keys())\n",
    "plt.show()"
   ]
  },
  {
   "cell_type": "code",
   "execution_count": 44,
   "metadata": {},
   "outputs": [
    {
     "data": {
      "text/plain": [
       "array(['face_to_face', 'online'], dtype=object)"
      ]
     },
     "execution_count": 44,
     "metadata": {},
     "output_type": "execute_result"
    }
   ],
   "source": [
    "df['Meeting Type'].unique()"
   ]
  },
  {
   "cell_type": "code",
   "execution_count": 61,
   "metadata": {},
   "outputs": [
    {
     "data": {
      "text/plain": [
       "(array([16740., 46615.,  5090.,  5930.]),\n",
       " array([  0,  10,  30,  50, 100]),\n",
       " <a list of 4 Patch objects>)"
      ]
     },
     "execution_count": 61,
     "metadata": {},
     "output_type": "execute_result"
    },
    {
     "data": {
      "image/png": "[encoded data removed]",
      "text/plain": [
       "<Figure size 432x288 with 1 Axes>"
      ]
     },
     "metadata": {
      "needs_background": "light"
     },
     "output_type": "display_data"
    }
   ],
   "source": [
    "plt.hist(df['Capacity'], bins = [0, 10, 30, 50, 100, ])"
   ]
  },
  {
   "cell_type": "code",
   "execution_count": 64,
   "metadata": {},
   "outputs": [
    {
     "data": {
      "text/html": [
       "<div>\n",
       "<style scoped>\n",
       "    .dataframe tbody tr th:only-of-type {\n",
       "        vertical-align: middle;\n",
       "    }\n",
       "\n",
       "    .dataframe tbody tr th {\n",
       "        vertical-align: top;\n",
       "    }\n",
       "\n",
       "    .dataframe thead th {\n",
       "        text-align: right;\n",
       "    }\n",
       "</style>\n",
       "<table border=\"1\" class=\"dataframe\">\n",
       "  <thead>\n",
       "    <tr style=\"text-align: right;\">\n",
       "      <th></th>\n",
       "      <th>the_geom</th>\n",
       "      <th>PERIMETER</th>\n",
       "      <th>AREA</th>\n",
       "      <th>COMAREA_</th>\n",
       "      <th>COMAREA_ID</th>\n",
       "      <th>AREA_NUMBE</th>\n",
       "      <th>COMMUNITY</th>\n",
       "      <th>AREA_NUM_1</th>\n",
       "      <th>SHAPE_AREA</th>\n",
       "      <th>SHAPE_LEN</th>\n",
       "    </tr>\n",
       "  </thead>\n",
       "  <tbody>\n",
       "    <tr>\n",
       "      <th>0</th>\n",
       "      <td>MULTIPOLYGON (((-87.60914087617894 41.84469250...</td>\n",
       "      <td>0</td>\n",
       "      <td>0</td>\n",
       "      <td>0</td>\n",
       "      <td>0</td>\n",
       "      <td>35</td>\n",
       "      <td>DOUGLAS</td>\n",
       "      <td>35</td>\n",
       "      <td>4.600462e+07</td>\n",
       "      <td>31027.054510</td>\n",
       "    </tr>\n",
       "    <tr>\n",
       "      <th>1</th>\n",
       "      <td>MULTIPOLYGON (((-87.59215283879394 41.81692934...</td>\n",
       "      <td>0</td>\n",
       "      <td>0</td>\n",
       "      <td>0</td>\n",
       "      <td>0</td>\n",
       "      <td>36</td>\n",
       "      <td>OAKLAND</td>\n",
       "      <td>36</td>\n",
       "      <td>1.691396e+07</td>\n",
       "      <td>19565.506153</td>\n",
       "    </tr>\n",
       "    <tr>\n",
       "      <th>2</th>\n",
       "      <td>MULTIPOLYGON (((-87.62879823733725 41.80189303...</td>\n",
       "      <td>0</td>\n",
       "      <td>0</td>\n",
       "      <td>0</td>\n",
       "      <td>0</td>\n",
       "      <td>37</td>\n",
       "      <td>FULLER PARK</td>\n",
       "      <td>37</td>\n",
       "      <td>1.991670e+07</td>\n",
       "      <td>25339.089750</td>\n",
       "    </tr>\n",
       "    <tr>\n",
       "      <th>3</th>\n",
       "      <td>MULTIPOLYGON (((-87.6067081256125 41.816813770...</td>\n",
       "      <td>0</td>\n",
       "      <td>0</td>\n",
       "      <td>0</td>\n",
       "      <td>0</td>\n",
       "      <td>38</td>\n",
       "      <td>GRAND BOULEVARD</td>\n",
       "      <td>38</td>\n",
       "      <td>4.849250e+07</td>\n",
       "      <td>28196.837157</td>\n",
       "    </tr>\n",
       "    <tr>\n",
       "      <th>4</th>\n",
       "      <td>MULTIPOLYGON (((-87.59215283879394 41.81692934...</td>\n",
       "      <td>0</td>\n",
       "      <td>0</td>\n",
       "      <td>0</td>\n",
       "      <td>0</td>\n",
       "      <td>39</td>\n",
       "      <td>KENWOOD</td>\n",
       "      <td>39</td>\n",
       "      <td>2.907174e+07</td>\n",
       "      <td>23325.167906</td>\n",
       "    </tr>\n",
       "    <tr>\n",
       "      <th>...</th>\n",
       "      <td>...</td>\n",
       "      <td>...</td>\n",
       "      <td>...</td>\n",
       "      <td>...</td>\n",
       "      <td>...</td>\n",
       "      <td>...</td>\n",
       "      <td>...</td>\n",
       "      <td>...</td>\n",
       "      <td>...</td>\n",
       "      <td>...</td>\n",
       "    </tr>\n",
       "    <tr>\n",
       "      <th>72</th>\n",
       "      <td>MULTIPOLYGON (((-87.69645961375822 41.70714491...</td>\n",
       "      <td>0</td>\n",
       "      <td>0</td>\n",
       "      <td>0</td>\n",
       "      <td>0</td>\n",
       "      <td>74</td>\n",
       "      <td>MOUNT GREENWOOD</td>\n",
       "      <td>74</td>\n",
       "      <td>7.558429e+07</td>\n",
       "      <td>48665.130539</td>\n",
       "    </tr>\n",
       "    <tr>\n",
       "      <th>73</th>\n",
       "      <td>MULTIPOLYGON (((-87.64215204651398 41.68508211...</td>\n",
       "      <td>0</td>\n",
       "      <td>0</td>\n",
       "      <td>0</td>\n",
       "      <td>0</td>\n",
       "      <td>75</td>\n",
       "      <td>MORGAN PARK</td>\n",
       "      <td>75</td>\n",
       "      <td>9.187734e+07</td>\n",
       "      <td>46396.419362</td>\n",
       "    </tr>\n",
       "    <tr>\n",
       "      <th>74</th>\n",
       "      <td>MULTIPOLYGON (((-87.83658087874365 41.98639611...</td>\n",
       "      <td>0</td>\n",
       "      <td>0</td>\n",
       "      <td>0</td>\n",
       "      <td>0</td>\n",
       "      <td>76</td>\n",
       "      <td>OHARE</td>\n",
       "      <td>76</td>\n",
       "      <td>3.718356e+08</td>\n",
       "      <td>173625.984660</td>\n",
       "    </tr>\n",
       "    <tr>\n",
       "      <th>75</th>\n",
       "      <td>MULTIPOLYGON (((-87.65455590025104 41.99816614...</td>\n",
       "      <td>0</td>\n",
       "      <td>0</td>\n",
       "      <td>0</td>\n",
       "      <td>0</td>\n",
       "      <td>77</td>\n",
       "      <td>EDGEWATER</td>\n",
       "      <td>77</td>\n",
       "      <td>4.844999e+07</td>\n",
       "      <td>31004.830946</td>\n",
       "    </tr>\n",
       "    <tr>\n",
       "      <th>76</th>\n",
       "      <td>MULTIPOLYGON (((-87.80675853375328 42.00083736...</td>\n",
       "      <td>0</td>\n",
       "      <td>0</td>\n",
       "      <td>0</td>\n",
       "      <td>0</td>\n",
       "      <td>9</td>\n",
       "      <td>EDISON PARK</td>\n",
       "      <td>9</td>\n",
       "      <td>3.163631e+07</td>\n",
       "      <td>25937.226841</td>\n",
       "    </tr>\n",
       "  </tbody>\n",
       "</table>\n",
       "<p>77 rows × 10 columns</p>\n",
       "</div>"
      ],
      "text/plain": [
       "                                             the_geom  PERIMETER  AREA  \\\n",
       "0   MULTIPOLYGON (((-87.60914087617894 41.84469250...          0     0   \n",
       "1   MULTIPOLYGON (((-87.59215283879394 41.81692934...          0     0   \n",
       "2   MULTIPOLYGON (((-87.62879823733725 41.80189303...          0     0   \n",
       "3   MULTIPOLYGON (((-87.6067081256125 41.816813770...          0     0   \n",
       "4   MULTIPOLYGON (((-87.59215283879394 41.81692934...          0     0   \n",
       "..                                                ...        ...   ...   \n",
       "72  MULTIPOLYGON (((-87.69645961375822 41.70714491...          0     0   \n",
       "73  MULTIPOLYGON (((-87.64215204651398 41.68508211...          0     0   \n",
       "74  MULTIPOLYGON (((-87.83658087874365 41.98639611...          0     0   \n",
       "75  MULTIPOLYGON (((-87.65455590025104 41.99816614...          0     0   \n",
       "76  MULTIPOLYGON (((-87.80675853375328 42.00083736...          0     0   \n",
       "\n",
       "    COMAREA_  COMAREA_ID  AREA_NUMBE        COMMUNITY  AREA_NUM_1  \\\n",
       "0          0           0          35          DOUGLAS          35   \n",
       "1          0           0          36          OAKLAND          36   \n",
       "2          0           0          37      FULLER PARK          37   \n",
       "3          0           0          38  GRAND BOULEVARD          38   \n",
       "4          0           0          39          KENWOOD          39   \n",
       "..       ...         ...         ...              ...         ...   \n",
       "72         0           0          74  MOUNT GREENWOOD          74   \n",
       "73         0           0          75      MORGAN PARK          75   \n",
       "74         0           0          76            OHARE          76   \n",
       "75         0           0          77        EDGEWATER          77   \n",
       "76         0           0           9      EDISON PARK           9   \n",
       "\n",
       "      SHAPE_AREA      SHAPE_LEN  \n",
       "0   4.600462e+07   31027.054510  \n",
       "1   1.691396e+07   19565.506153  \n",
       "2   1.991670e+07   25339.089750  \n",
       "3   4.849250e+07   28196.837157  \n",
       "4   2.907174e+07   23325.167906  \n",
       "..           ...            ...  \n",
       "72  7.558429e+07   48665.130539  \n",
       "73  9.187734e+07   46396.419362  \n",
       "74  3.718356e+08  173625.984660  \n",
       "75  4.844999e+07   31004.830946  \n",
       "76  3.163631e+07   25937.226841  \n",
       "\n",
       "[77 rows x 10 columns]"
      ]
     },
     "execution_count": 64,
     "metadata": {},
     "output_type": "execute_result"
    }
   ],
   "source": [
    "pd.read_csv('data/CommAreas.csv')"
   ]
  },
  {
   "cell_type": "code",
   "execution_count": 77,
   "metadata": {},
   "outputs": [
    {
     "data": {
      "image/png": "[encoded data removed]",
      "text/plain": [
       "<Figure size 864x864 with 1 Axes>"
      ]
     },
     "metadata": {
      "needs_background": "light"
     },
     "output_type": "display_data"
    }
   ],
   "source": [
    "\n",
    "\n",
    "sf = shp.Reader(\"data/comm_areas.dbf\")\n",
    "\n",
    "plt.figure(figsize=(12, 12))\n",
    "for shape in sf.shapeRecords():\n",
    "    x = [i[0] for i in shape.shape.points[:]]\n",
    "    y = [i[1] for i in shape.shape.points[:]]\n",
    "    plt.plot(x,y, color=\"black\")\n",
    "plt.show()"
   ]
  },
  {
   "cell_type": "code",
   "execution_count": 81,
   "metadata": {},
   "outputs": [
    {
     "data": {
      "text/plain": [
       "<matplotlib.axes._subplots.AxesSubplot at 0x7fd33faca880>"
      ]
     },
     "execution_count": 81,
     "metadata": {},
     "output_type": "execute_result"
    },
    {
     "data": {
      "image/png": "[encoded data removed]",
      "text/plain": [
       "<Figure size 432x288 with 1 Axes>"
      ]
     },
     "metadata": {
      "needs_background": "light"
     },
     "output_type": "display_data"
    }
   ],
   "source": [
    "area_df = pd.read_csv('data/CommAreas.csv')\n",
    "area_df.plot()"
   ]
  },
  {
   "cell_type": "code",
   "execution_count": 26,
   "metadata": {},
   "outputs": [
    {
     "name": "stdout",
     "output_type": "stream",
     "text": [
      "    area area_num_1 area_numbe  comarea  comarea_id        community  \\\n",
      "0    0.0         35         35      0.0         0.0          DOUGLAS   \n",
      "1    0.0         36         36      0.0         0.0          OAKLAND   \n",
      "2    0.0         37         37      0.0         0.0      FULLER PARK   \n",
      "3    0.0         38         38      0.0         0.0  GRAND BOULEVARD   \n",
      "4    0.0         39         39      0.0         0.0          KENWOOD   \n",
      "..   ...        ...        ...      ...         ...              ...   \n",
      "72   0.0         74         74      0.0         0.0  MOUNT GREENWOOD   \n",
      "73   0.0         75         75      0.0         0.0      MORGAN PARK   \n",
      "74   0.0         76         76      0.0         0.0            OHARE   \n",
      "75   0.0         77         77      0.0         0.0        EDGEWATER   \n",
      "76   0.0          9          9      0.0         0.0      EDISON PARK   \n",
      "\n",
      "    perimeter    shape_area      shape_len  \\\n",
      "0         0.0  4.600462e+07   31027.054510   \n",
      "1         0.0  1.691396e+07   19565.506153   \n",
      "2         0.0  1.991670e+07   25339.089750   \n",
      "3         0.0  4.849250e+07   28196.837157   \n",
      "4         0.0  2.907174e+07   23325.167906   \n",
      "..        ...           ...            ...   \n",
      "72        0.0  7.558429e+07   48665.130539   \n",
      "73        0.0  9.187734e+07   46396.419362   \n",
      "74        0.0  3.718356e+08  173625.984660   \n",
      "75        0.0  4.844999e+07   31004.830946   \n",
      "76        0.0  3.163631e+07   25937.226841   \n",
      "\n",
      "                                             geometry  \n",
      "0   POLYGON ((-87.60914 41.84469, -87.60915 41.844...  \n",
      "1   POLYGON ((-87.59215 41.81693, -87.59231 41.816...  \n",
      "2   POLYGON ((-87.62880 41.80189, -87.62879 41.801...  \n",
      "3   POLYGON ((-87.60671 41.81681, -87.60670 41.816...  \n",
      "4   POLYGON ((-87.59215 41.81693, -87.59215 41.816...  \n",
      "..                                                ...  \n",
      "72  POLYGON ((-87.69646 41.70714, -87.69644 41.706...  \n",
      "73  POLYGON ((-87.64215 41.68508, -87.64249 41.685...  \n",
      "74  MULTIPOLYGON (((-87.83658 41.98640, -87.83658 ...  \n",
      "75  POLYGON ((-87.65456 41.99817, -87.65456 41.998...  \n",
      "76  POLYGON ((-87.80676 42.00084, -87.80676 42.000...  \n",
      "\n",
      "[77 rows x 10 columns]\n"
     ]
    }
   ],
   "source": [
    "import geopandas as gpd\n",
    "map_df = gpd.read_file('data/comm_areas.shx')\n",
    "print(map_df)"
   ]
  },
  {
   "cell_type": "code",
   "execution_count": 83,
   "metadata": {},
   "outputs": [
    {
     "data": {
      "text/plain": [
       "<matplotlib.axes._subplots.AxesSubplot at 0x7fd33f692070>"
      ]
     },
     "execution_count": 83,
     "metadata": {},
     "output_type": "execute_result"
    },
    {
     "data": {
      "image/png": "[encoded data removed]",
      "text/plain": [
       "<Figure size 432x288 with 1 Axes>"
      ]
     },
     "metadata": {
      "needs_background": "light"
     },
     "output_type": "display_data"
    }
   ],
   "source": [
    "map_df.plot()"
   ]
  },
  {
   "cell_type": "code",
   "execution_count": 94,
   "metadata": {},
   "outputs": [
    {
     "data": {
      "text/html": [
       "<div>\n",
       "<style scoped>\n",
       "    .dataframe tbody tr th:only-of-type {\n",
       "        vertical-align: middle;\n",
       "    }\n",
       "\n",
       "    .dataframe tbody tr th {\n",
       "        vertical-align: top;\n",
       "    }\n",
       "\n",
       "    .dataframe thead th {\n",
       "        text-align: right;\n",
       "    }\n",
       "</style>\n",
       "<table border=\"1\" class=\"dataframe\">\n",
       "  <thead>\n",
       "    <tr style=\"text-align: right;\">\n",
       "      <th></th>\n",
       "      <th>area</th>\n",
       "      <th>area_num_1</th>\n",
       "      <th>area_numbe</th>\n",
       "      <th>comarea</th>\n",
       "      <th>comarea_id</th>\n",
       "      <th>community</th>\n",
       "      <th>perimeter</th>\n",
       "      <th>shape_area</th>\n",
       "      <th>shape_len</th>\n",
       "      <th>geometry</th>\n",
       "      <th>...</th>\n",
       "      <th>Contact Email</th>\n",
       "      <th>Contact Phone</th>\n",
       "      <th>Program Price</th>\n",
       "      <th>Geographic Cluster Name</th>\n",
       "      <th>Program Pays Participants</th>\n",
       "      <th>Program Has Scholarships</th>\n",
       "      <th>Program Provides Transportation</th>\n",
       "      <th>Latitude</th>\n",
       "      <th>Longitude</th>\n",
       "      <th>Program Provides Free Food</th>\n",
       "    </tr>\n",
       "  </thead>\n",
       "  <tbody>\n",
       "    <tr>\n",
       "      <th>0</th>\n",
       "      <td>0.0</td>\n",
       "      <td>35</td>\n",
       "      <td>35</td>\n",
       "      <td>0.0</td>\n",
       "      <td>0.0</td>\n",
       "      <td>DOUGLAS</td>\n",
       "      <td>0.0</td>\n",
       "      <td>4.600462e+07</td>\n",
       "      <td>31027.05451</td>\n",
       "      <td>POLYGON ((-87.60914 41.84469, -87.60915 41.844...</td>\n",
       "      <td>...</td>\n",
       "      <td>NaN</td>\n",
       "      <td>NaN</td>\n",
       "      <td>More Than $50</td>\n",
       "      <td>DOUGLAS</td>\n",
       "      <td>Not Paid</td>\n",
       "      <td>NO</td>\n",
       "      <td>NO</td>\n",
       "      <td>41.826698</td>\n",
       "      <td>-87.620499</td>\n",
       "      <td>False</td>\n",
       "    </tr>\n",
       "    <tr>\n",
       "      <th>1</th>\n",
       "      <td>0.0</td>\n",
       "      <td>35</td>\n",
       "      <td>35</td>\n",
       "      <td>0.0</td>\n",
       "      <td>0.0</td>\n",
       "      <td>DOUGLAS</td>\n",
       "      <td>0.0</td>\n",
       "      <td>4.600462e+07</td>\n",
       "      <td>31027.05451</td>\n",
       "      <td>POLYGON ((-87.60914 41.84469, -87.60915 41.844...</td>\n",
       "      <td>...</td>\n",
       "      <td>NaN</td>\n",
       "      <td>NaN</td>\n",
       "      <td>More Than $50</td>\n",
       "      <td>DOUGLAS</td>\n",
       "      <td>Not Paid</td>\n",
       "      <td>NO</td>\n",
       "      <td>NO</td>\n",
       "      <td>41.826698</td>\n",
       "      <td>-87.620499</td>\n",
       "      <td>False</td>\n",
       "    </tr>\n",
       "    <tr>\n",
       "      <th>2</th>\n",
       "      <td>0.0</td>\n",
       "      <td>35</td>\n",
       "      <td>35</td>\n",
       "      <td>0.0</td>\n",
       "      <td>0.0</td>\n",
       "      <td>DOUGLAS</td>\n",
       "      <td>0.0</td>\n",
       "      <td>4.600462e+07</td>\n",
       "      <td>31027.05451</td>\n",
       "      <td>POLYGON ((-87.60914 41.84469, -87.60915 41.844...</td>\n",
       "      <td>...</td>\n",
       "      <td>NaN</td>\n",
       "      <td>NaN</td>\n",
       "      <td>More Than $50</td>\n",
       "      <td>DOUGLAS</td>\n",
       "      <td>Not Paid</td>\n",
       "      <td>NO</td>\n",
       "      <td>NO</td>\n",
       "      <td>41.826698</td>\n",
       "      <td>-87.620499</td>\n",
       "      <td>False</td>\n",
       "    </tr>\n",
       "    <tr>\n",
       "      <th>3</th>\n",
       "      <td>0.0</td>\n",
       "      <td>35</td>\n",
       "      <td>35</td>\n",
       "      <td>0.0</td>\n",
       "      <td>0.0</td>\n",
       "      <td>DOUGLAS</td>\n",
       "      <td>0.0</td>\n",
       "      <td>4.600462e+07</td>\n",
       "      <td>31027.05451</td>\n",
       "      <td>POLYGON ((-87.60914 41.84469, -87.60915 41.844...</td>\n",
       "      <td>...</td>\n",
       "      <td>NaN</td>\n",
       "      <td>NaN</td>\n",
       "      <td>More Than $50</td>\n",
       "      <td>DOUGLAS</td>\n",
       "      <td>Not Paid</td>\n",
       "      <td>NO</td>\n",
       "      <td>NO</td>\n",
       "      <td>41.826698</td>\n",
       "      <td>-87.620499</td>\n",
       "      <td>False</td>\n",
       "    </tr>\n",
       "    <tr>\n",
       "      <th>4</th>\n",
       "      <td>0.0</td>\n",
       "      <td>35</td>\n",
       "      <td>35</td>\n",
       "      <td>0.0</td>\n",
       "      <td>0.0</td>\n",
       "      <td>DOUGLAS</td>\n",
       "      <td>0.0</td>\n",
       "      <td>4.600462e+07</td>\n",
       "      <td>31027.05451</td>\n",
       "      <td>POLYGON ((-87.60914 41.84469, -87.60915 41.844...</td>\n",
       "      <td>...</td>\n",
       "      <td>NaN</td>\n",
       "      <td>NaN</td>\n",
       "      <td>More Than $50</td>\n",
       "      <td>DOUGLAS</td>\n",
       "      <td>Not Paid</td>\n",
       "      <td>NO</td>\n",
       "      <td>NO</td>\n",
       "      <td>41.830399</td>\n",
       "      <td>-87.610298</td>\n",
       "      <td>False</td>\n",
       "    </tr>\n",
       "  </tbody>\n",
       "</table>\n",
       "<p>5 rows × 66 columns</p>\n",
       "</div>"
      ],
      "text/plain": [
       "   area area_num_1 area_numbe  comarea  comarea_id community  perimeter  \\\n",
       "0   0.0         35         35      0.0         0.0   DOUGLAS        0.0   \n",
       "1   0.0         35         35      0.0         0.0   DOUGLAS        0.0   \n",
       "2   0.0         35         35      0.0         0.0   DOUGLAS        0.0   \n",
       "3   0.0         35         35      0.0         0.0   DOUGLAS        0.0   \n",
       "4   0.0         35         35      0.0         0.0   DOUGLAS        0.0   \n",
       "\n",
       "     shape_area    shape_len  \\\n",
       "0  4.600462e+07  31027.05451   \n",
       "1  4.600462e+07  31027.05451   \n",
       "2  4.600462e+07  31027.05451   \n",
       "3  4.600462e+07  31027.05451   \n",
       "4  4.600462e+07  31027.05451   \n",
       "\n",
       "                                            geometry  ... Contact Email  \\\n",
       "0  POLYGON ((-87.60914 41.84469, -87.60915 41.844...  ...           NaN   \n",
       "1  POLYGON ((-87.60914 41.84469, -87.60915 41.844...  ...           NaN   \n",
       "2  POLYGON ((-87.60914 41.84469, -87.60915 41.844...  ...           NaN   \n",
       "3  POLYGON ((-87.60914 41.84469, -87.60915 41.844...  ...           NaN   \n",
       "4  POLYGON ((-87.60914 41.84469, -87.60915 41.844...  ...           NaN   \n",
       "\n",
       "   Contact Phone  Program Price Geographic Cluster Name  \\\n",
       "0            NaN  More Than $50                 DOUGLAS   \n",
       "1            NaN  More Than $50                 DOUGLAS   \n",
       "2            NaN  More Than $50                 DOUGLAS   \n",
       "3            NaN  More Than $50                 DOUGLAS   \n",
       "4            NaN  More Than $50                 DOUGLAS   \n",
       "\n",
       "  Program Pays Participants Program Has Scholarships  \\\n",
       "0                  Not Paid                       NO   \n",
       "1                  Not Paid                       NO   \n",
       "2                  Not Paid                       NO   \n",
       "3                  Not Paid                       NO   \n",
       "4                  Not Paid                       NO   \n",
       "\n",
       "  Program Provides Transportation   Latitude  Longitude  \\\n",
       "0                              NO  41.826698 -87.620499   \n",
       "1                              NO  41.826698 -87.620499   \n",
       "2                              NO  41.826698 -87.620499   \n",
       "3                              NO  41.826698 -87.620499   \n",
       "4                              NO  41.830399 -87.610298   \n",
       "\n",
       "   Program Provides Free Food  \n",
       "0                       False  \n",
       "1                       False  \n",
       "2                       False  \n",
       "3                       False  \n",
       "4                       False  \n",
       "\n",
       "[5 rows x 66 columns]"
      ]
     },
     "execution_count": 94,
     "metadata": {},
     "output_type": "execute_result"
    }
   ],
   "source": [
    "map_df.merge(df, left_on = 'community', right_on = 'Geographic Cluster Name').head()"
   ]
  },
  {
   "cell_type": "code",
   "execution_count": 84,
   "metadata": {},
   "outputs": [
    {
     "data": {
      "text/html": [
       "<div>\n",
       "<style scoped>\n",
       "    .dataframe tbody tr th:only-of-type {\n",
       "        vertical-align: middle;\n",
       "    }\n",
       "\n",
       "    .dataframe tbody tr th {\n",
       "        vertical-align: top;\n",
       "    }\n",
       "\n",
       "    .dataframe thead th {\n",
       "        text-align: right;\n",
       "    }\n",
       "</style>\n",
       "<table border=\"1\" class=\"dataframe\">\n",
       "  <thead>\n",
       "    <tr style=\"text-align: right;\">\n",
       "      <th></th>\n",
       "      <th>IndexRow</th>\n",
       "      <th>Id</th>\n",
       "      <th>Logo Url</th>\n",
       "      <th>Program Name</th>\n",
       "      <th>Description</th>\n",
       "      <th>Org Name</th>\n",
       "      <th>Category Name</th>\n",
       "      <th>Capacity</th>\n",
       "      <th>Min Age</th>\n",
       "      <th>Max Age</th>\n",
       "      <th>...</th>\n",
       "      <th>Contact Email</th>\n",
       "      <th>Contact Phone</th>\n",
       "      <th>Program Price</th>\n",
       "      <th>Geographic Cluster Name</th>\n",
       "      <th>Program Pays Participants</th>\n",
       "      <th>Program Has Scholarships</th>\n",
       "      <th>Program Provides Transportation</th>\n",
       "      <th>Latitude</th>\n",
       "      <th>Longitude</th>\n",
       "      <th>Program Provides Free Food</th>\n",
       "    </tr>\n",
       "  </thead>\n",
       "  <tbody>\n",
       "    <tr>\n",
       "      <th>0</th>\n",
       "      <td>4,568</td>\n",
       "      <td>78752</td>\n",
       "      <td>NaN</td>\n",
       "      <td>BBBS Community Based Mentoring (Year Round)</td>\n",
       "      <td>Community Based Mentoring is the traditional B...</td>\n",
       "      <td>Big Brothers Big Sisters</td>\n",
       "      <td>Academic Support</td>\n",
       "      <td>2000.0</td>\n",
       "      <td>7</td>\n",
       "      <td>15</td>\n",
       "      <td>...</td>\n",
       "      <td>recruitment@bbbschgo.org</td>\n",
       "      <td>NaN</td>\n",
       "      <td>Free</td>\n",
       "      <td>NEAR WEST SIDE</td>\n",
       "      <td>Not Paid</td>\n",
       "      <td>YES</td>\n",
       "      <td>YES</td>\n",
       "      <td>41.886002</td>\n",
       "      <td>-87.642403</td>\n",
       "      <td>False</td>\n",
       "    </tr>\n",
       "    <tr>\n",
       "      <th>1</th>\n",
       "      <td>4,569</td>\n",
       "      <td>78752</td>\n",
       "      <td>NaN</td>\n",
       "      <td>BBBS Community Based Mentoring (Year Round)</td>\n",
       "      <td>Community Based Mentoring is the traditional B...</td>\n",
       "      <td>Big Brothers Big Sisters</td>\n",
       "      <td>Work + Career</td>\n",
       "      <td>2000.0</td>\n",
       "      <td>7</td>\n",
       "      <td>15</td>\n",
       "      <td>...</td>\n",
       "      <td>recruitment@bbbschgo.org</td>\n",
       "      <td>NaN</td>\n",
       "      <td>Free</td>\n",
       "      <td>NEAR WEST SIDE</td>\n",
       "      <td>Not Paid</td>\n",
       "      <td>YES</td>\n",
       "      <td>YES</td>\n",
       "      <td>41.886002</td>\n",
       "      <td>-87.642403</td>\n",
       "      <td>False</td>\n",
       "    </tr>\n",
       "    <tr>\n",
       "      <th>2</th>\n",
       "      <td>4,562</td>\n",
       "      <td>78749</td>\n",
       "      <td>https://cityoflearning-uploads.s3.amazonaws.co...</td>\n",
       "      <td>Youth Mentoring and Academic Supports</td>\n",
       "      <td>Young Men's Educational Network provides mento...</td>\n",
       "      <td>Youth Mentoring and Academic Supports</td>\n",
       "      <td>Academic Support</td>\n",
       "      <td>100.0</td>\n",
       "      <td>12</td>\n",
       "      <td>18</td>\n",
       "      <td>...</td>\n",
       "      <td>wchatman@ymenchicago.com</td>\n",
       "      <td>NaN</td>\n",
       "      <td>Free</td>\n",
       "      <td>NORTH LAWNDALE</td>\n",
       "      <td>Not Paid</td>\n",
       "      <td>NO</td>\n",
       "      <td>NO</td>\n",
       "      <td>41.864799</td>\n",
       "      <td>-87.724800</td>\n",
       "      <td>True</td>\n",
       "    </tr>\n",
       "    <tr>\n",
       "      <th>3</th>\n",
       "      <td>4,563</td>\n",
       "      <td>78749</td>\n",
       "      <td>https://cityoflearning-uploads.s3.amazonaws.co...</td>\n",
       "      <td>Youth Mentoring and Academic Supports</td>\n",
       "      <td>Young Men's Educational Network provides mento...</td>\n",
       "      <td>Youth Mentoring and Academic Supports</td>\n",
       "      <td>Music &amp; Art</td>\n",
       "      <td>100.0</td>\n",
       "      <td>12</td>\n",
       "      <td>18</td>\n",
       "      <td>...</td>\n",
       "      <td>wchatman@ymenchicago.com</td>\n",
       "      <td>NaN</td>\n",
       "      <td>Free</td>\n",
       "      <td>NORTH LAWNDALE</td>\n",
       "      <td>Not Paid</td>\n",
       "      <td>NO</td>\n",
       "      <td>NO</td>\n",
       "      <td>41.864799</td>\n",
       "      <td>-87.724800</td>\n",
       "      <td>True</td>\n",
       "    </tr>\n",
       "    <tr>\n",
       "      <th>4</th>\n",
       "      <td>4,557</td>\n",
       "      <td>78746</td>\n",
       "      <td>https://cityoflearning-uploads.s3.amazonaws.co...</td>\n",
       "      <td>Refugee Youth Career Pathways</td>\n",
       "      <td>Refugee Youth Career Pathways (RYCP) provides ...</td>\n",
       "      <td>RefugeeOne</td>\n",
       "      <td>Managing Money</td>\n",
       "      <td>15.0</td>\n",
       "      <td>16</td>\n",
       "      <td>24</td>\n",
       "      <td>...</td>\n",
       "      <td>NaN</td>\n",
       "      <td>NaN</td>\n",
       "      <td>Free</td>\n",
       "      <td>NaN</td>\n",
       "      <td>Not Paid</td>\n",
       "      <td>YES</td>\n",
       "      <td>YES</td>\n",
       "      <td>NaN</td>\n",
       "      <td>NaN</td>\n",
       "      <td>False</td>\n",
       "    </tr>\n",
       "  </tbody>\n",
       "</table>\n",
       "<p>5 rows × 56 columns</p>\n",
       "</div>"
      ],
      "text/plain": [
       "  IndexRow     Id                                           Logo Url  \\\n",
       "0    4,568  78752                                                NaN   \n",
       "1    4,569  78752                                                NaN   \n",
       "2    4,562  78749  https://cityoflearning-uploads.s3.amazonaws.co...   \n",
       "3    4,563  78749  https://cityoflearning-uploads.s3.amazonaws.co...   \n",
       "4    4,557  78746  https://cityoflearning-uploads.s3.amazonaws.co...   \n",
       "\n",
       "                                  Program Name  \\\n",
       "0  BBBS Community Based Mentoring (Year Round)   \n",
       "1  BBBS Community Based Mentoring (Year Round)   \n",
       "2        Youth Mentoring and Academic Supports   \n",
       "3        Youth Mentoring and Academic Supports   \n",
       "4                Refugee Youth Career Pathways   \n",
       "\n",
       "                                         Description  \\\n",
       "0  Community Based Mentoring is the traditional B...   \n",
       "1  Community Based Mentoring is the traditional B...   \n",
       "2  Young Men's Educational Network provides mento...   \n",
       "3  Young Men's Educational Network provides mento...   \n",
       "4  Refugee Youth Career Pathways (RYCP) provides ...   \n",
       "\n",
       "                                Org Name     Category Name  Capacity  Min Age  \\\n",
       "0               Big Brothers Big Sisters  Academic Support    2000.0        7   \n",
       "1               Big Brothers Big Sisters    Work + Career     2000.0        7   \n",
       "2  Youth Mentoring and Academic Supports  Academic Support     100.0       12   \n",
       "3  Youth Mentoring and Academic Supports       Music & Art     100.0       12   \n",
       "4                             RefugeeOne    Managing Money      15.0       16   \n",
       "\n",
       "   Max Age  ...             Contact Email Contact Phone Program Price  \\\n",
       "0       15  ...  recruitment@bbbschgo.org           NaN          Free   \n",
       "1       15  ...  recruitment@bbbschgo.org           NaN          Free   \n",
       "2       18  ...  wchatman@ymenchicago.com           NaN          Free   \n",
       "3       18  ...  wchatman@ymenchicago.com           NaN          Free   \n",
       "4       24  ...                       NaN           NaN          Free   \n",
       "\n",
       "  Geographic Cluster Name Program Pays Participants Program Has Scholarships  \\\n",
       "0          NEAR WEST SIDE                  Not Paid                      YES   \n",
       "1          NEAR WEST SIDE                  Not Paid                      YES   \n",
       "2          NORTH LAWNDALE                  Not Paid                       NO   \n",
       "3          NORTH LAWNDALE                  Not Paid                       NO   \n",
       "4                     NaN                  Not Paid                      YES   \n",
       "\n",
       "  Program Provides Transportation   Latitude  Longitude  \\\n",
       "0                             YES  41.886002 -87.642403   \n",
       "1                             YES  41.886002 -87.642403   \n",
       "2                              NO  41.864799 -87.724800   \n",
       "3                              NO  41.864799 -87.724800   \n",
       "4                             YES        NaN        NaN   \n",
       "\n",
       "  Program Provides Free Food  \n",
       "0                      False  \n",
       "1                      False  \n",
       "2                       True  \n",
       "3                       True  \n",
       "4                      False  \n",
       "\n",
       "[5 rows x 56 columns]"
      ]
     },
     "execution_count": 84,
     "metadata": {},
     "output_type": "execute_result"
    }
   ],
   "source": [
    "df.head(n)"
   ]
  },
  {
   "cell_type": "code",
   "execution_count": 86,
   "metadata": {},
   "outputs": [
    {
     "data": {
      "text/plain": [
       "84878"
      ]
     },
     "execution_count": 86,
     "metadata": {},
     "output_type": "execute_result"
    }
   ],
   "source": [
    "len(df)"
   ]
  },
  {
   "cell_type": "code",
   "execution_count": 33,
   "metadata": {},
   "outputs": [
    {
     "data": {
      "text/plain": [
       "pandas.core.series.Series"
      ]
     },
     "execution_count": 33,
     "metadata": {},
     "output_type": "execute_result"
    }
   ],
   "source": [
    "perc_free = (df.groupby(['Geographic Cluster Name', 'Program Price']).size()/df.groupby(['Geographic Cluster Name']).size()).loc[:, 'Free']\n",
    "type(perc_free)"
   ]
  },
  {
   "cell_type": "code",
   "execution_count": 35,
   "metadata": {},
   "outputs": [
    {
     "data": {
      "text/plain": [
       "Geographic Cluster Name\n",
       "ALBANY PARK       0.416856\n",
       "ARCHER HEIGHTS    0.375451\n",
       "ARMOUR SQUARE     0.334812\n",
       "ASHBURN           0.333333\n",
       "AUBURN GRESHAM    0.612591\n",
       "                    ...   \n",
       "WEST LAWN         0.434122\n",
       "WEST PULLMAN      0.613879\n",
       "WEST RIDGE        0.382530\n",
       "WEST TOWN         0.283540\n",
       "WOODLAWN          0.430255\n",
       "Length: 79, dtype: float64"
      ]
     },
     "execution_count": 35,
     "metadata": {},
     "output_type": "execute_result"
    }
   ],
   "source": [
    "perc_free"
   ]
  },
  {
   "cell_type": "code",
   "execution_count": 38,
   "metadata": {},
   "outputs": [
    {
     "data": {
      "text/plain": [
       "pandas.core.series.Series"
      ]
     },
     "execution_count": 38,
     "metadata": {},
     "output_type": "execute_result"
    }
   ],
   "source": []
  },
  {
   "cell_type": "code",
   "execution_count": 107,
   "metadata": {},
   "outputs": [
    {
     "data": {
      "text/plain": [
       "183"
      ]
     },
     "execution_count": 107,
     "metadata": {},
     "output_type": "execute_result"
    }
   ],
   "source": [
    "df.groupby(['Geographic Cluster Name', 'Program Price']).size()[('ALBANY PARK', 'Free')]"
   ]
  },
  {
   "cell_type": "code",
   "execution_count": 122,
   "metadata": {},
   "outputs": [
    {
     "data": {
      "text/plain": [
       "<matplotlib.axes._subplots.AxesSubplot at 0x7fd33fadfb20>"
      ]
     },
     "execution_count": 122,
     "metadata": {},
     "output_type": "execute_result"
    },
    {
     "data": {
      "image/png": "[encoded data removed]",
      "text/plain": [
       "<Figure size 432x288 with 1 Axes>"
      ]
     },
     "metadata": {
      "needs_background": "light"
     },
     "output_type": "display_data"
    }
   ],
   "source": [
    "map_df.merge(perc_free.to_frame().reset_index(), left_on='community', right_on='Geographic Cluster Name').plot()"
   ]
  },
  {
   "cell_type": "code",
   "execution_count": 148,
   "metadata": {},
   "outputs": [],
   "source": [
    "perc_df = perc_free.to_frame().reset_index()"
   ]
  },
  {
   "cell_type": "code",
   "execution_count": 123,
   "metadata": {},
   "outputs": [
    {
     "data": {
      "text/html": [
       "<div>\n",
       "<style scoped>\n",
       "    .dataframe tbody tr th:only-of-type {\n",
       "        vertical-align: middle;\n",
       "    }\n",
       "\n",
       "    .dataframe tbody tr th {\n",
       "        vertical-align: top;\n",
       "    }\n",
       "\n",
       "    .dataframe thead th {\n",
       "        text-align: right;\n",
       "    }\n",
       "</style>\n",
       "<table border=\"1\" class=\"dataframe\">\n",
       "  <thead>\n",
       "    <tr style=\"text-align: right;\">\n",
       "      <th></th>\n",
       "      <th>area</th>\n",
       "      <th>area_num_1</th>\n",
       "      <th>area_numbe</th>\n",
       "      <th>comarea</th>\n",
       "      <th>comarea_id</th>\n",
       "      <th>community</th>\n",
       "      <th>perimeter</th>\n",
       "      <th>shape_area</th>\n",
       "      <th>shape_len</th>\n",
       "      <th>geometry</th>\n",
       "    </tr>\n",
       "  </thead>\n",
       "  <tbody>\n",
       "    <tr>\n",
       "      <th>58</th>\n",
       "      <td>0.0</td>\n",
       "      <td>61</td>\n",
       "      <td>61</td>\n",
       "      <td>0.0</td>\n",
       "      <td>0.0</td>\n",
       "      <td>NEW CITY</td>\n",
       "      <td>0.0</td>\n",
       "      <td>1.346370e+08</td>\n",
       "      <td>48133.595961</td>\n",
       "      <td>POLYGON ((-87.63546 41.79448, -87.63599 41.794...</td>\n",
       "    </tr>\n",
       "  </tbody>\n",
       "</table>\n",
       "</div>"
      ],
      "text/plain": [
       "    area area_num_1 area_numbe  comarea  comarea_id community  perimeter  \\\n",
       "58   0.0         61         61      0.0         0.0  NEW CITY        0.0   \n",
       "\n",
       "      shape_area     shape_len  \\\n",
       "58  1.346370e+08  48133.595961   \n",
       "\n",
       "                                             geometry  \n",
       "58  POLYGON ((-87.63546 41.79448, -87.63599 41.794...  "
      ]
     },
     "execution_count": 123,
     "metadata": {},
     "output_type": "execute_result"
    }
   ],
   "source": [
    "map_df[map_df['community'] == 'NEW CITY']"
   ]
  },
  {
   "cell_type": "code",
   "execution_count": 150,
   "metadata": {},
   "outputs": [
    {
     "name": "stdout",
     "output_type": "stream",
     "text": [
      "ALBANY PARK\n",
      "ARCHER HEIGHTS\n",
      "ARMOUR SQUARE\n",
      "ASHBURN\n",
      "AUBURN GRESHAM\n",
      "AUSTIN\n",
      "AVALON PARK\n",
      "AVONDALE\n",
      "BELMONT CRAGIN\n",
      "BEVERLY\n",
      "BRIDGEPORT\n",
      "BRIGHTON PARK\n",
      "BURNSIDE\n",
      "Bronzeville/South Lakefront\n",
      "CALUMET HEIGHTS\n",
      "CHATHAM\n",
      "CHICAGO LAWN\n",
      "CLEARING\n",
      "DOUGLAS\n",
      "DUNNING\n",
      "EAST GARFIELD PARK\n",
      "EAST SIDE\n",
      "EDGEWATER\n",
      "EDISON PARK\n",
      "ENGLEWOOD\n",
      "FOREST GLEN\n",
      "FULLER PARK\n",
      "GAGE PARK\n",
      "GARFIELD PARK\n",
      "GARFIELD RIDGE\n",
      "GRAND BOULEVARD\n",
      "GREATER GRAND CROSSING\n",
      "HEGEWISCH\n",
      "HERMOSA\n",
      "HUMBOLDT PARK\n",
      "HYDE PARK\n",
      "IRVING PARK\n",
      "JEFFERSON PARK\n",
      "KENWOOD\n",
      "LAKE VIEW\n",
      "LINCOLN PARK\n",
      "LINCOLN SQUARE\n",
      "LOGAN SQUARE\n",
      "LOOP\n",
      "LOWER WEST SIDE\n",
      "Little Village\n",
      "MCKINLEY PARK\n",
      "MONTCLARE\n",
      "MORGAN PARK\n",
      "MOUNT GREENWOOD\n",
      "NEAR NORTH SIDE\n",
      "NEAR SOUTH SIDE\n",
      "NEAR WEST SIDE\n",
      "NEW CITY\n",
      "NORTH CENTER\n",
      "NORTH LAWNDALE\n",
      "NORTH PARK\n",
      "NORWOOD PARK\n",
      "OAKLAND\n",
      "OHARE\n",
      "PORTAGE PARK\n",
      "PULLMAN\n",
      "RIVERDALE\n",
      "ROGERS PARK\n",
      "ROSELAND\n",
      "SOUTH CHICAGO\n",
      "SOUTH DEERING\n",
      "SOUTH SHORE\n",
      "UPTOWN\n",
      "WASHINGTON HEIGHTS\n",
      "WASHINGTON PARK\n",
      "WEST ELSDON\n",
      "WEST ENGLEWOOD\n",
      "WEST GARFIELD PARK\n",
      "WEST LAWN\n",
      "WEST PULLMAN\n",
      "WEST RIDGE\n",
      "WEST TOWN\n",
      "WOODLAWN\n"
     ]
    }
   ],
   "source": [
    "filter_df = df.groupby(['Geographic Cluster Name']).size()\n",
    "\n",
    "for entry in filter_df.index:\n",
    "    print(entry)"
   ]
  },
  {
   "cell_type": "code",
   "execution_count": 45,
   "metadata": {},
   "outputs": [
    {
     "data": {
      "text/html": [
       "<div>\n",
       "<style scoped>\n",
       "    .dataframe tbody tr th:only-of-type {\n",
       "        vertical-align: middle;\n",
       "    }\n",
       "\n",
       "    .dataframe tbody tr th {\n",
       "        vertical-align: top;\n",
       "    }\n",
       "\n",
       "    .dataframe thead th {\n",
       "        text-align: right;\n",
       "    }\n",
       "</style>\n",
       "<table border=\"1\" class=\"dataframe\">\n",
       "  <thead>\n",
       "    <tr style=\"text-align: right;\">\n",
       "      <th></th>\n",
       "      <th>IndexRow</th>\n",
       "      <th>Id</th>\n",
       "      <th>Logo Url</th>\n",
       "      <th>Program Name</th>\n",
       "      <th>Description</th>\n",
       "      <th>Org Name</th>\n",
       "      <th>Category Name</th>\n",
       "      <th>Capacity</th>\n",
       "      <th>Min Age</th>\n",
       "      <th>Max Age</th>\n",
       "      <th>...</th>\n",
       "      <th>Contact Email</th>\n",
       "      <th>Contact Phone</th>\n",
       "      <th>Program Price</th>\n",
       "      <th>Geographic Cluster Name</th>\n",
       "      <th>Program Pays Participants</th>\n",
       "      <th>Program Has Scholarships</th>\n",
       "      <th>Program Provides Transportation</th>\n",
       "      <th>Latitude</th>\n",
       "      <th>Longitude</th>\n",
       "      <th>Program Provides Free Food</th>\n",
       "    </tr>\n",
       "  </thead>\n",
       "  <tbody>\n",
       "    <tr>\n",
       "      <th>0</th>\n",
       "      <td>4,568</td>\n",
       "      <td>78752</td>\n",
       "      <td>NaN</td>\n",
       "      <td>BBBS Community Based Mentoring (Year Round)</td>\n",
       "      <td>Community Based Mentoring is the traditional B...</td>\n",
       "      <td>Big Brothers Big Sisters</td>\n",
       "      <td>Academic Support</td>\n",
       "      <td>2000.0</td>\n",
       "      <td>7</td>\n",
       "      <td>15</td>\n",
       "      <td>...</td>\n",
       "      <td>recruitment@bbbschgo.org</td>\n",
       "      <td>NaN</td>\n",
       "      <td>Free</td>\n",
       "      <td>NEAR WEST SIDE</td>\n",
       "      <td>Not Paid</td>\n",
       "      <td>YES</td>\n",
       "      <td>YES</td>\n",
       "      <td>41.886002</td>\n",
       "      <td>-87.642403</td>\n",
       "      <td>False</td>\n",
       "    </tr>\n",
       "    <tr>\n",
       "      <th>1</th>\n",
       "      <td>4,569</td>\n",
       "      <td>78752</td>\n",
       "      <td>NaN</td>\n",
       "      <td>BBBS Community Based Mentoring (Year Round)</td>\n",
       "      <td>Community Based Mentoring is the traditional B...</td>\n",
       "      <td>Big Brothers Big Sisters</td>\n",
       "      <td>Work + Career</td>\n",
       "      <td>2000.0</td>\n",
       "      <td>7</td>\n",
       "      <td>15</td>\n",
       "      <td>...</td>\n",
       "      <td>recruitment@bbbschgo.org</td>\n",
       "      <td>NaN</td>\n",
       "      <td>Free</td>\n",
       "      <td>NEAR WEST SIDE</td>\n",
       "      <td>Not Paid</td>\n",
       "      <td>YES</td>\n",
       "      <td>YES</td>\n",
       "      <td>41.886002</td>\n",
       "      <td>-87.642403</td>\n",
       "      <td>False</td>\n",
       "    </tr>\n",
       "    <tr>\n",
       "      <th>2</th>\n",
       "      <td>4,562</td>\n",
       "      <td>78749</td>\n",
       "      <td>https://cityoflearning-uploads.s3.amazonaws.co...</td>\n",
       "      <td>Youth Mentoring and Academic Supports</td>\n",
       "      <td>Young Men's Educational Network provides mento...</td>\n",
       "      <td>Youth Mentoring and Academic Supports</td>\n",
       "      <td>Academic Support</td>\n",
       "      <td>100.0</td>\n",
       "      <td>12</td>\n",
       "      <td>18</td>\n",
       "      <td>...</td>\n",
       "      <td>wchatman@ymenchicago.com</td>\n",
       "      <td>NaN</td>\n",
       "      <td>Free</td>\n",
       "      <td>NORTH LAWNDALE</td>\n",
       "      <td>Not Paid</td>\n",
       "      <td>NO</td>\n",
       "      <td>NO</td>\n",
       "      <td>41.864799</td>\n",
       "      <td>-87.724800</td>\n",
       "      <td>True</td>\n",
       "    </tr>\n",
       "    <tr>\n",
       "      <th>3</th>\n",
       "      <td>4,563</td>\n",
       "      <td>78749</td>\n",
       "      <td>https://cityoflearning-uploads.s3.amazonaws.co...</td>\n",
       "      <td>Youth Mentoring and Academic Supports</td>\n",
       "      <td>Young Men's Educational Network provides mento...</td>\n",
       "      <td>Youth Mentoring and Academic Supports</td>\n",
       "      <td>Music &amp; Art</td>\n",
       "      <td>100.0</td>\n",
       "      <td>12</td>\n",
       "      <td>18</td>\n",
       "      <td>...</td>\n",
       "      <td>wchatman@ymenchicago.com</td>\n",
       "      <td>NaN</td>\n",
       "      <td>Free</td>\n",
       "      <td>NORTH LAWNDALE</td>\n",
       "      <td>Not Paid</td>\n",
       "      <td>NO</td>\n",
       "      <td>NO</td>\n",
       "      <td>41.864799</td>\n",
       "      <td>-87.724800</td>\n",
       "      <td>True</td>\n",
       "    </tr>\n",
       "    <tr>\n",
       "      <th>4</th>\n",
       "      <td>4,557</td>\n",
       "      <td>78746</td>\n",
       "      <td>https://cityoflearning-uploads.s3.amazonaws.co...</td>\n",
       "      <td>Refugee Youth Career Pathways</td>\n",
       "      <td>Refugee Youth Career Pathways (RYCP) provides ...</td>\n",
       "      <td>RefugeeOne</td>\n",
       "      <td>Managing Money</td>\n",
       "      <td>15.0</td>\n",
       "      <td>16</td>\n",
       "      <td>24</td>\n",
       "      <td>...</td>\n",
       "      <td>NaN</td>\n",
       "      <td>NaN</td>\n",
       "      <td>Free</td>\n",
       "      <td>NaN</td>\n",
       "      <td>Not Paid</td>\n",
       "      <td>YES</td>\n",
       "      <td>YES</td>\n",
       "      <td>NaN</td>\n",
       "      <td>NaN</td>\n",
       "      <td>False</td>\n",
       "    </tr>\n",
       "  </tbody>\n",
       "</table>\n",
       "<p>5 rows × 56 columns</p>\n",
       "</div>"
      ],
      "text/plain": [
       "  IndexRow     Id                                           Logo Url  \\\n",
       "0    4,568  78752                                                NaN   \n",
       "1    4,569  78752                                                NaN   \n",
       "2    4,562  78749  https://cityoflearning-uploads.s3.amazonaws.co...   \n",
       "3    4,563  78749  https://cityoflearning-uploads.s3.amazonaws.co...   \n",
       "4    4,557  78746  https://cityoflearning-uploads.s3.amazonaws.co...   \n",
       "\n",
       "                                  Program Name  \\\n",
       "0  BBBS Community Based Mentoring (Year Round)   \n",
       "1  BBBS Community Based Mentoring (Year Round)   \n",
       "2        Youth Mentoring and Academic Supports   \n",
       "3        Youth Mentoring and Academic Supports   \n",
       "4                Refugee Youth Career Pathways   \n",
       "\n",
       "                                         Description  \\\n",
       "0  Community Based Mentoring is the traditional B...   \n",
       "1  Community Based Mentoring is the traditional B...   \n",
       "2  Young Men's Educational Network provides mento...   \n",
       "3  Young Men's Educational Network provides mento...   \n",
       "4  Refugee Youth Career Pathways (RYCP) provides ...   \n",
       "\n",
       "                                Org Name     Category Name  Capacity  Min Age  \\\n",
       "0               Big Brothers Big Sisters  Academic Support    2000.0        7   \n",
       "1               Big Brothers Big Sisters    Work + Career     2000.0        7   \n",
       "2  Youth Mentoring and Academic Supports  Academic Support     100.0       12   \n",
       "3  Youth Mentoring and Academic Supports       Music & Art     100.0       12   \n",
       "4                             RefugeeOne    Managing Money      15.0       16   \n",
       "\n",
       "   Max Age  ...             Contact Email Contact Phone Program Price  \\\n",
       "0       15  ...  recruitment@bbbschgo.org           NaN          Free   \n",
       "1       15  ...  recruitment@bbbschgo.org           NaN          Free   \n",
       "2       18  ...  wchatman@ymenchicago.com           NaN          Free   \n",
       "3       18  ...  wchatman@ymenchicago.com           NaN          Free   \n",
       "4       24  ...                       NaN           NaN          Free   \n",
       "\n",
       "  Geographic Cluster Name Program Pays Participants Program Has Scholarships  \\\n",
       "0          NEAR WEST SIDE                  Not Paid                      YES   \n",
       "1          NEAR WEST SIDE                  Not Paid                      YES   \n",
       "2          NORTH LAWNDALE                  Not Paid                       NO   \n",
       "3          NORTH LAWNDALE                  Not Paid                       NO   \n",
       "4                     NaN                  Not Paid                      YES   \n",
       "\n",
       "  Program Provides Transportation   Latitude  Longitude  \\\n",
       "0                             YES  41.886002 -87.642403   \n",
       "1                             YES  41.886002 -87.642403   \n",
       "2                              NO  41.864799 -87.724800   \n",
       "3                              NO  41.864799 -87.724800   \n",
       "4                             YES        NaN        NaN   \n",
       "\n",
       "  Program Provides Free Food  \n",
       "0                      False  \n",
       "1                      False  \n",
       "2                       True  \n",
       "3                       True  \n",
       "4                      False  \n",
       "\n",
       "[5 rows x 56 columns]"
      ]
     },
     "execution_count": 45,
     "metadata": {},
     "output_type": "execute_result"
    }
   ],
   "source": [
    "df['Geographic Cluster Name'].replace({'Back of the Yards': 'NEW CITY'}, inplace=True)\n",
    "df.head()"
   ]
  },
  {
   "cell_type": "code",
   "execution_count": 149,
   "metadata": {},
   "outputs": [
    {
     "data": {
      "text/plain": [
       "<matplotlib.axes._subplots.AxesSubplot at 0x7fd33e701610>"
      ]
     },
     "execution_count": 149,
     "metadata": {},
     "output_type": "execute_result"
    },
    {
     "data": {
      "image/png": "[encoded data removed]",
      "text/plain": [
       "<Figure size 432x288 with 1 Axes>"
      ]
     },
     "metadata": {
      "needs_background": "light"
     },
     "output_type": "display_data"
    }
   ],
   "source": [
    "map_df.merge(perc_free.to_frame().reset_index(), left_on='community', right_on='Geographic Cluster Name').plot(column.= )"
   ]
  },
  {
   "cell_type": "code",
   "execution_count": 158,
   "metadata": {},
   "outputs": [
    {
     "data": {
      "text/html": [
       "<div>\n",
       "<style scoped>\n",
       "    .dataframe tbody tr th:only-of-type {\n",
       "        vertical-align: middle;\n",
       "    }\n",
       "\n",
       "    .dataframe tbody tr th {\n",
       "        vertical-align: top;\n",
       "    }\n",
       "\n",
       "    .dataframe thead th {\n",
       "        text-align: right;\n",
       "    }\n",
       "</style>\n",
       "<table border=\"1\" class=\"dataframe\">\n",
       "  <thead>\n",
       "    <tr style=\"text-align: right;\">\n",
       "      <th></th>\n",
       "      <th>area</th>\n",
       "      <th>area_num_1</th>\n",
       "      <th>area_numbe</th>\n",
       "      <th>comarea</th>\n",
       "      <th>comarea_id</th>\n",
       "      <th>community</th>\n",
       "      <th>perimeter</th>\n",
       "      <th>shape_area</th>\n",
       "      <th>shape_len</th>\n",
       "      <th>geometry</th>\n",
       "      <th>Geographic Cluster Name</th>\n",
       "      <th>percentage_free_programs</th>\n",
       "    </tr>\n",
       "  </thead>\n",
       "  <tbody>\n",
       "    <tr>\n",
       "      <th>0</th>\n",
       "      <td>0.0</td>\n",
       "      <td>35</td>\n",
       "      <td>35</td>\n",
       "      <td>0.0</td>\n",
       "      <td>0.0</td>\n",
       "      <td>DOUGLAS</td>\n",
       "      <td>0.0</td>\n",
       "      <td>4.600462e+07</td>\n",
       "      <td>31027.054510</td>\n",
       "      <td>POLYGON ((-87.60914 41.84469, -87.60915 41.844...</td>\n",
       "      <td>DOUGLAS</td>\n",
       "      <td>0.587349</td>\n",
       "    </tr>\n",
       "    <tr>\n",
       "      <th>1</th>\n",
       "      <td>0.0</td>\n",
       "      <td>36</td>\n",
       "      <td>36</td>\n",
       "      <td>0.0</td>\n",
       "      <td>0.0</td>\n",
       "      <td>OAKLAND</td>\n",
       "      <td>0.0</td>\n",
       "      <td>1.691396e+07</td>\n",
       "      <td>19565.506153</td>\n",
       "      <td>POLYGON ((-87.59215 41.81693, -87.59231 41.816...</td>\n",
       "      <td>OAKLAND</td>\n",
       "      <td>0.239691</td>\n",
       "    </tr>\n",
       "    <tr>\n",
       "      <th>2</th>\n",
       "      <td>0.0</td>\n",
       "      <td>37</td>\n",
       "      <td>37</td>\n",
       "      <td>0.0</td>\n",
       "      <td>0.0</td>\n",
       "      <td>FULLER PARK</td>\n",
       "      <td>0.0</td>\n",
       "      <td>1.991670e+07</td>\n",
       "      <td>25339.089750</td>\n",
       "      <td>POLYGON ((-87.62880 41.80189, -87.62879 41.801...</td>\n",
       "      <td>FULLER PARK</td>\n",
       "      <td>0.502825</td>\n",
       "    </tr>\n",
       "    <tr>\n",
       "      <th>3</th>\n",
       "      <td>0.0</td>\n",
       "      <td>38</td>\n",
       "      <td>38</td>\n",
       "      <td>0.0</td>\n",
       "      <td>0.0</td>\n",
       "      <td>GRAND BOULEVARD</td>\n",
       "      <td>0.0</td>\n",
       "      <td>4.849250e+07</td>\n",
       "      <td>28196.837157</td>\n",
       "      <td>POLYGON ((-87.60671 41.81681, -87.60670 41.816...</td>\n",
       "      <td>GRAND BOULEVARD</td>\n",
       "      <td>0.608833</td>\n",
       "    </tr>\n",
       "    <tr>\n",
       "      <th>4</th>\n",
       "      <td>0.0</td>\n",
       "      <td>39</td>\n",
       "      <td>39</td>\n",
       "      <td>0.0</td>\n",
       "      <td>0.0</td>\n",
       "      <td>KENWOOD</td>\n",
       "      <td>0.0</td>\n",
       "      <td>2.907174e+07</td>\n",
       "      <td>23325.167906</td>\n",
       "      <td>POLYGON ((-87.59215 41.81693, -87.59215 41.816...</td>\n",
       "      <td>KENWOOD</td>\n",
       "      <td>0.628125</td>\n",
       "    </tr>\n",
       "  </tbody>\n",
       "</table>\n",
       "</div>"
      ],
      "text/plain": [
       "   area area_num_1 area_numbe  comarea  comarea_id        community  \\\n",
       "0   0.0         35         35      0.0         0.0          DOUGLAS   \n",
       "1   0.0         36         36      0.0         0.0          OAKLAND   \n",
       "2   0.0         37         37      0.0         0.0      FULLER PARK   \n",
       "3   0.0         38         38      0.0         0.0  GRAND BOULEVARD   \n",
       "4   0.0         39         39      0.0         0.0          KENWOOD   \n",
       "\n",
       "   perimeter    shape_area     shape_len  \\\n",
       "0        0.0  4.600462e+07  31027.054510   \n",
       "1        0.0  1.691396e+07  19565.506153   \n",
       "2        0.0  1.991670e+07  25339.089750   \n",
       "3        0.0  4.849250e+07  28196.837157   \n",
       "4        0.0  2.907174e+07  23325.167906   \n",
       "\n",
       "                                            geometry Geographic Cluster Name  \\\n",
       "0  POLYGON ((-87.60914 41.84469, -87.60915 41.844...                 DOUGLAS   \n",
       "1  POLYGON ((-87.59215 41.81693, -87.59231 41.816...                 OAKLAND   \n",
       "2  POLYGON ((-87.62880 41.80189, -87.62879 41.801...             FULLER PARK   \n",
       "3  POLYGON ((-87.60671 41.81681, -87.60670 41.816...         GRAND BOULEVARD   \n",
       "4  POLYGON ((-87.59215 41.81693, -87.59215 41.816...                 KENWOOD   \n",
       "\n",
       "   percentage_free_programs  \n",
       "0                  0.587349  \n",
       "1                  0.239691  \n",
       "2                  0.502825  \n",
       "3                  0.608833  \n",
       "4                  0.628125  "
      ]
     },
     "execution_count": 158,
     "metadata": {},
     "output_type": "execute_result"
    }
   ],
   "source": [
    "merge_df = map_df.merge(perc_free.to_frame().reset_index(), left_on='community', right_on='Geographic Cluster Name')\n",
    "merge_df.rename(columns = {0: \"percentage_free_programs\"}, inplace=True)\n",
    "merge_df.head()"
   ]
  },
  {
   "cell_type": "code",
   "execution_count": 162,
   "metadata": {},
   "outputs": [
    {
     "data": {
      "image/png": "[encoded data removed]",
      "text/plain": [
       "<Figure size 432x288 with 2 Axes>"
      ]
     },
     "metadata": {
      "needs_background": "light"
     },
     "output_type": "display_data"
    }
   ],
   "source": [
    "merge_df.plot(column=\"percentage_free_programs\", legend=True)\n",
    "plt.title(\"Percentage of Free Programs\")\n",
    "\n",
    "plt.show()"
   ]
  },
  {
   "cell_type": "code",
   "execution_count": 78,
   "metadata": {},
   "outputs": [
    {
     "data": {
      "image/png": "[encoded data removed]",
      "text/plain": [
       "<Figure size 432x288 with 2 Axes>"
      ]
     },
     "metadata": {
      "needs_background": "light"
     },
     "output_type": "display_data"
    }
   ],
   "source": [
    "# Make this into a function because typing repeatedly is tedious, copy paste is a lot of repeated code\n",
    "\n",
    "sch_df = (df.groupby(['Geographic Cluster Name', 'Program Has Scholarships']).size()/df.groupby(['Geographic Cluster Name']).size()).loc[:, 'NO']\n",
    "\n",
    "merge_df = map_df.merge(sch_df.to_frame().reset_index(), left_on='community', right_on='Geographic Cluster Name')\n",
    "merge_df.rename(columns = {0: \"scholarship percentage\"}, inplace=True)\n",
    "merge_df.head()\n",
    "\n",
    "merge_df.plot(column=\"scholarship percentage\", legend=True)\n",
    "plt.title(\"Percentage of Scholarship Programs\")\n",
    "plt.show()"
   ]
  },
  {
   "cell_type": "code",
   "execution_count": 79,
   "metadata": {},
   "outputs": [
    {
     "data": {
      "image/png": "[encoded data removed]",
      "text/plain": [
       "<Figure size 432x288 with 2 Axes>"
      ]
     },
     "metadata": {
      "needs_background": "light"
     },
     "output_type": "display_data"
    }
   ],
   "source": [
    "\n",
    "sch_df = (df.groupby(['Geographic Cluster Name', 'Meeting Type']).size()/df.groupby(['Geographic Cluster Name']).size()).loc[:, 'online']\n",
    "\n",
    "merge_df = map_df.merge(sch_df.to_frame().reset_index(), left_on='community', right_on='Geographic Cluster Name')\n",
    "merge_df.rename(columns = {0: \"scholarship percentage\"}, inplace=True)\n",
    "merge_df.head()\n",
    "\n",
    "merge_df.plot(column=\"scholarship percentage\", legend=True)\n",
    "plt.title(\"Percentage of Online Programs\")\n",
    "plt.show()"
   ]
  },
  {
   "cell_type": "code",
   "execution_count": 80,
   "metadata": {},
   "outputs": [
    {
     "data": {
      "image/png": "[encoded data removed]",
      "text/plain": [
       "<Figure size 432x288 with 2 Axes>"
      ]
     },
     "metadata": {
      "needs_background": "light"
     },
     "output_type": "display_data"
    }
   ],
   "source": [
    "transport_df = (df.groupby(['Geographic Cluster Name', 'Program Provides Transportation']).size()/df.groupby(['Geographic Cluster Name']).size()).loc[:, 'NO']\n",
    "transport_df = 1- transport_df \n",
    "transport_df\n",
    "merge_df = map_df.merge(transport_df.to_frame().reset_index(), left_on='community', right_on='Geographic Cluster Name')\n",
    "merge_df.rename(columns = {0: \"program provides transportation\"}, inplace=True)\n",
    "merge_df.head()\n",
    "\n",
    "merge_df.plot(column=\"program provides transportation\", missing_kwds = dict(color = \"lightgrey\"), legend=True)\n",
    "plt.title(\"Percentage of Programs that provide Transportation\")\n",
    "plt.show()"
   ]
  },
  {
   "cell_type": "code",
   "execution_count": 74,
   "metadata": {},
   "outputs": [
    {
     "name": "stdout",
     "output_type": "stream",
     "text": [
      "[161. 209. 202. 189. 112. 121.  20.]\n"
     ]
    }
   ],
   "source": [
    "import numpy as np\n",
    "\n",
    "sums = np.zeros(7)\n",
    "\n",
    "for i, scheduled_day in enumerate(['Scheduled Mon', 'Scheduled Tues', 'Scheduled Wed', 'Scheduled Thurs','Scheduled Fri', 'Scheduled Sat', 'Scheduled Sun']):\n",
    "    sums[i] = df[scheduled_day].sum()\n",
    "    \n",
    "print(sums)"
   ]
  },
  {
   "cell_type": "code",
   "execution_count": 76,
   "metadata": {},
   "outputs": [
    {
     "data": {
      "text/plain": [
       "<BarContainer object of 7 artists>"
      ]
     },
     "execution_count": 76,
     "metadata": {},
     "output_type": "execute_result"
    },
    {
     "data": {
      "image/png": "[encoded data removed]",
      "text/plain": [
       "<Figure size 432x288 with 1 Axes>"
      ]
     },
     "metadata": {
      "needs_background": "light"
     },
     "output_type": "display_data"
    }
   ],
   "source": [
    "plt.bar(x = ['Mon', 'Tues', 'Wed', 'Thurs','Fri', 'Sat', 'Sun'], height = sums)"
   ]
  },
  {
   "cell_type": "code",
   "execution_count": 66,
   "metadata": {},
   "outputs": [
    {
     "data": {
      "text/plain": [
       "Index(['IndexRow', 'Id', 'Logo Url', 'Program Name', 'Description', 'Org Name',\n",
       "       'Category Name', 'Capacity', 'Min Age', 'Max Age', 'Meeting Type',\n",
       "       'Address', 'City', 'State', 'Zipcode', 'Online Address', 'Program Url',\n",
       "       'Registration Url', 'Registration Open', 'Registration Deadline',\n",
       "       'Start Date', 'End Date', 'Start Time', 'End Time', 'Scheduled Mon',\n",
       "       'Scheduled Tues', 'Scheduled Fri', 'Scheduled Sat', 'Scheduled Sun',\n",
       "       'Scheduled Thurs', 'Scheduled Wed', 'Fri End Time', 'Fri Start Time',\n",
       "       'Mon End Time', 'Mon Start Time', 'Sat End Time', 'Sat Start Time',\n",
       "       'Sun End Time', 'Sun Start Time', 'Thurs End Time', 'Thurs Start Time',\n",
       "       'Tues End Time', 'Tues Start Time', 'Wed End Time', 'Wed Start Time',\n",
       "       'Contact Name', 'Contact Email', 'Contact Phone', 'Program Price',\n",
       "       'Geographic Cluster Name', 'Program Pays Participants',\n",
       "       'Program Has Scholarships', 'Program Provides Transportation',\n",
       "       'Latitude', 'Longitude', 'Program Provides Free Food'],\n",
       "      dtype='object')"
      ]
     },
     "execution_count": 66,
     "metadata": {},
     "output_type": "execute_result"
    }
   ],
   "source": [
    "df.columns"
   ]
  },
  {
   "cell_type": "code",
   "execution_count": null,
   "metadata": {},
   "outputs": [],
   "source": []
  }
 ],
 "metadata": {
  "kernelspec": {
   "display_name": "Python 3",
   "language": "python",
   "name": "python3"
  },
  "language_info": {
   "codemirror_mode": {
    "name": "ipython",
    "version": 3
   },
   "file_extension": ".py",
   "mimetype": "text/x-python",
   "name": "python",
   "nbconvert_exporter": "python",
   "pygments_lexer": "ipython3",
   "version": "3.8.3"
  }
 },
 "nbformat": 4,
 "nbformat_minor": 4
}
