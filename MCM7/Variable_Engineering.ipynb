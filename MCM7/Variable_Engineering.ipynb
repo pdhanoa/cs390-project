{
 "cells": [
  {
   "cell_type": "markdown",
   "id": "399396f5",
   "metadata": {},
   "source": [
    "### Imports"
   ]
  },
  {
   "cell_type": "code",
   "execution_count": 19,
   "id": "0a425893",
   "metadata": {},
   "outputs": [],
   "source": [
    "import pandas as pd\n",
    "import numpy as np"
   ]
  },
  {
   "cell_type": "markdown",
   "id": "7e7f97c7",
   "metadata": {},
   "source": [
    "### Data anlysis"
   ]
  },
  {
   "cell_type": "code",
   "execution_count": 3,
   "id": "da8f412d",
   "metadata": {
    "scrolled": false
   },
   "outputs": [
    {
     "name": "stderr",
     "output_type": "stream",
     "text": [
      "C:\\Users\\Arielle\\anaconda3\\lib\\site-packages\\IPython\\core\\interactiveshell.py:3444: DtypeWarning: Columns (14,28,37,38) have mixed types.Specify dtype option on import or set low_memory=False.\n",
      "  exec(code_obj, self.user_global_ns, self.user_ns)\n"
     ]
    },
    {
     "data": {
      "text/html": [
       "<div>\n",
       "<style scoped>\n",
       "    .dataframe tbody tr th:only-of-type {\n",
       "        vertical-align: middle;\n",
       "    }\n",
       "\n",
       "    .dataframe tbody tr th {\n",
       "        vertical-align: top;\n",
       "    }\n",
       "\n",
       "    .dataframe thead th {\n",
       "        text-align: right;\n",
       "    }\n",
       "</style>\n",
       "<table border=\"1\" class=\"dataframe\">\n",
       "  <thead>\n",
       "    <tr style=\"text-align: right;\">\n",
       "      <th></th>\n",
       "      <th>IndexRow</th>\n",
       "      <th>Id</th>\n",
       "      <th>Logo Url</th>\n",
       "      <th>Program Name</th>\n",
       "      <th>Description</th>\n",
       "      <th>Org Name</th>\n",
       "      <th>Category Name</th>\n",
       "      <th>Capacity</th>\n",
       "      <th>Min Age</th>\n",
       "      <th>Max Age</th>\n",
       "      <th>...</th>\n",
       "      <th>Contact Email</th>\n",
       "      <th>Contact Phone</th>\n",
       "      <th>Program Price</th>\n",
       "      <th>Geographic Cluster Name</th>\n",
       "      <th>Program Pays Participants</th>\n",
       "      <th>Program Has Scholarships</th>\n",
       "      <th>Program Provides Transportation</th>\n",
       "      <th>Latitude</th>\n",
       "      <th>Longitude</th>\n",
       "      <th>Program Provides Free Food</th>\n",
       "    </tr>\n",
       "  </thead>\n",
       "  <tbody>\n",
       "    <tr>\n",
       "      <th>0</th>\n",
       "      <td>4,568</td>\n",
       "      <td>78752</td>\n",
       "      <td>NaN</td>\n",
       "      <td>BBBS Community Based Mentoring (Year Round)</td>\n",
       "      <td>Community Based Mentoring is the traditional B...</td>\n",
       "      <td>Big Brothers Big Sisters</td>\n",
       "      <td>Academic Support</td>\n",
       "      <td>2000.0</td>\n",
       "      <td>7</td>\n",
       "      <td>15</td>\n",
       "      <td>...</td>\n",
       "      <td>recruitment@bbbschgo.org</td>\n",
       "      <td>NaN</td>\n",
       "      <td>Free</td>\n",
       "      <td>NEAR WEST SIDE</td>\n",
       "      <td>Not Paid</td>\n",
       "      <td>YES</td>\n",
       "      <td>YES</td>\n",
       "      <td>41.886002</td>\n",
       "      <td>-87.642403</td>\n",
       "      <td>False</td>\n",
       "    </tr>\n",
       "    <tr>\n",
       "      <th>1</th>\n",
       "      <td>4,569</td>\n",
       "      <td>78752</td>\n",
       "      <td>NaN</td>\n",
       "      <td>BBBS Community Based Mentoring (Year Round)</td>\n",
       "      <td>Community Based Mentoring is the traditional B...</td>\n",
       "      <td>Big Brothers Big Sisters</td>\n",
       "      <td>Work + Career</td>\n",
       "      <td>2000.0</td>\n",
       "      <td>7</td>\n",
       "      <td>15</td>\n",
       "      <td>...</td>\n",
       "      <td>recruitment@bbbschgo.org</td>\n",
       "      <td>NaN</td>\n",
       "      <td>Free</td>\n",
       "      <td>NEAR WEST SIDE</td>\n",
       "      <td>Not Paid</td>\n",
       "      <td>YES</td>\n",
       "      <td>YES</td>\n",
       "      <td>41.886002</td>\n",
       "      <td>-87.642403</td>\n",
       "      <td>False</td>\n",
       "    </tr>\n",
       "    <tr>\n",
       "      <th>2</th>\n",
       "      <td>4,562</td>\n",
       "      <td>78749</td>\n",
       "      <td>https://cityoflearning-uploads.s3.amazonaws.co...</td>\n",
       "      <td>Youth Mentoring and Academic Supports</td>\n",
       "      <td>Young Men's Educational Network provides mento...</td>\n",
       "      <td>Youth Mentoring and Academic Supports</td>\n",
       "      <td>Academic Support</td>\n",
       "      <td>100.0</td>\n",
       "      <td>12</td>\n",
       "      <td>18</td>\n",
       "      <td>...</td>\n",
       "      <td>wchatman@ymenchicago.com</td>\n",
       "      <td>NaN</td>\n",
       "      <td>Free</td>\n",
       "      <td>NORTH LAWNDALE</td>\n",
       "      <td>Not Paid</td>\n",
       "      <td>NO</td>\n",
       "      <td>NO</td>\n",
       "      <td>41.864799</td>\n",
       "      <td>-87.724800</td>\n",
       "      <td>True</td>\n",
       "    </tr>\n",
       "    <tr>\n",
       "      <th>3</th>\n",
       "      <td>4,563</td>\n",
       "      <td>78749</td>\n",
       "      <td>https://cityoflearning-uploads.s3.amazonaws.co...</td>\n",
       "      <td>Youth Mentoring and Academic Supports</td>\n",
       "      <td>Young Men's Educational Network provides mento...</td>\n",
       "      <td>Youth Mentoring and Academic Supports</td>\n",
       "      <td>Music &amp; Art.</td>\n",
       "      <td>100.0</td>\n",
       "      <td>12</td>\n",
       "      <td>18</td>\n",
       "      <td>...</td>\n",
       "      <td>wchatman@ymenchicago.com</td>\n",
       "      <td>NaN</td>\n",
       "      <td>Free</td>\n",
       "      <td>NORTH LAWNDALE</td>\n",
       "      <td>Not Paid</td>\n",
       "      <td>NO</td>\n",
       "      <td>NO</td>\n",
       "      <td>41.864799</td>\n",
       "      <td>-87.724800</td>\n",
       "      <td>True</td>\n",
       "    </tr>\n",
       "    <tr>\n",
       "      <th>4</th>\n",
       "      <td>4,557</td>\n",
       "      <td>78746</td>\n",
       "      <td>https://cityoflearning-uploads.s3.amazonaws.co...</td>\n",
       "      <td>Refugee Youth Career Pathways</td>\n",
       "      <td>Refugee Youth Career Pathways (RYCP) provides ...</td>\n",
       "      <td>RefugeeOne</td>\n",
       "      <td>Managing Money.</td>\n",
       "      <td>15.0</td>\n",
       "      <td>16</td>\n",
       "      <td>24</td>\n",
       "      <td>...</td>\n",
       "      <td>NaN</td>\n",
       "      <td>NaN</td>\n",
       "      <td>Free</td>\n",
       "      <td>NaN</td>\n",
       "      <td>Not Paid</td>\n",
       "      <td>YES</td>\n",
       "      <td>YES</td>\n",
       "      <td>NaN</td>\n",
       "      <td>NaN</td>\n",
       "      <td>False</td>\n",
       "    </tr>\n",
       "  </tbody>\n",
       "</table>\n",
       "<p>5 rows × 56 columns</p>\n",
       "</div>"
      ],
      "text/plain": [
       "  IndexRow     Id                                           Logo Url  \\\n",
       "0    4,568  78752                                                NaN   \n",
       "1    4,569  78752                                                NaN   \n",
       "2    4,562  78749  https://cityoflearning-uploads.s3.amazonaws.co...   \n",
       "3    4,563  78749  https://cityoflearning-uploads.s3.amazonaws.co...   \n",
       "4    4,557  78746  https://cityoflearning-uploads.s3.amazonaws.co...   \n",
       "\n",
       "                                  Program Name  \\\n",
       "0  BBBS Community Based Mentoring (Year Round)   \n",
       "1  BBBS Community Based Mentoring (Year Round)   \n",
       "2        Youth Mentoring and Academic Supports   \n",
       "3        Youth Mentoring and Academic Supports   \n",
       "4                Refugee Youth Career Pathways   \n",
       "\n",
       "                                         Description  \\\n",
       "0  Community Based Mentoring is the traditional B...   \n",
       "1  Community Based Mentoring is the traditional B...   \n",
       "2  Young Men's Educational Network provides mento...   \n",
       "3  Young Men's Educational Network provides mento...   \n",
       "4  Refugee Youth Career Pathways (RYCP) provides ...   \n",
       "\n",
       "                                Org Name     Category Name  Capacity  Min Age  \\\n",
       "0               Big Brothers Big Sisters  Academic Support    2000.0        7   \n",
       "1               Big Brothers Big Sisters    Work + Career     2000.0        7   \n",
       "2  Youth Mentoring and Academic Supports  Academic Support     100.0       12   \n",
       "3  Youth Mentoring and Academic Supports      Music & Art.     100.0       12   \n",
       "4                             RefugeeOne   Managing Money.      15.0       16   \n",
       "\n",
       "   Max Age  ...             Contact Email Contact Phone Program Price  \\\n",
       "0       15  ...  recruitment@bbbschgo.org           NaN          Free   \n",
       "1       15  ...  recruitment@bbbschgo.org           NaN          Free   \n",
       "2       18  ...  wchatman@ymenchicago.com           NaN          Free   \n",
       "3       18  ...  wchatman@ymenchicago.com           NaN          Free   \n",
       "4       24  ...                       NaN           NaN          Free   \n",
       "\n",
       "  Geographic Cluster Name Program Pays Participants Program Has Scholarships  \\\n",
       "0          NEAR WEST SIDE                  Not Paid                      YES   \n",
       "1          NEAR WEST SIDE                  Not Paid                      YES   \n",
       "2          NORTH LAWNDALE                  Not Paid                       NO   \n",
       "3          NORTH LAWNDALE                  Not Paid                       NO   \n",
       "4                     NaN                  Not Paid                      YES   \n",
       "\n",
       "  Program Provides Transportation   Latitude  Longitude  \\\n",
       "0                             YES  41.886002 -87.642403   \n",
       "1                             YES  41.886002 -87.642403   \n",
       "2                              NO  41.864799 -87.724800   \n",
       "3                              NO  41.864799 -87.724800   \n",
       "4                             YES        NaN        NaN   \n",
       "\n",
       "  Program Provides Free Food  \n",
       "0                      False  \n",
       "1                      False  \n",
       "2                       True  \n",
       "3                       True  \n",
       "4                      False  \n",
       "\n",
       "[5 rows x 56 columns]"
      ]
     },
     "execution_count": 3,
     "metadata": {},
     "output_type": "execute_result"
    }
   ],
   "source": [
    "data = pd.read_csv('data.csv')\n",
    "data.head()"
   ]
  },
  {
   "cell_type": "code",
   "execution_count": 4,
   "id": "450670be",
   "metadata": {},
   "outputs": [
    {
     "data": {
      "text/plain": [
       "Index(['IndexRow', 'Id', 'Logo Url', 'Program Name', 'Description', 'Org Name',\n",
       "       'Category Name', 'Capacity', 'Min Age', 'Max Age', 'Meeting Type',\n",
       "       'Address', 'City', 'State', 'Zipcode', 'Online Address', 'Program Url',\n",
       "       'Registration Url', 'Registration Open', 'Registration Deadline',\n",
       "       'Start Date', 'End Date', 'Start Time', 'End Time', 'Scheduled Mon',\n",
       "       'Scheduled Tues', 'Scheduled Fri', 'Scheduled Sat', 'Scheduled Sun',\n",
       "       'Scheduled Thurs', 'Scheduled Wed', 'Fri End Time', 'Fri Start Time',\n",
       "       'Mon End Time', 'Mon Start Time', 'Sat End Time', 'Sat Start Time',\n",
       "       'Sun End Time', 'Sun Start Time', 'Thurs End Time', 'Thurs Start Time',\n",
       "       'Tues End Time', 'Tues Start Time', 'Wed End Time', 'Wed Start Time',\n",
       "       'Contact Name', 'Contact Email', 'Contact Phone', 'Program Price',\n",
       "       'Geographic Cluster Name', 'Program Pays Participants',\n",
       "       'Program Has Scholarships', 'Program Provides Transportation',\n",
       "       'Latitude', 'Longitude', 'Program Provides Free Food'],\n",
       "      dtype='object')"
      ]
     },
     "execution_count": 4,
     "metadata": {},
     "output_type": "execute_result"
    }
   ],
   "source": [
    "data.columns"
   ]
  },
  {
   "cell_type": "code",
   "execution_count": 16,
   "id": "17a4054c",
   "metadata": {},
   "outputs": [
    {
     "data": {
      "text/plain": [
       "True    161\n",
       "Name: Scheduled Mon, dtype: int64"
      ]
     },
     "execution_count": 16,
     "metadata": {},
     "output_type": "execute_result"
    }
   ],
   "source": [
    "data['Scheduled Mon'].value_counts()"
   ]
  },
  {
   "cell_type": "markdown",
   "id": "90e99373",
   "metadata": {},
   "source": [
    "Possible variables:\n",
    "- weekday y/n\n",
    "- during school hours y/n\n",
    "- during work hours y/n\n",
    "- age range width: kids, tweens, teens, young adults\n",
    "- registration availability length \n",
    "- (if data possible from URL) registered on app or website "
   ]
  },
  {
   "cell_type": "code",
   "execution_count": null,
   "id": "fa8f4839",
   "metadata": {},
   "outputs": [],
   "source": []
  },
  {
   "cell_type": "code",
   "execution_count": 8,
   "id": "c8234714",
   "metadata": {},
   "outputs": [
    {
     "data": {
      "text/plain": [
       "78752"
      ]
     },
     "execution_count": 8,
     "metadata": {},
     "output_type": "execute_result"
    }
   ],
   "source": [
    "data.iloc[1,1]"
   ]
  },
  {
   "cell_type": "code",
   "execution_count": 10,
   "id": "f4330f94",
   "metadata": {},
   "outputs": [
    {
     "data": {
      "text/plain": [
       "str"
      ]
     },
     "execution_count": 10,
     "metadata": {},
     "output_type": "execute_result"
    }
   ],
   "source": [
    "type(data.iloc[1,18])"
   ]
  },
  {
   "cell_type": "code",
   "execution_count": 13,
   "id": "100abf04",
   "metadata": {},
   "outputs": [],
   "source": [
    "#cleaning to engineer time related variables\n",
    "data['start_date'] = pd.to_datetime(data['Start Date'])\n",
    "data['end_date'] = pd.to_datetime(data['End Date'])\n",
    "data['registration_open'] = pd.to_datetime(data['Registration Open'])\n",
    "data['registration_close'] = pd.to_datetime(data['Registration Deadline'])\n",
    "data['start_time'] = pd.to_datetime(data['Start Time'])\n",
    "data['end_time'] = pd.to_datetime(data['End Time'])"
   ]
  },
  {
   "cell_type": "code",
   "execution_count": 17,
   "id": "c07de049",
   "metadata": {},
   "outputs": [],
   "source": [
    "#creating temporal variables \n",
    "data['program_daily_len'] = data['end_time'] - data['start_time']\n",
    "data['registration_len'] = data['registration_close'] - data['registration_open']\n",
    "data['program_len'] = data['end_date']-data['start_date']\n",
    "data['registration_to_start_len'] = data['start_date'] -data['registration_close']\n",
    "\n"
   ]
  },
  {
   "cell_type": "code",
   "execution_count": 29,
   "id": "698ed38e",
   "metadata": {},
   "outputs": [],
   "source": [
    "data['during_weekend'] = np.where((data['Scheduled Sat'] == True) | (data['Scheduled Sun']==True), 1, 0)\n",
    "\n",
    "\n",
    "data['during_weekday'] = np.where(((data['Scheduled Mon'] ==True) | \n",
    "                                        (data['Scheduled Tues'] == True) | \n",
    "                                        (data['Scheduled Fri'] == True) | \n",
    "                                        (data['Scheduled Thurs']==True) |\n",
    "                                        (data['Scheduled Wed']==True)),1, 0)\n",
    "\n",
    "\n",
    "\n",
    "data['full_week'] = np.where((data['during_weekday'] == 1) & (data['during_weekend'] == 1), 1, 0)\n",
    "\n",
    "\n"
   ]
  },
  {
   "cell_type": "code",
   "execution_count": 46,
   "id": "c783828c",
   "metadata": {},
   "outputs": [],
   "source": [
    "#data['interrupts_workday'] = np.where((data['during_weekday'] == 1) & \n",
    "#                                      (((data['start_time'].hour> 9) & (data['start_time'].hour < 17)) | ((data['end_time'].hour > 9) & (data['end_time'].hour < 17))),\n",
    "#                                     1,0)\n",
    "                             \n",
    "\n",
    "#data['interrupts_workday'] = data.apply(lambda x: if )\n",
    "\n",
    "\n",
    "\n",
    "\n",
    "\n",
    "data['interrupts_workday'] = 0\n",
    "\n",
    "for i in range(data.shape[0]):\n",
    "    if data.loc[i,'during_weekday'] == 1:\n",
    "        if (((data.loc[i,'start_time'].hour> 9) & (data.loc[i,'start_time'].hour < 17)) | \n",
    "            ((data.loc[i,'end_time'].hour > 9) & (data.loc[i,'end_time'].hour < 17))):\n",
    "            data.loc[i,'interrupts_workday'] = 1\n",
    "        \n"
   ]
  },
  {
   "cell_type": "code",
   "execution_count": 48,
   "id": "cab130ca",
   "metadata": {},
   "outputs": [],
   "source": [
    "data['age_range'] = data['Max Age'] - data['Min Age']"
   ]
  },
  {
   "cell_type": "code",
   "execution_count": 53,
   "id": "dfd12761",
   "metadata": {},
   "outputs": [],
   "source": [
    "#kids <= 10\n",
    "#tweens 11,12,13\n",
    "#teens 14-19\n",
    "#young adults >=20\n",
    "\n",
    "data['supports_kids'] = np.where((data['Min Age'] < 10), 1, 0)\n",
    "data['supports_tweens'] = np.where((data['Min Age'] <13) & (data['Max Age']>11), 1, 0)\n",
    "data['supports_young_adults'] = np.where((data['Max Age'] > 20),1,0)\n",
    "data['supports_teens'] = np.where((data['Min Age'] < 20) & (data['Max Age'] > 13),1,0)"
   ]
  },
  {
   "cell_type": "code",
   "execution_count": 54,
   "id": "9ff0f217",
   "metadata": {},
   "outputs": [],
   "source": [
    "\n",
    "data['during_school_hours'] = 0\n",
    "\n",
    "for i in range(data.shape[0]):\n",
    "    if data.loc[i,'during_weekday'] == 1:\n",
    "        if (((data.loc[i,'start_time'].hour> 8) & (data.loc[i,'start_time'].hour < 15)) | \n",
    "            ((data.loc[i,'end_time'].hour > 8) & (data.loc[i,'end_time'].hour < 15))):\n",
    "            data.loc[i,'during_school_hours'] = 1\n",
    "        "
   ]
  },
  {
   "cell_type": "code",
   "execution_count": null,
   "id": "08e9cf4a",
   "metadata": {},
   "outputs": [],
   "source": []
  }
 ],
 "metadata": {
  "kernelspec": {
   "display_name": "Python 3 (ipykernel)",
   "language": "python",
   "name": "python3"
  },
  "language_info": {
   "codemirror_mode": {
    "name": "ipython",
    "version": 3
   },
   "file_extension": ".py",
   "mimetype": "text/x-python",
   "name": "python",
   "nbconvert_exporter": "python",
   "pygments_lexer": "ipython3",
   "version": "3.10.11"
  }
 },
 "nbformat": 4,
 "nbformat_minor": 5
}
